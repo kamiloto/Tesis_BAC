{
 "cells": [
  {
   "cell_type": "markdown",
   "metadata": {},
   "source": [
    "## <span style=\"color:orange\"> Universidad de los Andes </span>\n",
    "\n",
    "## Maestría en Inteligencia Analítica para la Toma de Desiciones\n",
    "\n"
   ]
  },
  {
   "cell_type": "markdown",
   "metadata": {},
   "source": [
    "En este notebook se implementan diferentes algorítmos y modelos para resolver el problema conocido como **Churn**, para identificar los clientes con problabilidad de deserción, es decir que cancelen los productos que actualmente tienen en una entidad financiera "
   ]
  },
  {
   "cell_type": "markdown",
   "metadata": {},
   "source": [
    "### Cargamos los diferentes algotígmos y modelos"
   ]
  },
  {
   "cell_type": "code",
   "execution_count": 1,
   "metadata": {
    "scrolled": true
   },
   "outputs": [
    {
     "name": "stderr",
     "output_type": "stream",
     "text": [
      "C:\\Users\\camiloto\\AppData\\Local\\Continuum\\anaconda3\\lib\\site-packages\\sklearn\\cross_validation.py:41: DeprecationWarning: This module was deprecated in version 0.18 in favor of the model_selection module into which all the refactored classes and functions are moved. Also note that the interface of the new CV iterators are different from that of this module. This module will be removed in 0.20.\n",
      "  \"This module will be removed in 0.20.\", DeprecationWarning)\n",
      "C:\\Users\\camiloto\\AppData\\Local\\Continuum\\anaconda3\\lib\\site-packages\\h5py\\__init__.py:36: FutureWarning: Conversion of the second argument of issubdtype from `float` to `np.floating` is deprecated. In future, it will be treated as `np.float64 == np.dtype(float).type`.\n",
      "  from ._conv import register_converters as _register_converters\n",
      "Using TensorFlow backend.\n"
     ]
    }
   ],
   "source": [
    "import numpy as np\n",
    "import pandas as pd\n",
    "import os\n",
    "from matplotlib import pyplot as plt\n",
    "%matplotlib inline\n",
    "from matplotlib import pyplot\n",
    "import seaborn as sb\n",
    "import sklearn\n",
    "from sklearn.model_selection import train_test_split\n",
    "from sklearn.cross_validation import train_test_split\n",
    "from sklearn.linear_model import LogisticRegression\n",
    "from sklearn.ensemble import RandomForestClassifier\n",
    "from pandas import Series, DataFrame\n",
    "from pylab import rcParams\n",
    "from sklearn import preprocessing\n",
    "from sklearn import svm\n",
    "from sklearn import metrics\n",
    "from sklearn.metrics import accuracy_score, roc_curve,roc_auc_score, auc, confusion_matrix, mean_squared_error, r2_score, classification_report\n",
    "from livelossplot import PlotLossesKeras\n",
    "from sklearn.decomposition import PCA\n",
    "from sklearn.model_selection import KFold\n"
   ]
  },
  {
   "cell_type": "markdown",
   "metadata": {},
   "source": [
    "## 1.  Tratamiento inicial de los datos"
   ]
  },
  {
   "cell_type": "code",
   "execution_count": 2,
   "metadata": {
    "scrolled": true
   },
   "outputs": [
    {
     "name": "stderr",
     "output_type": "stream",
     "text": [
      "C:\\Users\\camiloto\\AppData\\Local\\Continuum\\anaconda3\\lib\\site-packages\\IPython\\core\\interactiveshell.py:2728: DtypeWarning: Columns (667) have mixed types. Specify dtype option on import or set low_memory=False.\n",
      "  interactivity=interactivity, compiler=compiler, result=result)\n"
     ]
    }
   ],
   "source": [
    "path=  '../Codigo/'\n",
    "datos = pd.read_csv(os.path.join(path,'BD/BD_SEED','Muestra_Anual_Seed_12_T70_30.txt'), sep='|' , encoding='latin-1', decimal=\".\")"
   ]
  },
  {
   "cell_type": "code",
   "execution_count": 3,
   "metadata": {
    "scrolled": true
   },
   "outputs": [
    {
     "data": {
      "text/plain": [
       "Target\n",
       "0    75564\n",
       "1    32384\n",
       "Name: consecutivo, dtype: int64"
      ]
     },
     "execution_count": 3,
     "metadata": {},
     "output_type": "execute_result"
    }
   ],
   "source": [
    "datos.groupby('Target')['consecutivo'].count()"
   ]
  },
  {
   "cell_type": "code",
   "execution_count": 4,
   "metadata": {
    "scrolled": false
   },
   "outputs": [
    {
     "data": {
      "text/html": [
       "<div>\n",
       "<style scoped>\n",
       "    .dataframe tbody tr th:only-of-type {\n",
       "        vertical-align: middle;\n",
       "    }\n",
       "\n",
       "    .dataframe tbody tr th {\n",
       "        vertical-align: top;\n",
       "    }\n",
       "\n",
       "    .dataframe thead th {\n",
       "        text-align: right;\n",
       "    }\n",
       "</style>\n",
       "<table border=\"1\" class=\"dataframe\">\n",
       "  <thead>\n",
       "    <tr style=\"text-align: right;\">\n",
       "      <th></th>\n",
       "      <th>consecutivo</th>\n",
       "      <th>N_CART_CRED_1</th>\n",
       "      <th>N_CART_CRED_2</th>\n",
       "      <th>N_CART_CRED_3</th>\n",
       "      <th>N_CART_CRED_4</th>\n",
       "      <th>N_CART_CRED_5</th>\n",
       "      <th>N_CART_CRED_6</th>\n",
       "      <th>N_CART_CRED_7</th>\n",
       "      <th>N_CART_CRED_8</th>\n",
       "      <th>N_CART_CRED_9</th>\n",
       "      <th>...</th>\n",
       "      <th>REGIONAL</th>\n",
       "      <th>Municipio_DANE</th>\n",
       "      <th>Departamento_DANE</th>\n",
       "      <th>Competencia</th>\n",
       "      <th>Ruralidad</th>\n",
       "      <th>Poblacion_Mpio</th>\n",
       "      <th>Postconflicto</th>\n",
       "      <th>Victima</th>\n",
       "      <th>SEGURO</th>\n",
       "      <th>Target</th>\n",
       "    </tr>\n",
       "  </thead>\n",
       "  <tbody>\n",
       "    <tr>\n",
       "      <th>0</th>\n",
       "      <td>26662</td>\n",
       "      <td>1</td>\n",
       "      <td>1</td>\n",
       "      <td>1</td>\n",
       "      <td>1</td>\n",
       "      <td>1</td>\n",
       "      <td>1</td>\n",
       "      <td>1</td>\n",
       "      <td>1</td>\n",
       "      <td>1</td>\n",
       "      <td>...</td>\n",
       "      <td>BOGOTA</td>\n",
       "      <td>San Juan de Río Seco</td>\n",
       "      <td>Cundinamarca</td>\n",
       "      <td>Sin_Competencia</td>\n",
       "      <td>Rural</td>\n",
       "      <td>9670</td>\n",
       "      <td>N</td>\n",
       "      <td>N</td>\n",
       "      <td>N</td>\n",
       "      <td>1</td>\n",
       "    </tr>\n",
       "    <tr>\n",
       "      <th>1</th>\n",
       "      <td>33311</td>\n",
       "      <td>1</td>\n",
       "      <td>1</td>\n",
       "      <td>1</td>\n",
       "      <td>1</td>\n",
       "      <td>1</td>\n",
       "      <td>1</td>\n",
       "      <td>1</td>\n",
       "      <td>1</td>\n",
       "      <td>1</td>\n",
       "      <td>...</td>\n",
       "      <td>BOGOTA</td>\n",
       "      <td>Guayabal de Siquima</td>\n",
       "      <td>Cundinamarca</td>\n",
       "      <td>Sin_Competencia</td>\n",
       "      <td>Rural</td>\n",
       "      <td>3659</td>\n",
       "      <td>S</td>\n",
       "      <td>N</td>\n",
       "      <td>N</td>\n",
       "      <td>1</td>\n",
       "    </tr>\n",
       "    <tr>\n",
       "      <th>2</th>\n",
       "      <td>45533</td>\n",
       "      <td>0</td>\n",
       "      <td>0</td>\n",
       "      <td>0</td>\n",
       "      <td>0</td>\n",
       "      <td>0</td>\n",
       "      <td>0</td>\n",
       "      <td>0</td>\n",
       "      <td>0</td>\n",
       "      <td>0</td>\n",
       "      <td>...</td>\n",
       "      <td>BOGOTA</td>\n",
       "      <td>San Francisco</td>\n",
       "      <td>Cundinamarca</td>\n",
       "      <td>Sin_Competencia</td>\n",
       "      <td>Intermedio</td>\n",
       "      <td>10011</td>\n",
       "      <td>N</td>\n",
       "      <td>N</td>\n",
       "      <td>N</td>\n",
       "      <td>1</td>\n",
       "    </tr>\n",
       "    <tr>\n",
       "      <th>3</th>\n",
       "      <td>50364</td>\n",
       "      <td>1</td>\n",
       "      <td>1</td>\n",
       "      <td>1</td>\n",
       "      <td>1</td>\n",
       "      <td>1</td>\n",
       "      <td>1</td>\n",
       "      <td>1</td>\n",
       "      <td>1</td>\n",
       "      <td>1</td>\n",
       "      <td>...</td>\n",
       "      <td>BOGOTA</td>\n",
       "      <td>Villa de San Diego de Ubate</td>\n",
       "      <td>Cundinamarca</td>\n",
       "      <td>Media</td>\n",
       "      <td>Intermedio</td>\n",
       "      <td>39393</td>\n",
       "      <td>N</td>\n",
       "      <td>N</td>\n",
       "      <td>N</td>\n",
       "      <td>1</td>\n",
       "    </tr>\n",
       "    <tr>\n",
       "      <th>4</th>\n",
       "      <td>56561</td>\n",
       "      <td>1</td>\n",
       "      <td>1</td>\n",
       "      <td>1</td>\n",
       "      <td>1</td>\n",
       "      <td>1</td>\n",
       "      <td>1</td>\n",
       "      <td>1</td>\n",
       "      <td>1</td>\n",
       "      <td>1</td>\n",
       "      <td>...</td>\n",
       "      <td>BOGOTA</td>\n",
       "      <td>Viotá</td>\n",
       "      <td>Cundinamarca</td>\n",
       "      <td>Sin_Competencia</td>\n",
       "      <td>Intermedio</td>\n",
       "      <td>13328</td>\n",
       "      <td>S</td>\n",
       "      <td>S</td>\n",
       "      <td>N</td>\n",
       "      <td>1</td>\n",
       "    </tr>\n",
       "    <tr>\n",
       "      <th>5</th>\n",
       "      <td>60231</td>\n",
       "      <td>0</td>\n",
       "      <td>0</td>\n",
       "      <td>0</td>\n",
       "      <td>0</td>\n",
       "      <td>0</td>\n",
       "      <td>0</td>\n",
       "      <td>0</td>\n",
       "      <td>0</td>\n",
       "      <td>0</td>\n",
       "      <td>...</td>\n",
       "      <td>BOGOTA</td>\n",
       "      <td>Puerto Carreño</td>\n",
       "      <td>Vichada</td>\n",
       "      <td>Baja</td>\n",
       "      <td>Rural disperso</td>\n",
       "      <td>16504</td>\n",
       "      <td>N</td>\n",
       "      <td>N</td>\n",
       "      <td>N</td>\n",
       "      <td>1</td>\n",
       "    </tr>\n",
       "    <tr>\n",
       "      <th>6</th>\n",
       "      <td>67736</td>\n",
       "      <td>0</td>\n",
       "      <td>0</td>\n",
       "      <td>0</td>\n",
       "      <td>0</td>\n",
       "      <td>0</td>\n",
       "      <td>0</td>\n",
       "      <td>0</td>\n",
       "      <td>0</td>\n",
       "      <td>0</td>\n",
       "      <td>...</td>\n",
       "      <td>ANTIOQUIA</td>\n",
       "      <td>Armenia</td>\n",
       "      <td>Antioquia</td>\n",
       "      <td>Sin_Competencia</td>\n",
       "      <td>Rural</td>\n",
       "      <td>3945</td>\n",
       "      <td>N</td>\n",
       "      <td>N</td>\n",
       "      <td>N</td>\n",
       "      <td>1</td>\n",
       "    </tr>\n",
       "    <tr>\n",
       "      <th>7</th>\n",
       "      <td>93903</td>\n",
       "      <td>0</td>\n",
       "      <td>0</td>\n",
       "      <td>0</td>\n",
       "      <td>0</td>\n",
       "      <td>0</td>\n",
       "      <td>0</td>\n",
       "      <td>0</td>\n",
       "      <td>0</td>\n",
       "      <td>0</td>\n",
       "      <td>...</td>\n",
       "      <td>ANTIOQUIA</td>\n",
       "      <td>Puerto Boyacá</td>\n",
       "      <td>Boyacá</td>\n",
       "      <td>Media</td>\n",
       "      <td>Intermedio</td>\n",
       "      <td>56517</td>\n",
       "      <td>N</td>\n",
       "      <td>N</td>\n",
       "      <td>N</td>\n",
       "      <td>1</td>\n",
       "    </tr>\n",
       "    <tr>\n",
       "      <th>8</th>\n",
       "      <td>96626</td>\n",
       "      <td>0</td>\n",
       "      <td>0</td>\n",
       "      <td>0</td>\n",
       "      <td>0</td>\n",
       "      <td>0</td>\n",
       "      <td>0</td>\n",
       "      <td>0</td>\n",
       "      <td>0</td>\n",
       "      <td>0</td>\n",
       "      <td>...</td>\n",
       "      <td>SANTANDERES</td>\n",
       "      <td>Bucaramanga</td>\n",
       "      <td>Santander</td>\n",
       "      <td>Alta</td>\n",
       "      <td>Ciudades y aglomeraciones</td>\n",
       "      <td>528683</td>\n",
       "      <td>N</td>\n",
       "      <td>S</td>\n",
       "      <td>N</td>\n",
       "      <td>1</td>\n",
       "    </tr>\n",
       "    <tr>\n",
       "      <th>9</th>\n",
       "      <td>102445</td>\n",
       "      <td>0</td>\n",
       "      <td>0</td>\n",
       "      <td>0</td>\n",
       "      <td>0</td>\n",
       "      <td>0</td>\n",
       "      <td>0</td>\n",
       "      <td>0</td>\n",
       "      <td>0</td>\n",
       "      <td>0</td>\n",
       "      <td>...</td>\n",
       "      <td>ORIENTE</td>\n",
       "      <td>Belén</td>\n",
       "      <td>Boyacá</td>\n",
       "      <td>Sin_Competencia</td>\n",
       "      <td>Intermedio</td>\n",
       "      <td>6966</td>\n",
       "      <td>N</td>\n",
       "      <td>N</td>\n",
       "      <td>N</td>\n",
       "      <td>1</td>\n",
       "    </tr>\n",
       "  </tbody>\n",
       "</table>\n",
       "<p>10 rows × 688 columns</p>\n",
       "</div>"
      ],
      "text/plain": [
       "   consecutivo  N_CART_CRED_1  N_CART_CRED_2  N_CART_CRED_3  N_CART_CRED_4  \\\n",
       "0        26662              1              1              1              1   \n",
       "1        33311              1              1              1              1   \n",
       "2        45533              0              0              0              0   \n",
       "3        50364              1              1              1              1   \n",
       "4        56561              1              1              1              1   \n",
       "5        60231              0              0              0              0   \n",
       "6        67736              0              0              0              0   \n",
       "7        93903              0              0              0              0   \n",
       "8        96626              0              0              0              0   \n",
       "9       102445              0              0              0              0   \n",
       "\n",
       "   N_CART_CRED_5  N_CART_CRED_6  N_CART_CRED_7  N_CART_CRED_8  N_CART_CRED_9  \\\n",
       "0              1              1              1              1              1   \n",
       "1              1              1              1              1              1   \n",
       "2              0              0              0              0              0   \n",
       "3              1              1              1              1              1   \n",
       "4              1              1              1              1              1   \n",
       "5              0              0              0              0              0   \n",
       "6              0              0              0              0              0   \n",
       "7              0              0              0              0              0   \n",
       "8              0              0              0              0              0   \n",
       "9              0              0              0              0              0   \n",
       "\n",
       "    ...       REGIONAL               Municipio_DANE  Departamento_DANE  \\\n",
       "0   ...         BOGOTA         San Juan de Río Seco       Cundinamarca   \n",
       "1   ...         BOGOTA          Guayabal de Siquima       Cundinamarca   \n",
       "2   ...         BOGOTA                San Francisco       Cundinamarca   \n",
       "3   ...         BOGOTA  Villa de San Diego de Ubate       Cundinamarca   \n",
       "4   ...         BOGOTA                        Viotá       Cundinamarca   \n",
       "5   ...         BOGOTA               Puerto Carreño            Vichada   \n",
       "6   ...      ANTIOQUIA                      Armenia          Antioquia   \n",
       "7   ...      ANTIOQUIA                Puerto Boyacá             Boyacá   \n",
       "8   ...    SANTANDERES                  Bucaramanga          Santander   \n",
       "9   ...        ORIENTE                        Belén             Boyacá   \n",
       "\n",
       "       Competencia                  Ruralidad  Poblacion_Mpio  Postconflicto  \\\n",
       "0  Sin_Competencia                      Rural            9670              N   \n",
       "1  Sin_Competencia                      Rural            3659              S   \n",
       "2  Sin_Competencia                 Intermedio           10011              N   \n",
       "3            Media                 Intermedio           39393              N   \n",
       "4  Sin_Competencia                 Intermedio           13328              S   \n",
       "5             Baja             Rural disperso           16504              N   \n",
       "6  Sin_Competencia                      Rural            3945              N   \n",
       "7            Media                 Intermedio           56517              N   \n",
       "8             Alta  Ciudades y aglomeraciones          528683              N   \n",
       "9  Sin_Competencia                 Intermedio            6966              N   \n",
       "\n",
       "   Victima  SEGURO  Target  \n",
       "0        N       N       1  \n",
       "1        N       N       1  \n",
       "2        N       N       1  \n",
       "3        N       N       1  \n",
       "4        S       N       1  \n",
       "5        N       N       1  \n",
       "6        N       N       1  \n",
       "7        N       N       1  \n",
       "8        S       N       1  \n",
       "9        N       N       1  \n",
       "\n",
       "[10 rows x 688 columns]"
      ]
     },
     "execution_count": 4,
     "metadata": {},
     "output_type": "execute_result"
    }
   ],
   "source": [
    "datos.head(10)"
   ]
  },
  {
   "cell_type": "code",
   "execution_count": 5,
   "metadata": {
    "scrolled": true
   },
   "outputs": [
    {
     "data": {
      "text/plain": [
       "0                San Juan de Río Seco\n",
       "1                 Guayabal de Siquima\n",
       "2                       San Francisco\n",
       "3         Villa de San Diego de Ubate\n",
       "4                               Viotá\n",
       "5                      Puerto Carreño\n",
       "6                             Armenia\n",
       "7                       Puerto Boyacá\n",
       "8                         Bucaramanga\n",
       "9                               Belén\n",
       "10                          El Espino\n",
       "11                          San Mateo\n",
       "12                             Timbío\n",
       "13                             Quibdó\n",
       "14                           Medellín\n",
       "15                          Guadalupe\n",
       "16                              Tello\n",
       "17                             Teruel\n",
       "18                           Riohacha\n",
       "19                            Durania\n",
       "20                              Ocaña\n",
       "21                             Málaga\n",
       "22                              Girón\n",
       "23                            Matanza\n",
       "24                            Cerrito\n",
       "25                   Sabana de Torres\n",
       "26                        San Alberto\n",
       "27                            Barbosa\n",
       "28                             Rovira\n",
       "29                            Sevilla\n",
       "                     ...             \n",
       "107918                         Ibagué\n",
       "107919                         Ibagué\n",
       "107920                         Ibagué\n",
       "107921                         Ibagué\n",
       "107922                         Ibagué\n",
       "107923                         Ibagué\n",
       "107924                         Ibagué\n",
       "107925           El Carmen de Viboral\n",
       "107926                      Cajamarca\n",
       "107927                      Girardota\n",
       "107928                          Mocoa\n",
       "107929                        Ciénaga\n",
       "107930         Santander de Quilichao\n",
       "107931                          Anorí\n",
       "107932                       Alvarado\n",
       "107933                        Corozal\n",
       "107934                       Medellín\n",
       "107935                   Barranquilla\n",
       "107936                   Barranquilla\n",
       "107937                           Paez\n",
       "107938                         Cereté\n",
       "107939                    San Jacinto\n",
       "107940                       Riosucio\n",
       "107941                        Vegachí\n",
       "107942           El Carmen de Viboral\n",
       "107943                       El Tambo\n",
       "107944                      Sardinata\n",
       "107945                     Fusagasugá\n",
       "107946                         Samacá\n",
       "107947                      Sincelejo\n",
       "Name: Municipio_DANE, Length: 107948, dtype: object"
      ]
     },
     "execution_count": 5,
     "metadata": {},
     "output_type": "execute_result"
    }
   ],
   "source": [
    "datos.Municipio_DANE"
   ]
  },
  {
   "cell_type": "code",
   "execution_count": 6,
   "metadata": {},
   "outputs": [
    {
     "data": {
      "text/plain": [
       "(107948, 688)"
      ]
     },
     "execution_count": 6,
     "metadata": {},
     "output_type": "execute_result"
    }
   ],
   "source": [
    "datos.shape"
   ]
  },
  {
   "cell_type": "code",
   "execution_count": 7,
   "metadata": {},
   "outputs": [
    {
     "data": {
      "text/plain": [
       "107948"
      ]
     },
     "execution_count": 7,
     "metadata": {},
     "output_type": "execute_result"
    }
   ],
   "source": [
    "total = datos.shape[0]\n",
    "total"
   ]
  },
  {
   "cell_type": "code",
   "execution_count": 8,
   "metadata": {},
   "outputs": [
    {
     "data": {
      "text/plain": [
       "10643"
      ]
     },
     "execution_count": 8,
     "metadata": {},
     "output_type": "execute_result"
    }
   ],
   "source": [
    "# total de ceros en activos\n",
    "ceros_act =np.count_nonzero(datos.Activos==0)\n",
    "ceros_act"
   ]
  },
  {
   "cell_type": "code",
   "execution_count": 9,
   "metadata": {},
   "outputs": [
    {
     "data": {
      "text/plain": [
       "49630"
      ]
     },
     "execution_count": 9,
     "metadata": {},
     "output_type": "execute_result"
    }
   ],
   "source": [
    "# total de ceros en pasivos\n",
    "ceros_pas = np.count_nonzero(datos.Pasivos==0)\n",
    "ceros_pas"
   ]
  },
  {
   "cell_type": "code",
   "execution_count": 10,
   "metadata": {},
   "outputs": [
    {
     "data": {
      "text/plain": [
       "1048"
      ]
     },
     "execution_count": 10,
     "metadata": {},
     "output_type": "execute_result"
    }
   ],
   "source": [
    "# total de ceros en Ingresos\n",
    "ceros_ing=np.count_nonzero(datos.Ingresos==0)\n",
    "ceros_ing"
   ]
  },
  {
   "cell_type": "code",
   "execution_count": 11,
   "metadata": {},
   "outputs": [
    {
     "data": {
      "text/plain": [
       "2228"
      ]
     },
     "execution_count": 11,
     "metadata": {},
     "output_type": "execute_result"
    }
   ],
   "source": [
    "# total de ceros en egresos\n",
    "ceros_egr =np.count_nonzero(datos.Egresos==0)\n",
    "ceros_egr"
   ]
  },
  {
   "cell_type": "code",
   "execution_count": 12,
   "metadata": {},
   "outputs": [
    {
     "data": {
      "text/plain": [
       "10617"
      ]
     },
     "execution_count": 12,
     "metadata": {},
     "output_type": "execute_result"
    }
   ],
   "source": [
    "# total de ceros en patrimonio\n",
    "ceros_pat = np.count_nonzero(datos.Patrimonio==0)\n",
    "ceros_pat"
   ]
  },
  {
   "cell_type": "code",
   "execution_count": 13,
   "metadata": {
    "scrolled": true
   },
   "outputs": [
    {
     "data": {
      "text/plain": [
       "(107948, 10643, 2228, 1048, 49630, 10617)"
      ]
     },
     "execution_count": 13,
     "metadata": {},
     "output_type": "execute_result"
    }
   ],
   "source": [
    "total, ceros_act, ceros_egr, ceros_ing, ceros_pas, ceros_pat"
   ]
  },
  {
   "cell_type": "markdown",
   "metadata": {},
   "source": [
    "### Verificación de Valores NULOS"
   ]
  },
  {
   "cell_type": "code",
   "execution_count": 14,
   "metadata": {
    "scrolled": false
   },
   "outputs": [
    {
     "data": {
      "text/plain": [
       "Tipo_Empleo                 97668\n",
       "Tiempo_BAC                      3\n",
       "Edad                            1\n",
       "SLD_VCDO_CART_CRED_9            0\n",
       "SLD_VCDO_SOBREGIROS_5           0\n",
       "SLD_VCDO_SOBREGIROS_4           0\n",
       "SLD_VCDO_SOBREGIROS_3           0\n",
       "SLD_VCDO_SOBREGIROS_2           0\n",
       "SLD_VCDO_SOBREGIROS_1           0\n",
       "SLD_VCDO_CART_CRED_12           0\n",
       "SLD_VCDO_CART_CRED_11           0\n",
       "SLD_VCDO_CART_CRED_10           0\n",
       "Target                          0\n",
       "SLD_VCDO_CART_CRED_7            0\n",
       "SLD_VCDO_CART_CRED_6            0\n",
       "SLD_VCDO_CART_CRED_5            0\n",
       "SLD_VCDO_CART_CRED_4            0\n",
       "SLD_VCDO_CART_CRED_3            0\n",
       "SLD_VCDO_CART_CRED_2            0\n",
       "SLD_VCDO_CART_CRED_1            0\n",
       "VALOR_CDAT_12                   0\n",
       "VALOR_CDAT_11                   0\n",
       "SLD_VCDO_CART_CRED_8            0\n",
       "SLD_VCDO_SOBREGIROS_6           0\n",
       "VALOR_CDAT_9                    0\n",
       "SLD_VCDO_TARJ_CREDITO_5         0\n",
       "TOTALCOLOCACIONES_1             0\n",
       "SLD_VCDO_TARJ_CREDITO_12        0\n",
       "SLD_VCDO_TARJ_CREDITO_11        0\n",
       "SLD_VCDO_TARJ_CREDITO_10        0\n",
       "                            ...  \n",
       "TI_inversion_5                  0\n",
       "TI_inversion_4                  0\n",
       "TI_inversion_3                  0\n",
       "TI_inversion_2                  0\n",
       "TI_inversion_1                  0\n",
       "TI_capital_12                   0\n",
       "TI_capital_11                   0\n",
       "TI_capital_10                   0\n",
       "TP_pequeno_3                    0\n",
       "TP_pequeno_5                    0\n",
       "TP_mediano_12                   0\n",
       "TP_pequeno_6                    0\n",
       "TP_mediano_11                   0\n",
       "TP_mediano_10                   0\n",
       "TP_mediano_9                    0\n",
       "TP_mediano_8                    0\n",
       "TP_mediano_7                    0\n",
       "TP_mediano_6                    0\n",
       "TP_mediano_5                    0\n",
       "TP_mediano_4                    0\n",
       "TP_mediano_3                    0\n",
       "TP_mediano_2                    0\n",
       "TP_mediano_1                    0\n",
       "TP_pequeno_12                   0\n",
       "TP_pequeno_11                   0\n",
       "TP_pequeno_10                   0\n",
       "TP_pequeno_9                    0\n",
       "TP_pequeno_8                    0\n",
       "TP_pequeno_7                    0\n",
       "consecutivo                     0\n",
       "Length: 688, dtype: int64"
      ]
     },
     "execution_count": 14,
     "metadata": {},
     "output_type": "execute_result"
    }
   ],
   "source": [
    "datos.isnull().sum().sort_values(ascending=False)"
   ]
  },
  {
   "cell_type": "markdown",
   "metadata": {},
   "source": [
    "### 1.1. Tratamiento variables con valores nulos"
   ]
  },
  {
   "cell_type": "markdown",
   "metadata": {},
   "source": [
    "#### Nulos: Tipo_Empleo"
   ]
  },
  {
   "cell_type": "markdown",
   "metadata": {},
   "source": [
    "Al analizar la variable de tipo de empleo se encuentra que **90%** de los registros tienen NA, por lo que se elimina de la base de datos, el mismo procedimiento se realiza para Codigo ciiu"
   ]
  },
  {
   "cell_type": "code",
   "execution_count": 15,
   "metadata": {},
   "outputs": [],
   "source": [
    "del datos['Tipo_Empleo']\n",
    "del datos['Codigo_ciiu']"
   ]
  },
  {
   "cell_type": "markdown",
   "metadata": {},
   "source": [
    "#### Nulos Tiempo en el Banco"
   ]
  },
  {
   "cell_type": "code",
   "execution_count": 16,
   "metadata": {},
   "outputs": [
    {
     "data": {
      "text/html": [
       "<div>\n",
       "<style scoped>\n",
       "    .dataframe tbody tr th:only-of-type {\n",
       "        vertical-align: middle;\n",
       "    }\n",
       "\n",
       "    .dataframe tbody tr th {\n",
       "        vertical-align: top;\n",
       "    }\n",
       "\n",
       "    .dataframe thead th {\n",
       "        text-align: right;\n",
       "    }\n",
       "</style>\n",
       "<table border=\"1\" class=\"dataframe\">\n",
       "  <thead>\n",
       "    <tr style=\"text-align: right;\">\n",
       "      <th></th>\n",
       "      <th>consecutivo</th>\n",
       "      <th>Tiempo_BAC</th>\n",
       "    </tr>\n",
       "  </thead>\n",
       "  <tbody>\n",
       "    <tr>\n",
       "      <th>12490</th>\n",
       "      <td>12970810</td>\n",
       "      <td>NaN</td>\n",
       "    </tr>\n",
       "    <tr>\n",
       "      <th>79281</th>\n",
       "      <td>12867510</td>\n",
       "      <td>NaN</td>\n",
       "    </tr>\n",
       "    <tr>\n",
       "      <th>99300</th>\n",
       "      <td>12950423</td>\n",
       "      <td>NaN</td>\n",
       "    </tr>\n",
       "  </tbody>\n",
       "</table>\n",
       "</div>"
      ],
      "text/plain": [
       "       consecutivo  Tiempo_BAC\n",
       "12490     12970810         NaN\n",
       "79281     12867510         NaN\n",
       "99300     12950423         NaN"
      ]
     },
     "execution_count": 16,
     "metadata": {},
     "output_type": "execute_result"
    }
   ],
   "source": [
    "datos[['consecutivo','Tiempo_BAC']][datos['Tiempo_BAC'] .isnull()]"
   ]
  },
  {
   "cell_type": "code",
   "execution_count": 17,
   "metadata": {},
   "outputs": [],
   "source": [
    "datos.drop(datos[datos.Tiempo_BAC.isnull()].index, inplace=True)"
   ]
  },
  {
   "cell_type": "code",
   "execution_count": 18,
   "metadata": {},
   "outputs": [
    {
     "data": {
      "text/html": [
       "<div>\n",
       "<style scoped>\n",
       "    .dataframe tbody tr th:only-of-type {\n",
       "        vertical-align: middle;\n",
       "    }\n",
       "\n",
       "    .dataframe tbody tr th {\n",
       "        vertical-align: top;\n",
       "    }\n",
       "\n",
       "    .dataframe thead th {\n",
       "        text-align: right;\n",
       "    }\n",
       "</style>\n",
       "<table border=\"1\" class=\"dataframe\">\n",
       "  <thead>\n",
       "    <tr style=\"text-align: right;\">\n",
       "      <th></th>\n",
       "      <th>consecutivo</th>\n",
       "      <th>Tiempo_BAC</th>\n",
       "    </tr>\n",
       "  </thead>\n",
       "  <tbody>\n",
       "  </tbody>\n",
       "</table>\n",
       "</div>"
      ],
      "text/plain": [
       "Empty DataFrame\n",
       "Columns: [consecutivo, Tiempo_BAC]\n",
       "Index: []"
      ]
     },
     "execution_count": 18,
     "metadata": {},
     "output_type": "execute_result"
    }
   ],
   "source": [
    "datos[['consecutivo','Tiempo_BAC']][datos['Tiempo_BAC'] .isnull()]"
   ]
  },
  {
   "cell_type": "markdown",
   "metadata": {},
   "source": [
    "## Nulos: Edad"
   ]
  },
  {
   "cell_type": "code",
   "execution_count": 19,
   "metadata": {},
   "outputs": [
    {
     "data": {
      "text/html": [
       "<div>\n",
       "<style scoped>\n",
       "    .dataframe tbody tr th:only-of-type {\n",
       "        vertical-align: middle;\n",
       "    }\n",
       "\n",
       "    .dataframe tbody tr th {\n",
       "        vertical-align: top;\n",
       "    }\n",
       "\n",
       "    .dataframe thead th {\n",
       "        text-align: right;\n",
       "    }\n",
       "</style>\n",
       "<table border=\"1\" class=\"dataframe\">\n",
       "  <thead>\n",
       "    <tr style=\"text-align: right;\">\n",
       "      <th></th>\n",
       "      <th>consecutivo</th>\n",
       "      <th>Edad</th>\n",
       "    </tr>\n",
       "  </thead>\n",
       "  <tbody>\n",
       "    <tr>\n",
       "      <th>18216</th>\n",
       "      <td>8611339</td>\n",
       "      <td>NaN</td>\n",
       "    </tr>\n",
       "  </tbody>\n",
       "</table>\n",
       "</div>"
      ],
      "text/plain": [
       "       consecutivo  Edad\n",
       "18216      8611339   NaN"
      ]
     },
     "execution_count": 19,
     "metadata": {},
     "output_type": "execute_result"
    }
   ],
   "source": [
    "datos[['consecutivo','Edad']][datos['Edad'] .isnull()]\n"
   ]
  },
  {
   "cell_type": "code",
   "execution_count": 20,
   "metadata": {},
   "outputs": [],
   "source": [
    "datos.drop(datos[datos.Edad.isnull()].index, inplace=True)"
   ]
  },
  {
   "cell_type": "code",
   "execution_count": 21,
   "metadata": {
    "scrolled": true
   },
   "outputs": [
    {
     "data": {
      "text/html": [
       "<div>\n",
       "<style scoped>\n",
       "    .dataframe tbody tr th:only-of-type {\n",
       "        vertical-align: middle;\n",
       "    }\n",
       "\n",
       "    .dataframe tbody tr th {\n",
       "        vertical-align: top;\n",
       "    }\n",
       "\n",
       "    .dataframe thead th {\n",
       "        text-align: right;\n",
       "    }\n",
       "</style>\n",
       "<table border=\"1\" class=\"dataframe\">\n",
       "  <thead>\n",
       "    <tr style=\"text-align: right;\">\n",
       "      <th></th>\n",
       "      <th>consecutivo</th>\n",
       "      <th>Edad</th>\n",
       "    </tr>\n",
       "  </thead>\n",
       "  <tbody>\n",
       "  </tbody>\n",
       "</table>\n",
       "</div>"
      ],
      "text/plain": [
       "Empty DataFrame\n",
       "Columns: [consecutivo, Edad]\n",
       "Index: []"
      ]
     },
     "execution_count": 21,
     "metadata": {},
     "output_type": "execute_result"
    }
   ],
   "source": [
    "datos[['consecutivo','Edad']][datos['Edad'] .isnull()]\n"
   ]
  },
  {
   "cell_type": "markdown",
   "metadata": {},
   "source": [
    "### 1.2.  Tratamiento variables categóricas"
   ]
  },
  {
   "cell_type": "markdown",
   "metadata": {},
   "source": [
    "#### Creeamos un nuevo dataset con las variables categóricas"
   ]
  },
  {
   "cell_type": "code",
   "execution_count": 22,
   "metadata": {},
   "outputs": [],
   "source": [
    "datos_=datos.loc[:,('banca_cliente','Depende_Tercero','Profesion','Estado_Civil',\n",
    "        'Nivel_Educativo','Genero','Victima','ZONAL','REGIONAL','Municipio_DANE','Departamento_DANE',\n",
    "        'Competencia','Ruralidad','Postconflicto','SEGURO','NOMBRE_OFICINA','FAG_1','FAG_2','FAG_3',\n",
    "        'FAG_4','FAG_5','FAG_6','FAG_7','FAG_8','FAG_9','FAG_10','FAG_11','FAG_12','hipoteca_1',\n",
    "        'hipoteca_2','hipoteca_3','hipoteca_4','hipoteca_5','hipoteca_6','hipoteca_7','hipoteca_8',\n",
    "        'hipoteca_9','hipoteca_10','hipoteca_11','hipoteca_12','CALIF_CART_CLIENTE_1','CALIF_CART_CLIENTE_2',\n",
    "        'CALIF_CART_CLIENTE_3','CALIF_CART_CLIENTE_4','CALIF_CART_CLIENTE_5','CALIF_CART_CLIENTE_6',\n",
    "        'CALIF_CART_CLIENTE_7','CALIF_CART_CLIENTE_8','CALIF_CART_CLIENTE_9','CALIF_CART_CLIENTE_10',\n",
    "        'CALIF_CART_CLIENTE_11','CALIF_CART_CLIENTE_12')]"
   ]
  },
  {
   "cell_type": "markdown",
   "metadata": {},
   "source": [
    "### Transformación de variables categóricas"
   ]
  },
  {
   "cell_type": "code",
   "execution_count": 23,
   "metadata": {},
   "outputs": [
    {
     "data": {
      "text/plain": [
       "(107944, 686)"
      ]
     },
     "execution_count": 23,
     "metadata": {},
     "output_type": "execute_result"
    }
   ],
   "source": [
    "# Validamos el tamaño del dataset antes de convertir a dummies las variables categóricas\n",
    "datos.shape"
   ]
  },
  {
   "cell_type": "markdown",
   "metadata": {},
   "source": [
    "#### A continuación, se crean las variables dummies "
   ]
  },
  {
   "cell_type": "code",
   "execution_count": 24,
   "metadata": {},
   "outputs": [
    {
     "data": {
      "text/plain": [
       "(107944, 2467)"
      ]
     },
     "execution_count": 24,
     "metadata": {},
     "output_type": "execute_result"
    }
   ],
   "source": [
    "datos_dum = pd.get_dummies(datos)\n",
    "datos_dum.shape"
   ]
  },
  {
   "cell_type": "markdown",
   "metadata": {},
   "source": [
    "# 2. Implementación de modelos"
   ]
  },
  {
   "cell_type": "markdown",
   "metadata": {},
   "source": [
    "## 2.1. Regresión logística con la base original"
   ]
  },
  {
   "cell_type": "markdown",
   "metadata": {},
   "source": [
    "A continuación, se implementa el modelo de regresión logística con la base de datos original, a la cual, después del procesamiento inicial, sólo se realizó la transformación de las variables categóricas a dummies"
   ]
  },
  {
   "cell_type": "markdown",
   "metadata": {},
   "source": [
    "### Partición\n"
   ]
  },
  {
   "cell_type": "code",
   "execution_count": 25,
   "metadata": {},
   "outputs": [],
   "source": [
    "# Separación de la variable target\n",
    "y=datos['Target']\n",
    "y=pd.DataFrame(y)"
   ]
  },
  {
   "cell_type": "code",
   "execution_count": 26,
   "metadata": {},
   "outputs": [],
   "source": [
    "# Separación de las variables independientes\n",
    "X=datos_dum.iloc[:,:]\n",
    "del X['consecutivo']\n",
    "del X['Target']"
   ]
  },
  {
   "cell_type": "code",
   "execution_count": 27,
   "metadata": {},
   "outputs": [],
   "source": [
    "#Realizamos la partición\n",
    "X_train, X_test, y_train, y_test = train_test_split(X, y, test_size = .3, random_state=2)"
   ]
  },
  {
   "cell_type": "code",
   "execution_count": 28,
   "metadata": {},
   "outputs": [
    {
     "data": {
      "text/plain": [
       "((75560, 2465), (32384, 2465), (75560, 1), (32384, 1))"
      ]
     },
     "execution_count": 28,
     "metadata": {},
     "output_type": "execute_result"
    }
   ],
   "source": [
    "#Se exploran las dimensiones de cada partición\n",
    "X_train.shape, X_test.shape, y_train.shape, y_test.shape"
   ]
  },
  {
   "cell_type": "markdown",
   "metadata": {},
   "source": [
    "### Modelo Logit"
   ]
  },
  {
   "cell_type": "markdown",
   "metadata": {},
   "source": [
    "A continuación, se implementa el modelo de regresión logística con el set de datos original, al cual se le transforman las variables categoricas en variables dummies. "
   ]
  },
  {
   "cell_type": "code",
   "execution_count": 29,
   "metadata": {
    "scrolled": true
   },
   "outputs": [
    {
     "name": "stderr",
     "output_type": "stream",
     "text": [
      "C:\\Users\\camiloto\\AppData\\Local\\Continuum\\anaconda3\\lib\\site-packages\\sklearn\\utils\\validation.py:578: DataConversionWarning: A column-vector y was passed when a 1d array was expected. Please change the shape of y to (n_samples, ), for example using ravel().\n",
      "  y = column_or_1d(y, warn=True)\n"
     ]
    },
    {
     "data": {
      "text/plain": [
       "LogisticRegression(C=1.0, class_weight=None, dual=False, fit_intercept=True,\n",
       "          intercept_scaling=1, max_iter=100, multi_class='ovr', n_jobs=1,\n",
       "          penalty='l2', random_state=None, solver='liblinear', tol=0.0001,\n",
       "          verbose=0, warm_start=False)"
      ]
     },
     "execution_count": 29,
     "metadata": {},
     "output_type": "execute_result"
    }
   ],
   "source": [
    "LogReg_1 = LogisticRegression()\n",
    "LogReg_1.fit(X_train, y_train)"
   ]
  },
  {
   "cell_type": "code",
   "execution_count": 30,
   "metadata": {},
   "outputs": [
    {
     "data": {
      "text/plain": [
       "(75560, 2465)"
      ]
     },
     "execution_count": 30,
     "metadata": {},
     "output_type": "execute_result"
    }
   ],
   "source": [
    "X_train.shape"
   ]
  },
  {
   "cell_type": "code",
   "execution_count": 31,
   "metadata": {},
   "outputs": [],
   "source": [
    "y_pred_RL = LogReg_1.predict(X_test)"
   ]
  },
  {
   "cell_type": "code",
   "execution_count": 32,
   "metadata": {
    "scrolled": false
   },
   "outputs": [
    {
     "name": "stdout",
     "output_type": "stream",
     "text": [
      "             precision    recall  f1-score   support\n",
      "\n",
      "No abandono       0.78      0.93      0.85     22688\n",
      "Si abandono       0.71      0.37      0.49      9696\n",
      "\n",
      "avg / total       0.76      0.77      0.74     32384\n",
      "\n"
     ]
    }
   ],
   "source": [
    "target_names = ['No abandono', 'Si abandono']\n",
    "label = ['x','y']\n",
    "print(classification_report(y_test, y_pred_RL, target_names=target_names) )\n"
   ]
  },
  {
   "cell_type": "code",
   "execution_count": 33,
   "metadata": {},
   "outputs": [
    {
     "data": {
      "text/plain": [
       "Text(0.5,1,'Confusion Matrix')"
      ]
     },
     "execution_count": 33,
     "metadata": {},
     "output_type": "execute_result"
    },
    {
     "data": {
      "image/png": "[encoded data removed]",
      "text/plain": [
       "<matplotlib.figure.Figure at 0x1f4210c4ac8>"
      ]
     },
     "metadata": {},
     "output_type": "display_data"
    }
   ],
   "source": [
    "plt.figure(figsize=(24,16))\n",
    "plt.subplot(221)\n",
    "cm_1=sb.heatmap(confusion_matrix(y_test,y_pred_RL),annot=True,fmt = \"d\",linecolor=\"k\",linewidths=2)\n",
    "plt.title(\"Confusion Matrix\",fontsize=24,fontweight=\"bold\")"
   ]
  },
  {
   "cell_type": "markdown",
   "metadata": {},
   "source": [
    "## Métricas calculadas a partir de una matriz de confusión"
   ]
  },
  {
   "cell_type": "code",
   "execution_count": 34,
   "metadata": {},
   "outputs": [],
   "source": [
    "# save confusion matrix and slice into four pieces\n",
    "confusion = metrics.confusion_matrix(y_test, y_pred_RL)\n",
    "TP = confusion[1, 1]\n",
    "TN = confusion[0, 0]\n",
    "FP = confusion[0, 1]\n",
    "FN = confusion[1, 0]"
   ]
  },
  {
   "cell_type": "markdown",
   "metadata": {},
   "source": [
    "**Terminología básica\n",
    "\n",
    "- **Verdaderos positivos (TP)**: El modelo predice correctamente que tienen diabetes\n",
    "- **Negativos verdaderos (TN)**: predijimos correctamente que no tienen diabetes\n",
    "- **Falsos positivos (PF)**: predijimos incorrectamente que tienen diabetes (un \"error de tipo I\")\n",
    "- **Falsos negativos (FN)**: predijimos incorrectamente que no tienen diabetes (un \"error de Tipo II\")"
   ]
  },
  {
   "cell_type": "markdown",
   "metadata": {},
   "source": [
    "### Cálculo de las métricas"
   ]
  },
  {
   "cell_type": "markdown",
   "metadata": {},
   "source": [
    "**Precisión de la clasificación**: en general, ¿Con qué frecuencia es correcto el clasificador?"
   ]
  },
  {
   "cell_type": "code",
   "execution_count": 35,
   "metadata": {},
   "outputs": [
    {
     "name": "stdout",
     "output_type": "stream",
     "text": [
      "Accuracy               = 0.77\n"
     ]
    }
   ],
   "source": [
    "Accuracy= (\"Accuracy               = \"+str(round((TP + TN) / float(TP + TN + FP + FN),2)))\n",
    "print(Accuracy)\n",
    "#print(metrics.accuracy_score(y_test, y_pred_1))"
   ]
  },
  {
   "cell_type": "markdown",
   "metadata": {},
   "source": [
    "**Classification Error:** en general, ¿con qué frecuencia el clasificador es incorrecto?\n",
    "\n",
    "- También conocido como \"tasa de clasificación errónea\"\""
   ]
  },
  {
   "cell_type": "code",
   "execution_count": 36,
   "metadata": {
    "scrolled": true
   },
   "outputs": [
    {
     "name": "stdout",
     "output_type": "stream",
     "text": [
      "Classification Error   = 0.23\n"
     ]
    }
   ],
   "source": [
    "Classification_Error = (\"Classification Error   = \"+str(round((FP + FN) / float(TP + TN + FP + FN),2)))\n",
    "print(Classification_Error)\n",
    "#print(1 - metrics.accuracy_score(y_test, y_pred_1))"
   ]
  },
  {
   "cell_type": "markdown",
   "metadata": {},
   "source": [
    "**Sensitivity:** cuando el valor real es **positivo**, ¿con qué frecuencia es correcta la predicción?\n",
    "\n",
    "- ¿Qué tan \"sensible\" es el clasificador para detectar casos positivos?\n",
    "- También conocido como \"True Positive Rate\" o \"Recall\"\n",
    "\n",
    " \n",
    "\n",
    "\n"
   ]
  },
  {
   "cell_type": "code",
   "execution_count": 37,
   "metadata": {},
   "outputs": [
    {
     "name": "stdout",
     "output_type": "stream",
     "text": [
      "Sensitivity            = 0.37\n"
     ]
    }
   ],
   "source": [
    "Sensitivity = (\"Sensitivity            = \" +str(round(TP / float(TP + FN),2)))\n",
    "print(Sensitivity)\n",
    "#print(metrics.recall_score(y_test, y_pred_1))"
   ]
  },
  {
   "cell_type": "markdown",
   "metadata": {},
   "source": [
    "**Specificity:** Cuando el valor real es **negativo**, ¿con qué frecuencia es correcta la predicción?\n",
    "\n",
    "- ¿En qué medida \"específico\" (o \"selectivo\") es el clasificador para predecir casos positivos?\n",
    "\n"
   ]
  },
  {
   "cell_type": "code",
   "execution_count": 38,
   "metadata": {},
   "outputs": [
    {
     "name": "stdout",
     "output_type": "stream",
     "text": [
      "Specificity            = 0.93\n"
     ]
    }
   ],
   "source": [
    "Specificity =(\"Specificity            = \" +str(round(TN / float(TN + FP),2)))\n",
    "print(Specificity)"
   ]
  },
  {
   "cell_type": "markdown",
   "metadata": {},
   "source": [
    "**False Positive Rate:** cuando el valor real es negativo, ¿con qué frecuencia es **incorrecta** la predicción?"
   ]
  },
  {
   "cell_type": "code",
   "execution_count": 39,
   "metadata": {},
   "outputs": [
    {
     "name": "stdout",
     "output_type": "stream",
     "text": [
      "False Positive Rate    = 0.07\n"
     ]
    }
   ],
   "source": [
    "False_Positive_rate=(\"False Positive Rate    = \"+str(round(FP / float(TN + FP),2)))\n",
    "print(False_Positive_rate)"
   ]
  },
  {
   "cell_type": "markdown",
   "metadata": {},
   "source": [
    "**Precision:** Cuando se predice un valor positivo, ¿con qué frecuencia es correcta la predicción?\n",
    "\n",
    "- ¿Qué tan preciso es el clasificador al predecir instancias positivas?"
   ]
  },
  {
   "cell_type": "code",
   "execution_count": 40,
   "metadata": {},
   "outputs": [
    {
     "name": "stdout",
     "output_type": "stream",
     "text": [
      "Precision              = 0.708\n"
     ]
    }
   ],
   "source": [
    "Precision=(\"Precision              = \"+str  (round(TP / float(TP + FP),3)))\n",
    "print(Precision)\n",
    "#print(metrics.precision_score(y_test, y_pred_1))"
   ]
  },
  {
   "cell_type": "code",
   "execution_count": 41,
   "metadata": {
    "scrolled": false
   },
   "outputs": [
    {
     "name": "stdout",
     "output_type": "stream",
     "text": [
      "---------------------------------Métricas modelo 1 **Regresión Logística** ------------------------------------------------\n",
      "Accuracy               = 0.77\n",
      "Classification Error   = 0.23\n",
      "Sensitivity            = 0.37\n",
      "Specificity            = 0.93\n",
      "False Positive Rate    = 0.07\n",
      "Precision              = 0.708\n"
     ]
    }
   ],
   "source": [
    "print(\"---------------------------------Métricas modelo 1 **Regresión Logística** ------------------------------------------------\")\n",
    "print(Accuracy),print(Classification_Error), print(Sensitivity), print(Specificity), print(False_Positive_rate),\n",
    "print(Precision)"
   ]
  },
  {
   "cell_type": "code",
   "execution_count": 42,
   "metadata": {
    "scrolled": false
   },
   "outputs": [
    {
     "name": "stderr",
     "output_type": "stream",
     "text": [
      "C:\\Users\\camiloto\\AppData\\Local\\Continuum\\anaconda3\\lib\\site-packages\\sklearn\\linear_model\\base.py:340: RuntimeWarning: overflow encountered in exp\n",
      "  np.exp(prob, prob)\n"
     ]
    },
    {
     "data": {
      "image/png": "[encoded data removed]",
      "text/plain": [
       "<matplotlib.figure.Figure at 0x1f447dbc630>"
      ]
     },
     "metadata": {},
     "output_type": "display_data"
    }
   ],
   "source": [
    "predicting_probabilites = LogReg_1.predict_proba(X_test)[:,1]\n",
    "fpr,tpr,thresholds = roc_curve(y_test, predicting_probabilites)\n",
    "#plt.subplot(222)\n",
    "plt.figure(figsize=(10,5))\n",
    "plt.plot(fpr,tpr,label = (\"Area_under the curve :\",round(auc(fpr,tpr),2)),color = \"r\")\n",
    "plt.plot([1,0],[1,0],linestyle = \"dashed\",color =\"b\")\n",
    "plt.legend(loc = \"best\")\n",
    "# show the plot\n",
    "plt.title('ROC curve for churn classifier - Logit Model')\n",
    "plt.xlabel('False Positive Rate (1 - Specificity)')\n",
    "plt.ylabel('True Positive Rate (Sensitivity)')\n",
    "plt.grid(True)\n",
    "pyplot.show()"
   ]
  },
  {
   "cell_type": "markdown",
   "metadata": {},
   "source": [
    "### Análisis de los resultados del modelo de regresión logística\n",
    "\n",
    "De acuerdo con los resultados de este primer modelo de **Regresión Logística** con todas las variables, se observa que, en general el modelo clasifica correctamente el 77% de los casos, sin embargo, el error de la clasificación es del 23%, en cuanto a la sensibilidad, el valor de casos positivos clasificados correctamente  es del 37%, mientras que la especificidad, es decir, los casos negativos que el modelo clasifica correctamente es del 93% y los casos negativos que son clasificados de forma erronea es del 7%."
   ]
  },
  {
   "cell_type": "markdown",
   "metadata": {},
   "source": [
    "## Random Forest"
   ]
  },
  {
   "cell_type": "code",
   "execution_count": 43,
   "metadata": {},
   "outputs": [],
   "source": [
    "cfl = RandomForestClassifier()"
   ]
  },
  {
   "cell_type": "code",
   "execution_count": 44,
   "metadata": {},
   "outputs": [
    {
     "name": "stderr",
     "output_type": "stream",
     "text": [
      "C:\\Users\\camiloto\\AppData\\Local\\Continuum\\anaconda3\\lib\\site-packages\\ipykernel_launcher.py:1: DataConversionWarning: A column-vector y was passed when a 1d array was expected. Please change the shape of y to (n_samples,), for example using ravel().\n",
      "  \"\"\"Entry point for launching an IPython kernel.\n"
     ]
    },
    {
     "data": {
      "text/plain": [
       "RandomForestClassifier(bootstrap=True, class_weight=None, criterion='gini',\n",
       "            max_depth=None, max_features='auto', max_leaf_nodes=None,\n",
       "            min_impurity_decrease=0.0, min_impurity_split=None,\n",
       "            min_samples_leaf=1, min_samples_split=2,\n",
       "            min_weight_fraction_leaf=0.0, n_estimators=10, n_jobs=1,\n",
       "            oob_score=False, random_state=None, verbose=0,\n",
       "            warm_start=False)"
      ]
     },
     "execution_count": 44,
     "metadata": {},
     "output_type": "execute_result"
    }
   ],
   "source": [
    "cfl.fit(X_train, y_train)"
   ]
  },
  {
   "cell_type": "code",
   "execution_count": 45,
   "metadata": {},
   "outputs": [],
   "source": [
    "y_pred_cfl = cfl.predict(X_test)"
   ]
  },
  {
   "cell_type": "code",
   "execution_count": 46,
   "metadata": {},
   "outputs": [
    {
     "name": "stdout",
     "output_type": "stream",
     "text": [
      "Mean squared error - Random Forest: 0.0991\n"
     ]
    }
   ],
   "source": [
    "# Se calcula el MSE(mean squared error)\n",
    "mse_cfl=(\"Mean squared error - Random Forest: %.4f\"\n",
    "      % mean_squared_error(y_test, y_pred_cfl))\n",
    "print(mse_cfl)"
   ]
  },
  {
   "cell_type": "code",
   "execution_count": 47,
   "metadata": {
    "scrolled": true
   },
   "outputs": [
    {
     "name": "stdout",
     "output_type": "stream",
     "text": [
      "             precision    recall  f1-score   support\n",
      "\n",
      "No abandono       0.91      0.95      0.93     22688\n",
      "Si abandono       0.88      0.78      0.82      9696\n",
      "\n",
      "avg / total       0.90      0.90      0.90     32384\n",
      "\n"
     ]
    }
   ],
   "source": [
    "target_names = ['No abandono', 'Si abandono']\n",
    "print(classification_report(y_test, y_pred_cfl, target_names=target_names) )\n"
   ]
  },
  {
   "cell_type": "code",
   "execution_count": 48,
   "metadata": {},
   "outputs": [
    {
     "data": {
      "text/plain": [
       "Text(0.5,1,'Confusion Matrix')"
      ]
     },
     "execution_count": 48,
     "metadata": {},
     "output_type": "execute_result"
    },
    {
     "data": {
      "image/png": "[encoded data removed]",
      "text/plain": [
       "<matplotlib.figure.Figure at 0x1f421a34358>"
      ]
     },
     "metadata": {},
     "output_type": "display_data"
    }
   ],
   "source": [
    "plt.figure(figsize=(24,16))\n",
    "plt.subplot(221)\n",
    "cm_1=sb.heatmap(confusion_matrix(y_test,y_pred_cfl),annot=True,fmt = \"d\",linecolor=\"k\",linewidths=2)\n",
    "plt.title(\"Confusion Matrix\",fontsize=24,fontweight=\"bold\")"
   ]
  },
  {
   "cell_type": "markdown",
   "metadata": {},
   "source": [
    "## Métricas calculadas a partir de una matriz de confusión"
   ]
  },
  {
   "cell_type": "code",
   "execution_count": 49,
   "metadata": {
    "scrolled": true
   },
   "outputs": [
    {
     "name": "stdout",
     "output_type": "stream",
     "text": [
      "---------------------------------Métricas modelo 2 **Random Forest** ------------------------------------------------\n",
      "Accuracy               = 0.9\n",
      "Classification Error   = 0.1\n",
      "Sensitivity            = 0.78\n",
      "Specificity            = 0.95\n",
      "False Positive Rate    = 0.07\n",
      "Precision              = 0.875\n"
     ]
    }
   ],
   "source": [
    "# save confusion matrix and slice into four pieces\n",
    "confusion = metrics.confusion_matrix(y_test, y_pred_cfl)\n",
    "TP = confusion[1, 1]\n",
    "TN = confusion[0, 0]\n",
    "FP = confusion[0, 1]\n",
    "FN = confusion[1, 0]\n",
    "\n",
    "### Cálculo de las métricas\n",
    "\n",
    "Accuracy= (\"Accuracy               = \"+str(round((TP + TN) / float(TP + TN + FP + FN),2)))\n",
    "\n",
    "Classification_Error = (\"Classification Error   = \"+str(round((FP + FN) / float(TP + TN + FP + FN),2)))\n",
    "\n",
    "Sensitivity = (\"Sensitivity            = \" +str(round(TP / float(TP + FN),2)))\n",
    "\n",
    "Specificity =(\"Specificity            = \" +str(round(TN / float(TN + FP),2)))\n",
    "\n",
    "Precision=(\"Precision              = \"+str  (round(TP / float(TP + FP),3)))\n",
    "\n",
    "print(\"---------------------------------Métricas modelo 2 **Random Forest** ------------------------------------------------\")\n",
    "print(Accuracy),print(Classification_Error), print(Sensitivity), print(Specificity), print(False_Positive_rate),\n",
    "print(Precision)"
   ]
  },
  {
   "cell_type": "code",
   "execution_count": 50,
   "metadata": {
    "scrolled": true
   },
   "outputs": [
    {
     "data": {
      "image/png": "[encoded data removed]",
      "text/plain": [
       "<matplotlib.figure.Figure at 0x1f42123b0f0>"
      ]
     },
     "metadata": {},
     "output_type": "display_data"
    }
   ],
   "source": [
    "predicting_probabilites_1 = cfl.predict_proba(X_test)[:,1]\n",
    "fpr,tpr,thresholds = roc_curve(y_test, predicting_probabilites_1)\n",
    "#plot.subplot(222)\n",
    "plt.figure(figsize=(10,5))\n",
    "plt.plot(fpr,tpr,label = (\"Area_under the curve :\",round(auc(fpr,tpr),2)),color = \"r\")\n",
    "plt.plot([1,0],[1,0],linestyle = \"dashed\",color =\"b\")\n",
    "plt.legend(loc = \"best\")\n",
    "# show the plot\n",
    "plt.title('ROC curve for churn classifier - Random forest')\n",
    "plt.xlabel('False Positive Rate (1 - Specificity)')\n",
    "plt.ylabel('True Positive Rate (Sensitivity)')\n",
    "plt.grid(True)\n",
    "pyplot.show()"
   ]
  },
  {
   "cell_type": "markdown",
   "metadata": {},
   "source": [
    "### Análisis de los resultados del modelo de Random Forest \n",
    "\n",
    "De acuerdo con los resultados del modelo de **Random Forest** con todas las variables, se observa que, en general el modelo clasifica correctamente el 90% de los casos, en cuanto a la sensibilidad, el valor de casos positivos clasificados correctamente  es del 77%, mientras que la especificidad, es decir, los casos negativos que el modelo clasifica correctamente es del 95% y los casos negativos que son clasificados de forma erronea es del 7%."
   ]
  },
  {
   "cell_type": "markdown",
   "metadata": {},
   "source": [
    "## 2.2. El siguiente paso en la metodología es realizar el proceso de selección de variables para realizar la reducción de dimensionalidad"
   ]
  },
  {
   "cell_type": "markdown",
   "metadata": {},
   "source": [
    "A continuación, se implementan dos estrategias: **1.** el algorítmo de **Random Forest** para selección de variables y **2.** el modelo  **PCA** de reducción de dimensionalidad, finalmente, los output de estos modelos se utilizan como input para el modelo de regresión logística y para la red neuronal."
   ]
  },
  {
   "cell_type": "markdown",
   "metadata": {},
   "source": [
    "#### 2.2.1. Random Forest"
   ]
  },
  {
   "cell_type": "markdown",
   "metadata": {},
   "source": [
    "### Con el siguiente código se obtienen los Feature importances"
   ]
  },
  {
   "cell_type": "code",
   "execution_count": 51,
   "metadata": {
    "scrolled": true
   },
   "outputs": [
    {
     "data": {
      "text/html": [
       "<div>\n",
       "<style scoped>\n",
       "    .dataframe tbody tr th:only-of-type {\n",
       "        vertical-align: middle;\n",
       "    }\n",
       "\n",
       "    .dataframe tbody tr th {\n",
       "        vertical-align: top;\n",
       "    }\n",
       "\n",
       "    .dataframe thead th {\n",
       "        text-align: right;\n",
       "    }\n",
       "</style>\n",
       "<table border=\"1\" class=\"dataframe\">\n",
       "  <thead>\n",
       "    <tr style=\"text-align: right;\">\n",
       "      <th></th>\n",
       "      <th>importance</th>\n",
       "    </tr>\n",
       "  </thead>\n",
       "  <tbody>\n",
       "    <tr>\n",
       "      <th>TOTALCAPTACIONES_5</th>\n",
       "      <td>0.040017</td>\n",
       "    </tr>\n",
       "    <tr>\n",
       "      <th>TOTALCAPTACIONES_8</th>\n",
       "      <td>0.039118</td>\n",
       "    </tr>\n",
       "    <tr>\n",
       "      <th>SALDO_AHORROS_1</th>\n",
       "      <td>0.038983</td>\n",
       "    </tr>\n",
       "    <tr>\n",
       "      <th>TOTALCAPTACIONES_6</th>\n",
       "      <td>0.035354</td>\n",
       "    </tr>\n",
       "    <tr>\n",
       "      <th>SALDO_AHORROS_A_4</th>\n",
       "      <td>0.030233</td>\n",
       "    </tr>\n",
       "    <tr>\n",
       "      <th>SALDO_AHORROS_10</th>\n",
       "      <td>0.028969</td>\n",
       "    </tr>\n",
       "    <tr>\n",
       "      <th>TOTALCAPTACIONES_10</th>\n",
       "      <td>0.027822</td>\n",
       "    </tr>\n",
       "    <tr>\n",
       "      <th>SALDO_AHORROS_A_2</th>\n",
       "      <td>0.018548</td>\n",
       "    </tr>\n",
       "    <tr>\n",
       "      <th>N_AHORROS_A_3</th>\n",
       "      <td>0.018352</td>\n",
       "    </tr>\n",
       "    <tr>\n",
       "      <th>SALDO_AHORROS_6</th>\n",
       "      <td>0.016609</td>\n",
       "    </tr>\n",
       "    <tr>\n",
       "      <th>N_AHORROS_A_9</th>\n",
       "      <td>0.015715</td>\n",
       "    </tr>\n",
       "    <tr>\n",
       "      <th>Tiempo_BAC</th>\n",
       "      <td>0.015641</td>\n",
       "    </tr>\n",
       "    <tr>\n",
       "      <th>N_AHORROS_A_12</th>\n",
       "      <td>0.015253</td>\n",
       "    </tr>\n",
       "    <tr>\n",
       "      <th>SALDO_AHORROS_A_9</th>\n",
       "      <td>0.014986</td>\n",
       "    </tr>\n",
       "    <tr>\n",
       "      <th>N_AHORROS_I_2</th>\n",
       "      <td>0.013044</td>\n",
       "    </tr>\n",
       "    <tr>\n",
       "      <th>SALDO_AHORROS_9</th>\n",
       "      <td>0.012060</td>\n",
       "    </tr>\n",
       "    <tr>\n",
       "      <th>SALDO_CART_CRED_2</th>\n",
       "      <td>0.012002</td>\n",
       "    </tr>\n",
       "    <tr>\n",
       "      <th>Pasivos</th>\n",
       "      <td>0.011935</td>\n",
       "    </tr>\n",
       "    <tr>\n",
       "      <th>N_AHORROS_I_9</th>\n",
       "      <td>0.011446</td>\n",
       "    </tr>\n",
       "    <tr>\n",
       "      <th>Activos</th>\n",
       "      <td>0.011423</td>\n",
       "    </tr>\n",
       "    <tr>\n",
       "      <th>N_AHORROS_A_6</th>\n",
       "      <td>0.011291</td>\n",
       "    </tr>\n",
       "    <tr>\n",
       "      <th>SALDO_CART_CRED_3</th>\n",
       "      <td>0.010941</td>\n",
       "    </tr>\n",
       "    <tr>\n",
       "      <th>SALDO_CART_CRED_1</th>\n",
       "      <td>0.010741</td>\n",
       "    </tr>\n",
       "    <tr>\n",
       "      <th>Edad</th>\n",
       "      <td>0.010614</td>\n",
       "    </tr>\n",
       "    <tr>\n",
       "      <th>Ruralidad_Ciudades y aglomeraciones</th>\n",
       "      <td>0.010448</td>\n",
       "    </tr>\n",
       "    <tr>\n",
       "      <th>SEGURO_N</th>\n",
       "      <td>0.010210</td>\n",
       "    </tr>\n",
       "    <tr>\n",
       "      <th>N_Deb_Ahor_9</th>\n",
       "      <td>0.009963</td>\n",
       "    </tr>\n",
       "    <tr>\n",
       "      <th>N_AHORROS_A_11</th>\n",
       "      <td>0.009870</td>\n",
       "    </tr>\n",
       "    <tr>\n",
       "      <th>N_AHORROS_I_4</th>\n",
       "      <td>0.009550</td>\n",
       "    </tr>\n",
       "    <tr>\n",
       "      <th>TOTALCAPTACIONES_1</th>\n",
       "      <td>0.009409</td>\n",
       "    </tr>\n",
       "    <tr>\n",
       "      <th>...</th>\n",
       "      <td>...</td>\n",
       "    </tr>\n",
       "    <tr>\n",
       "      <th>Municipio_DANE_Ovejas</th>\n",
       "      <td>0.000000</td>\n",
       "    </tr>\n",
       "    <tr>\n",
       "      <th>Beneficios_ICR_4</th>\n",
       "      <td>0.000000</td>\n",
       "    </tr>\n",
       "    <tr>\n",
       "      <th>Beneficios_ICR_5</th>\n",
       "      <td>0.000000</td>\n",
       "    </tr>\n",
       "    <tr>\n",
       "      <th>beneficios_LEC_5</th>\n",
       "      <td>0.000000</td>\n",
       "    </tr>\n",
       "    <tr>\n",
       "      <th>NOMBRE_OFICINA_ALTAMIRA - HUILA</th>\n",
       "      <td>0.000000</td>\n",
       "    </tr>\n",
       "    <tr>\n",
       "      <th>beneficios_LEC_6</th>\n",
       "      <td>0.000000</td>\n",
       "    </tr>\n",
       "    <tr>\n",
       "      <th>Profesion_ANTROPOLOGO</th>\n",
       "      <td>0.000000</td>\n",
       "    </tr>\n",
       "    <tr>\n",
       "      <th>N_DESEMBOLSO_CRED_MES_6</th>\n",
       "      <td>0.000000</td>\n",
       "    </tr>\n",
       "    <tr>\n",
       "      <th>Profesion_CIENCIAS DEL DEPORTE</th>\n",
       "      <td>0.000000</td>\n",
       "    </tr>\n",
       "    <tr>\n",
       "      <th>Municipio_DANE_Puerto Libertador</th>\n",
       "      <td>0.000000</td>\n",
       "    </tr>\n",
       "    <tr>\n",
       "      <th>Municipio_DANE_Agrado</th>\n",
       "      <td>0.000000</td>\n",
       "    </tr>\n",
       "    <tr>\n",
       "      <th>Profesion_CIENCIAS</th>\n",
       "      <td>0.000000</td>\n",
       "    </tr>\n",
       "    <tr>\n",
       "      <th>Profesion_BIOINGENIERO</th>\n",
       "      <td>0.000000</td>\n",
       "    </tr>\n",
       "    <tr>\n",
       "      <th>Municipio_DANE_Aguazul</th>\n",
       "      <td>0.000000</td>\n",
       "    </tr>\n",
       "    <tr>\n",
       "      <th>Profesion_BIBLIOTECOLOGO</th>\n",
       "      <td>0.000000</td>\n",
       "    </tr>\n",
       "    <tr>\n",
       "      <th>VALOR_CDAT_7</th>\n",
       "      <td>0.000000</td>\n",
       "    </tr>\n",
       "    <tr>\n",
       "      <th>Municipio_DANE_Aipe</th>\n",
       "      <td>0.000000</td>\n",
       "    </tr>\n",
       "    <tr>\n",
       "      <th>Profesion_AGROLOGO</th>\n",
       "      <td>0.000000</td>\n",
       "    </tr>\n",
       "    <tr>\n",
       "      <th>TP_grande_6</th>\n",
       "      <td>0.000000</td>\n",
       "    </tr>\n",
       "    <tr>\n",
       "      <th>Municipio_DANE_Pueblo Rico</th>\n",
       "      <td>0.000000</td>\n",
       "    </tr>\n",
       "    <tr>\n",
       "      <th>TP_grande_5</th>\n",
       "      <td>0.000000</td>\n",
       "    </tr>\n",
       "    <tr>\n",
       "      <th>Profesion_ADMINISTRADOR LOGISTICO</th>\n",
       "      <td>0.000000</td>\n",
       "    </tr>\n",
       "    <tr>\n",
       "      <th>Municipio_DANE_Arboleda</th>\n",
       "      <td>0.000000</td>\n",
       "    </tr>\n",
       "    <tr>\n",
       "      <th>Municipio_DANE_Ariguaní</th>\n",
       "      <td>0.000000</td>\n",
       "    </tr>\n",
       "    <tr>\n",
       "      <th>TI_capital_11</th>\n",
       "      <td>0.000000</td>\n",
       "    </tr>\n",
       "    <tr>\n",
       "      <th>Profesion_ADMINISTRADOR DE OBRAS CIVILES</th>\n",
       "      <td>0.000000</td>\n",
       "    </tr>\n",
       "    <tr>\n",
       "      <th>Municipio_DANE_Plato</th>\n",
       "      <td>0.000000</td>\n",
       "    </tr>\n",
       "    <tr>\n",
       "      <th>Municipio_DANE_Ayapel</th>\n",
       "      <td>0.000000</td>\n",
       "    </tr>\n",
       "    <tr>\n",
       "      <th>VALOR_CDAT_8</th>\n",
       "      <td>0.000000</td>\n",
       "    </tr>\n",
       "    <tr>\n",
       "      <th>CALIF_CART_CLIENTE_3_B</th>\n",
       "      <td>0.000000</td>\n",
       "    </tr>\n",
       "  </tbody>\n",
       "</table>\n",
       "<p>2465 rows × 1 columns</p>\n",
       "</div>"
      ],
      "text/plain": [
       "                                          importance\n",
       "TOTALCAPTACIONES_5                          0.040017\n",
       "TOTALCAPTACIONES_8                          0.039118\n",
       "SALDO_AHORROS_1                             0.038983\n",
       "TOTALCAPTACIONES_6                          0.035354\n",
       "SALDO_AHORROS_A_4                           0.030233\n",
       "SALDO_AHORROS_10                            0.028969\n",
       "TOTALCAPTACIONES_10                         0.027822\n",
       "SALDO_AHORROS_A_2                           0.018548\n",
       "N_AHORROS_A_3                               0.018352\n",
       "SALDO_AHORROS_6                             0.016609\n",
       "N_AHORROS_A_9                               0.015715\n",
       "Tiempo_BAC                                  0.015641\n",
       "N_AHORROS_A_12                              0.015253\n",
       "SALDO_AHORROS_A_9                           0.014986\n",
       "N_AHORROS_I_2                               0.013044\n",
       "SALDO_AHORROS_9                             0.012060\n",
       "SALDO_CART_CRED_2                           0.012002\n",
       "Pasivos                                     0.011935\n",
       "N_AHORROS_I_9                               0.011446\n",
       "Activos                                     0.011423\n",
       "N_AHORROS_A_6                               0.011291\n",
       "SALDO_CART_CRED_3                           0.010941\n",
       "SALDO_CART_CRED_1                           0.010741\n",
       "Edad                                        0.010614\n",
       "Ruralidad_Ciudades y aglomeraciones         0.010448\n",
       "SEGURO_N                                    0.010210\n",
       "N_Deb_Ahor_9                                0.009963\n",
       "N_AHORROS_A_11                              0.009870\n",
       "N_AHORROS_I_4                               0.009550\n",
       "TOTALCAPTACIONES_1                          0.009409\n",
       "...                                              ...\n",
       "Municipio_DANE_Ovejas                       0.000000\n",
       "Beneficios_ICR_4                            0.000000\n",
       "Beneficios_ICR_5                            0.000000\n",
       "beneficios_LEC_5                            0.000000\n",
       "NOMBRE_OFICINA_ALTAMIRA - HUILA             0.000000\n",
       "beneficios_LEC_6                            0.000000\n",
       "Profesion_ANTROPOLOGO                       0.000000\n",
       "N_DESEMBOLSO_CRED_MES_6                     0.000000\n",
       "Profesion_CIENCIAS DEL DEPORTE              0.000000\n",
       "Municipio_DANE_Puerto Libertador            0.000000\n",
       "Municipio_DANE_Agrado                       0.000000\n",
       "Profesion_CIENCIAS                          0.000000\n",
       "Profesion_BIOINGENIERO                      0.000000\n",
       "Municipio_DANE_Aguazul                      0.000000\n",
       "Profesion_BIBLIOTECOLOGO                    0.000000\n",
       "VALOR_CDAT_7                                0.000000\n",
       "Municipio_DANE_Aipe                         0.000000\n",
       "Profesion_AGROLOGO                          0.000000\n",
       "TP_grande_6                                 0.000000\n",
       "Municipio_DANE_Pueblo Rico                  0.000000\n",
       "TP_grande_5                                 0.000000\n",
       "Profesion_ADMINISTRADOR LOGISTICO           0.000000\n",
       "Municipio_DANE_Arboleda                     0.000000\n",
       "Municipio_DANE_Ariguaní                     0.000000\n",
       "TI_capital_11                               0.000000\n",
       "Profesion_ADMINISTRADOR DE OBRAS CIVILES    0.000000\n",
       "Municipio_DANE_Plato                        0.000000\n",
       "Municipio_DANE_Ayapel                       0.000000\n",
       "VALOR_CDAT_8                                0.000000\n",
       "CALIF_CART_CLIENTE_3_B                      0.000000\n",
       "\n",
       "[2465 rows x 1 columns]"
      ]
     },
     "execution_count": 51,
     "metadata": {},
     "output_type": "execute_result"
    }
   ],
   "source": [
    "feature_importances = pd.DataFrame(cfl.feature_importances_,\n",
    "                                   index = X_train.columns,\n",
    "                                    columns=['importance']).sort_values('importance', ascending=False)\n",
    "\n",
    "feature_importances"
   ]
  },
  {
   "cell_type": "code",
   "execution_count": 52,
   "metadata": {},
   "outputs": [],
   "source": [
    "#Exportamos a Excel las variables principales para analizarlas\n",
    "#writer = feature_importances.to_excel('feature_importances.xls')"
   ]
  },
  {
   "cell_type": "code",
   "execution_count": 53,
   "metadata": {},
   "outputs": [
    {
     "data": {
      "text/html": [
       "<div>\n",
       "<style scoped>\n",
       "    .dataframe tbody tr th:only-of-type {\n",
       "        vertical-align: middle;\n",
       "    }\n",
       "\n",
       "    .dataframe tbody tr th {\n",
       "        vertical-align: top;\n",
       "    }\n",
       "\n",
       "    .dataframe thead th {\n",
       "        text-align: right;\n",
       "    }\n",
       "</style>\n",
       "<table border=\"1\" class=\"dataframe\">\n",
       "  <thead>\n",
       "    <tr style=\"text-align: right;\">\n",
       "      <th></th>\n",
       "      <th>importance</th>\n",
       "    </tr>\n",
       "  </thead>\n",
       "  <tbody>\n",
       "    <tr>\n",
       "      <th>TOTALCAPTACIONES_5</th>\n",
       "      <td>0.040017</td>\n",
       "    </tr>\n",
       "    <tr>\n",
       "      <th>TOTALCAPTACIONES_8</th>\n",
       "      <td>0.039118</td>\n",
       "    </tr>\n",
       "    <tr>\n",
       "      <th>SALDO_AHORROS_1</th>\n",
       "      <td>0.038983</td>\n",
       "    </tr>\n",
       "    <tr>\n",
       "      <th>TOTALCAPTACIONES_6</th>\n",
       "      <td>0.035354</td>\n",
       "    </tr>\n",
       "    <tr>\n",
       "      <th>SALDO_AHORROS_A_4</th>\n",
       "      <td>0.030233</td>\n",
       "    </tr>\n",
       "    <tr>\n",
       "      <th>SALDO_AHORROS_10</th>\n",
       "      <td>0.028969</td>\n",
       "    </tr>\n",
       "    <tr>\n",
       "      <th>TOTALCAPTACIONES_10</th>\n",
       "      <td>0.027822</td>\n",
       "    </tr>\n",
       "    <tr>\n",
       "      <th>SALDO_AHORROS_A_2</th>\n",
       "      <td>0.018548</td>\n",
       "    </tr>\n",
       "    <tr>\n",
       "      <th>N_AHORROS_A_3</th>\n",
       "      <td>0.018352</td>\n",
       "    </tr>\n",
       "    <tr>\n",
       "      <th>SALDO_AHORROS_6</th>\n",
       "      <td>0.016609</td>\n",
       "    </tr>\n",
       "    <tr>\n",
       "      <th>N_AHORROS_A_9</th>\n",
       "      <td>0.015715</td>\n",
       "    </tr>\n",
       "    <tr>\n",
       "      <th>Tiempo_BAC</th>\n",
       "      <td>0.015641</td>\n",
       "    </tr>\n",
       "    <tr>\n",
       "      <th>N_AHORROS_A_12</th>\n",
       "      <td>0.015253</td>\n",
       "    </tr>\n",
       "    <tr>\n",
       "      <th>SALDO_AHORROS_A_9</th>\n",
       "      <td>0.014986</td>\n",
       "    </tr>\n",
       "    <tr>\n",
       "      <th>N_AHORROS_I_2</th>\n",
       "      <td>0.013044</td>\n",
       "    </tr>\n",
       "    <tr>\n",
       "      <th>SALDO_AHORROS_9</th>\n",
       "      <td>0.012060</td>\n",
       "    </tr>\n",
       "    <tr>\n",
       "      <th>SALDO_CART_CRED_2</th>\n",
       "      <td>0.012002</td>\n",
       "    </tr>\n",
       "    <tr>\n",
       "      <th>Pasivos</th>\n",
       "      <td>0.011935</td>\n",
       "    </tr>\n",
       "    <tr>\n",
       "      <th>N_AHORROS_I_9</th>\n",
       "      <td>0.011446</td>\n",
       "    </tr>\n",
       "    <tr>\n",
       "      <th>Activos</th>\n",
       "      <td>0.011423</td>\n",
       "    </tr>\n",
       "    <tr>\n",
       "      <th>N_AHORROS_A_6</th>\n",
       "      <td>0.011291</td>\n",
       "    </tr>\n",
       "    <tr>\n",
       "      <th>SALDO_CART_CRED_3</th>\n",
       "      <td>0.010941</td>\n",
       "    </tr>\n",
       "    <tr>\n",
       "      <th>SALDO_CART_CRED_1</th>\n",
       "      <td>0.010741</td>\n",
       "    </tr>\n",
       "    <tr>\n",
       "      <th>Edad</th>\n",
       "      <td>0.010614</td>\n",
       "    </tr>\n",
       "    <tr>\n",
       "      <th>Ruralidad_Ciudades y aglomeraciones</th>\n",
       "      <td>0.010448</td>\n",
       "    </tr>\n",
       "    <tr>\n",
       "      <th>SEGURO_N</th>\n",
       "      <td>0.010210</td>\n",
       "    </tr>\n",
       "    <tr>\n",
       "      <th>N_Deb_Ahor_9</th>\n",
       "      <td>0.009963</td>\n",
       "    </tr>\n",
       "    <tr>\n",
       "      <th>N_AHORROS_A_11</th>\n",
       "      <td>0.009870</td>\n",
       "    </tr>\n",
       "    <tr>\n",
       "      <th>N_AHORROS_I_4</th>\n",
       "      <td>0.009550</td>\n",
       "    </tr>\n",
       "    <tr>\n",
       "      <th>TOTALCAPTACIONES_1</th>\n",
       "      <td>0.009409</td>\n",
       "    </tr>\n",
       "    <tr>\n",
       "      <th>...</th>\n",
       "      <td>...</td>\n",
       "    </tr>\n",
       "    <tr>\n",
       "      <th>REGIONAL_ORIENTE</th>\n",
       "      <td>0.000827</td>\n",
       "    </tr>\n",
       "    <tr>\n",
       "      <th>DESEMBOLSO_TARJ_CRED_5</th>\n",
       "      <td>0.000826</td>\n",
       "    </tr>\n",
       "    <tr>\n",
       "      <th>N_AHORROS_I_6</th>\n",
       "      <td>0.000790</td>\n",
       "    </tr>\n",
       "    <tr>\n",
       "      <th>Departamento_DANE_Antioquia</th>\n",
       "      <td>0.000784</td>\n",
       "    </tr>\n",
       "    <tr>\n",
       "      <th>REGIONAL_BOGOTA</th>\n",
       "      <td>0.000767</td>\n",
       "    </tr>\n",
       "    <tr>\n",
       "      <th>DESEMBOLSO_TARJ_CRED_2</th>\n",
       "      <td>0.000750</td>\n",
       "    </tr>\n",
       "    <tr>\n",
       "      <th>REGIONAL_OCCIDENTE</th>\n",
       "      <td>0.000744</td>\n",
       "    </tr>\n",
       "    <tr>\n",
       "      <th>Departamento_DANE_Boyacá</th>\n",
       "      <td>0.000733</td>\n",
       "    </tr>\n",
       "    <tr>\n",
       "      <th>REGIONAL_CAFETERA</th>\n",
       "      <td>0.000725</td>\n",
       "    </tr>\n",
       "    <tr>\n",
       "      <th>Ruralidad_Rural disperso</th>\n",
       "      <td>0.000710</td>\n",
       "    </tr>\n",
       "    <tr>\n",
       "      <th>N_AHORROS_I_8</th>\n",
       "      <td>0.000706</td>\n",
       "    </tr>\n",
       "    <tr>\n",
       "      <th>N_CTE_A_10</th>\n",
       "      <td>0.000701</td>\n",
       "    </tr>\n",
       "    <tr>\n",
       "      <th>N_AHORROS_I_5</th>\n",
       "      <td>0.000696</td>\n",
       "    </tr>\n",
       "    <tr>\n",
       "      <th>Depende_Tercero_S</th>\n",
       "      <td>0.000687</td>\n",
       "    </tr>\n",
       "    <tr>\n",
       "      <th>Nivel_Educativo_NINGUNO</th>\n",
       "      <td>0.000683</td>\n",
       "    </tr>\n",
       "    <tr>\n",
       "      <th>SALDO_TARJ_CRED_2</th>\n",
       "      <td>0.000681</td>\n",
       "    </tr>\n",
       "    <tr>\n",
       "      <th>REGIONAL_SUR</th>\n",
       "      <td>0.000676</td>\n",
       "    </tr>\n",
       "    <tr>\n",
       "      <th>REGIONAL_SANTANDERES</th>\n",
       "      <td>0.000675</td>\n",
       "    </tr>\n",
       "    <tr>\n",
       "      <th>VALOR_CDT_6</th>\n",
       "      <td>0.000675</td>\n",
       "    </tr>\n",
       "    <tr>\n",
       "      <th>Nivel_Educativo_UNIVERSITARIO</th>\n",
       "      <td>0.000669</td>\n",
       "    </tr>\n",
       "    <tr>\n",
       "      <th>N_Ahorro_Out_2</th>\n",
       "      <td>0.000660</td>\n",
       "    </tr>\n",
       "    <tr>\n",
       "      <th>N_TARJ_CRED_2</th>\n",
       "      <td>0.000656</td>\n",
       "    </tr>\n",
       "    <tr>\n",
       "      <th>N_CART_CRED_8</th>\n",
       "      <td>0.000651</td>\n",
       "    </tr>\n",
       "    <tr>\n",
       "      <th>SALDO_AHORROS11</th>\n",
       "      <td>0.000650</td>\n",
       "    </tr>\n",
       "    <tr>\n",
       "      <th>SALDO_TARJ_CRED_3</th>\n",
       "      <td>0.000649</td>\n",
       "    </tr>\n",
       "    <tr>\n",
       "      <th>Competencia_Media</th>\n",
       "      <td>0.000636</td>\n",
       "    </tr>\n",
       "    <tr>\n",
       "      <th>REGIONAL_COSTA</th>\n",
       "      <td>0.000636</td>\n",
       "    </tr>\n",
       "    <tr>\n",
       "      <th>Departamento_DANE_Cundinamarca</th>\n",
       "      <td>0.000622</td>\n",
       "    </tr>\n",
       "    <tr>\n",
       "      <th>Depende_Tercero_N</th>\n",
       "      <td>0.000617</td>\n",
       "    </tr>\n",
       "    <tr>\n",
       "      <th>SALDO_TARJ_CRED_8</th>\n",
       "      <td>0.000607</td>\n",
       "    </tr>\n",
       "  </tbody>\n",
       "</table>\n",
       "<p>187 rows × 1 columns</p>\n",
       "</div>"
      ],
      "text/plain": [
       "                                     importance\n",
       "TOTALCAPTACIONES_5                     0.040017\n",
       "TOTALCAPTACIONES_8                     0.039118\n",
       "SALDO_AHORROS_1                        0.038983\n",
       "TOTALCAPTACIONES_6                     0.035354\n",
       "SALDO_AHORROS_A_4                      0.030233\n",
       "SALDO_AHORROS_10                       0.028969\n",
       "TOTALCAPTACIONES_10                    0.027822\n",
       "SALDO_AHORROS_A_2                      0.018548\n",
       "N_AHORROS_A_3                          0.018352\n",
       "SALDO_AHORROS_6                        0.016609\n",
       "N_AHORROS_A_9                          0.015715\n",
       "Tiempo_BAC                             0.015641\n",
       "N_AHORROS_A_12                         0.015253\n",
       "SALDO_AHORROS_A_9                      0.014986\n",
       "N_AHORROS_I_2                          0.013044\n",
       "SALDO_AHORROS_9                        0.012060\n",
       "SALDO_CART_CRED_2                      0.012002\n",
       "Pasivos                                0.011935\n",
       "N_AHORROS_I_9                          0.011446\n",
       "Activos                                0.011423\n",
       "N_AHORROS_A_6                          0.011291\n",
       "SALDO_CART_CRED_3                      0.010941\n",
       "SALDO_CART_CRED_1                      0.010741\n",
       "Edad                                   0.010614\n",
       "Ruralidad_Ciudades y aglomeraciones    0.010448\n",
       "SEGURO_N                               0.010210\n",
       "N_Deb_Ahor_9                           0.009963\n",
       "N_AHORROS_A_11                         0.009870\n",
       "N_AHORROS_I_4                          0.009550\n",
       "TOTALCAPTACIONES_1                     0.009409\n",
       "...                                         ...\n",
       "REGIONAL_ORIENTE                       0.000827\n",
       "DESEMBOLSO_TARJ_CRED_5                 0.000826\n",
       "N_AHORROS_I_6                          0.000790\n",
       "Departamento_DANE_Antioquia            0.000784\n",
       "REGIONAL_BOGOTA                        0.000767\n",
       "DESEMBOLSO_TARJ_CRED_2                 0.000750\n",
       "REGIONAL_OCCIDENTE                     0.000744\n",
       "Departamento_DANE_Boyacá               0.000733\n",
       "REGIONAL_CAFETERA                      0.000725\n",
       "Ruralidad_Rural disperso               0.000710\n",
       "N_AHORROS_I_8                          0.000706\n",
       "N_CTE_A_10                             0.000701\n",
       "N_AHORROS_I_5                          0.000696\n",
       "Depende_Tercero_S                      0.000687\n",
       "Nivel_Educativo_NINGUNO                0.000683\n",
       "SALDO_TARJ_CRED_2                      0.000681\n",
       "REGIONAL_SUR                           0.000676\n",
       "REGIONAL_SANTANDERES                   0.000675\n",
       "VALOR_CDT_6                            0.000675\n",
       "Nivel_Educativo_UNIVERSITARIO          0.000669\n",
       "N_Ahorro_Out_2                         0.000660\n",
       "N_TARJ_CRED_2                          0.000656\n",
       "N_CART_CRED_8                          0.000651\n",
       "SALDO_AHORROS11                        0.000650\n",
       "SALDO_TARJ_CRED_3                      0.000649\n",
       "Competencia_Media                      0.000636\n",
       "REGIONAL_COSTA                         0.000636\n",
       "Departamento_DANE_Cundinamarca         0.000622\n",
       "Depende_Tercero_N                      0.000617\n",
       "SALDO_TARJ_CRED_8                      0.000607\n",
       "\n",
       "[187 rows x 1 columns]"
      ]
     },
     "execution_count": 53,
     "metadata": {},
     "output_type": "execute_result"
    }
   ],
   "source": [
    "# Con el factor 0.0007, separamos las variables más importantes\n",
    "df_new = feature_importances[feature_importances.importance>0.0006]\n",
    "df_new"
   ]
  },
  {
   "cell_type": "code",
   "execution_count": 54,
   "metadata": {},
   "outputs": [
    {
     "data": {
      "text/plain": [
       "(187, 1)"
      ]
     },
     "execution_count": 54,
     "metadata": {},
     "output_type": "execute_result"
    }
   ],
   "source": [
    "df_new.shape"
   ]
  },
  {
   "cell_type": "markdown",
   "metadata": {},
   "source": [
    "### 2.3. Implementación de modelos con base en las variables selecionadas "
   ]
  },
  {
   "cell_type": "markdown",
   "metadata": {},
   "source": [
    "Una vez se obtienen las variables de los modelos implementados para hacer reducción de dimensionalidad, se procede a implementar los algorítmos de los modelos de clasificación, en este caso se trabaja con las variables más importantes obtenidas del modelo de **Random Forest**. En un segundo paso se implementan los mismos modelos con el input del **PCA** y finalmente se evaluan."
   ]
  },
  {
   "cell_type": "markdown",
   "metadata": {},
   "source": [
    "**2.3.1.** Implementación de modelos con base en las variables más importantes obtenidas en el random forest"
   ]
  },
  {
   "cell_type": "code",
   "execution_count": 55,
   "metadata": {},
   "outputs": [],
   "source": [
    "# Separación de las variables independientes\n",
    "X_=datos_dum.loc[:,\n",
    "(\"TOTALCAPTACIONES_3\",\n",
    "\"TOTALCAPTACIONES_5\",\n",
    "\"TOTALCAPTACIONES_6\",\n",
    "\"TOTALCAPTACIONES_11\",\n",
    "\"N_AHORROS_A_3\",\n",
    "\"N_AHORROS_A_11\",\n",
    "\"N_AHORROS_I_1\",\n",
    "\"Poblacion_Mpio\",\n",
    "\"N_AHORROS_I_2\",\n",
    "\"N_AHORROS_A_7\",\n",
    "\"N_cred_Ahor_4\",\n",
    "\"SALDO_AHORROS_A_1\",\n",
    "\"Tiempo_BAC\",\n",
    "\"SALDO_AHORROS_12\",\n",
    "\"TOTALCOLOCACIONES_3\",\n",
    "\"SALDO_AHORROS_4\",\n",
    "\"TOTALCOLOCACIONES_4\",\n",
    "\"SALDO_CART_CRED_4\",\n",
    "\"Edad\",\n",
    "\"TOTALCOLOCACIONES_11\",\n",
    "\"TOTALCOLOCACIONES_1\",\n",
    "\"N_AHORROS_I_10\",\n",
    "\"TOTALCAPTACIONES_10\",\n",
    "\"Ingresos\",\n",
    "\"TOTALCAPTACIONES_4\",\n",
    "\"TOTALCOLOCACIONES_2\",\n",
    "\"TOTALCOLOCACIONES_8\",\n",
    "\"Patrimonio\",\n",
    "\"SALDO_AHORROS_A_11\",\n",
    "\"SALDO_CART_CRED_1\",\n",
    "\"SALDO_AHORROS_2\",\n",
    "\"SALDO_CART_CRED_8\",\n",
    "\"TOTALCAPTACIONES_8\",\n",
    "\"N_Deb_Ahor_2\",\n",
    "\"TOTALCAPTACIONES_1\",\n",
    "\"Activos\",\n",
    "\"Egresos\",\n",
    "\"TOTALCAPTACIONES_2\",\n",
    "\"TOTALCOLOCACIONES_12\",\n",
    "\"TOTALCOLOCACIONES_7\",\n",
    "\"SALDO_CART_CRED_7\",\n",
    "\"SALDO_AHORROS_A_9\",\n",
    "\"TOTALCAPTACIONES_12\",\n",
    "\"SALDO_CART_CRED_10\",\n",
    "\"Municipio_DANE_Medellín\",\n",
    "\"Pasivos\",\n",
    "\"TOTALCAPTACIONES_7\",\n",
    "\"TOTALCOLOCACIONES_6\",\n",
    "\"VALOR_CDT_8\",\n",
    "\"N_AHORROS_A_1\",\n",
    "\"SALDO_CART_CRED_3\",\n",
    "\"SALDO_AHORROS_A_6\",\n",
    "\"SALDO_AHORROS_A_5\",\n",
    "\"TOTALCAPTACIONES_9\",\n",
    "\"SALDO_AHORROS_A_3\",\n",
    "\"N_CDT_3\",\n",
    "\"SALDO_AHORROS_A_10\",\n",
    "\"SALDO_AHORROS_A_8\",\n",
    "\"SALDO_AHORROS_5\",\n",
    "\"SLD_VCDO_CART_CRED_5\",\n",
    "\"N_AHORROS_A_2\",\n",
    "\"SALDO_AHORROS_A_2\",\n",
    "\"N_CART_CRED_6\",\n",
    "\"TOTALCOLOCACIONES_10\",\n",
    "\"SALDO_AHORROS_1\",\n",
    "\"SALDO_AHORROS_A_4\",\n",
    "\"SALDO_CART_CRED_11\",\n",
    "\"SALDO_AHORROS_7\",\n",
    "\"SALDO_AHORROS_A_7\",\n",
    "\"TOTALCOLOCACIONES_5\",\n",
    "\"SLD_VCDO_CART_CRED_7\",\n",
    "\"SALDO_CART_CRED_2\",\n",
    "\"N_CART_CRED_8\",\n",
    "\"SALDO_CART_CRED_12\",\n",
    "\"SALDO_AHORROS_A_12\",\n",
    "\"SALDO_CART_CRED_5\",\n",
    "\"N_Deb_Ahor_4\",\n",
    "\"SEGURO_N\",\n",
    "\"N_AHORROS_A_10\",\n",
    "\"N_CART_CRED_10\",\n",
    "\"SALDO_CART_CRED_6\",\n",
    "\"TOTALCOLOCACIONES_9\",\n",
    "\"SALDO_CART_CRED_9\",\n",
    "\"N_AHORROS_I_4\",\n",
    "\"SLD_VCDO_CART_CRED_10\",\n",
    "\"N_CDT_4\",\n",
    "\"SLD_VCDO_CART_CRED_2\",\n",
    "\"N_Deb_Ahor_11\",\n",
    "\"N_AHORROS_A_12\",\n",
    "\"banca_cliente_AGROPECUARIO\",\n",
    "\"N_Deb_Ahor_10\",\n",
    "\"N_CDT_8\",\n",
    "\"N_AHORROS_I_3\",\n",
    "\"N_AHORROS_I_6\",\n",
    "\"N_Deb_Ahor_7\",\n",
    "\"N_cred_Ahor_1\",\n",
    "\"SALDO_AHORROS_3\",\n",
    "\"N_Deb_Ahor_8\",\n",
    "\"N_CART_CRED_1\",\n",
    "\"N_Deb_Ahor_6\",\n",
    "\"N_Deb_Ahor_3\",\n",
    "\"N_Deb_Ahor_5\",\n",
    "\"SLD_VCDO_CART_CRED_12\",\n",
    "\"N_Deb_Ahor_1\",\n",
    "\"SEGURO_S\",\n",
    "\"Nivel_Educativo_BACHILLERATO\",\n",
    "\"N_CART_CRED_2\",\n",
    "\"N_Deb_Ahor_12\",\n",
    "\"N_Deb_Ahor_9\",\n",
    "\"SALDO_TARJ_CRED_1\",\n",
    "\"SALDO_AHORROS_6\",\n",
    "\"Competencia_Alta\",\n",
    "\"N_AHORROS_I_12\",\n",
    "\"SLD_VCDO_CART_CRED_4\",\n",
    "\"Competencia_Sin_Competencia\",\n",
    "\"N_cred_Ahor_6\",\n",
    "\"SLD_VCDO_CART_CRED_8\",\n",
    "\"Estado_Civil_SOLTERO\",\n",
    "\"Genero_F\",\n",
    "\"SLD_VCDO_CART_CRED_11\",\n",
    "\"Genero_M\",\n",
    "\"Nivel_Educativo_PRIMARIA\",\n",
    "\"Estado_Civil_CASADO\",\n",
    "\"N_AHORROS_I_8\",\n",
    "\"N_cred_Ahor_5\",\n",
    "\"N_cred_Ahor_12\",\n",
    "\"N_cred_Ahor_7\",\n",
    "\"Ruralidad_Ciudades y aglomeraciones\",\n",
    "\"N_cred_Ahor_2\",\n",
    "\"N_cred_Ahor_11\",\n",
    "\"N_cred_Ahor_3\",\n",
    "\"N_CDT_9\",\n",
    "\"N_AHORROS_A_6\",\n",
    "\"banca_cliente_PERSONAL\",\n",
    "\"N_cred_Ahor_10\",\n",
    "\"Ruralidad_Rural\",\n",
    "\"N_CART_CRED_3\",\n",
    "\"N_cred_Ahor_8\",\n",
    "\"N_CTE_I_1\",\n",
    "\"Profesion_SIN PROFESION\",\n",
    "\"N_cred_Ahor_9\",\n",
    "\"SALDO_AHORROS_8\",\n",
    "\"N_AHORROS_I_5\",\n",
    "\"Postconflicto_N\",\n",
    "\"SALDO_AHORROS_9\",\n",
    "\"SLD_VCDO_CART_CRED_6\",\n",
    "\"DESEMBOLSO_TARJ_CRED_2\",\n",
    "\"Postconflicto_S\",\n",
    "\"SALDO_AHORROS11\",\n",
    "\"SLD_VCDO_CART_CRED_3\",\n",
    "\"N_Ahorro_Out_2\",\n",
    "\"Victima_N\",\n",
    "\"Victima_S\",\n",
    "\"Competencia_Baja\",\n",
    "\"N_TARJ_CRED_6\",\n",
    "\"Ruralidad_Intermedio\",\n",
    "\"REGIONAL_ORIENTE\",\n",
    "\"N_CDT_6\",\n",
    "\"SLD_VCDO_TARJ_CREDITO_6\",\n",
    "\"REGIONAL_ANTIOQUIA\",\n",
    "\"N_CTE_A_8\",\n",
    "\"Estado_Civil_UNION LIBRE\",\n",
    "\"SLD_VCDO_CART_CRED_1\",\n",
    "\"SALDO_AHORROS_10\",\n",
    "\"N_CART_CRED_12\",\n",
    "\"VALOR_CDT_4\",\n",
    "\"SALDO_TARJ_CRED_5\",\n",
    "\"REGIONAL_OCCIDENTE\",\n",
    "\"N_AHORROS_A_4\",\n",
    "\"Departamento_DANE_Antioquia\",\n",
    "\"REGIONAL_BOGOTA\",\n",
    "\"N_CART_CRED_9\",\n",
    "\"VALOR_CDT_12\",\n",
    "\"Ruralidad_Rural disperso\",\n",
    "\"Nivel_Educativo_UNIVERSITARIO\",\n",
    "\"VALOR_CDT_3\",\n",
    "\"N_AHORROS_A_8\",\n",
    "\"N_TRANSAC_TDC_MES_1\",\n",
    "\"N_AHORROS_A_5\",\n",
    "\"Nivel_Educativo_NINGUNO\",\n",
    "\"Competencia_Media\",\n",
    "\"Estado_Civil_VIUDO\",\n",
    "\"VALOR_CDT_1\",\n",
    "\"SLD_VCDO_CART_CRED_9\",\n",
    "\"Estado_Civil_SEPARADO\",\n",
    "\"REGIONAL_CAFETERA\",\n",
    "\"Departamento_DANE_Valle del Cauca\",\n",
    "\"REGIONAL_SANTANDERES\",\n",
    "\"SALDO_TARJ_CRED_6\",\n",
    "\"N_Ahorro_Out_1\",\n",
    "\"SALDO_TARJ_CRED_10\",\n",
    "\"Profesion_AGRICULTOR\",\n",
    "\"Departamento_DANE_Boyacá\",\n",
    "\"DESEMBOLSO_TARJ_CRED_7\",\n",
    "\"REGIONAL_COSTA\",\n",
    "\"N_TRANSAC_TDC_MES_2\")]"
   ]
  },
  {
   "cell_type": "markdown",
   "metadata": {},
   "source": [
    "### 2.3.2. Regresión Logística"
   ]
  },
  {
   "cell_type": "markdown",
   "metadata": {},
   "source": [
    "Una vez se obtienen las variables más importantes del modelo Random Forest, se utilizan como input para correr de nuevo el modelo de regresión logística."
   ]
  },
  {
   "cell_type": "code",
   "execution_count": 56,
   "metadata": {},
   "outputs": [],
   "source": [
    "# partición con las variables selecccionadas random forest\n",
    "X_train_, X_test_, y_train_, y_test_ = train_test_split(X_, y, test_size = .3, random_state=2)"
   ]
  },
  {
   "cell_type": "code",
   "execution_count": 57,
   "metadata": {},
   "outputs": [
    {
     "data": {
      "text/plain": [
       "((75560, 196), (32384, 196), (75560, 1), (32384, 1))"
      ]
     },
     "execution_count": 57,
     "metadata": {},
     "output_type": "execute_result"
    }
   ],
   "source": [
    "X_train_.shape, X_test_.shape, y_train_.shape, y_test_.shape"
   ]
  },
  {
   "cell_type": "code",
   "execution_count": 58,
   "metadata": {},
   "outputs": [
    {
     "name": "stderr",
     "output_type": "stream",
     "text": [
      "C:\\Users\\camiloto\\AppData\\Local\\Continuum\\anaconda3\\lib\\site-packages\\sklearn\\utils\\validation.py:578: DataConversionWarning: A column-vector y was passed when a 1d array was expected. Please change the shape of y to (n_samples, ), for example using ravel().\n",
      "  y = column_or_1d(y, warn=True)\n"
     ]
    },
    {
     "data": {
      "text/plain": [
       "LogisticRegression(C=1.0, class_weight=None, dual=False, fit_intercept=True,\n",
       "          intercept_scaling=1, max_iter=100, multi_class='ovr', n_jobs=1,\n",
       "          penalty='l2', random_state=None, solver='liblinear', tol=0.0001,\n",
       "          verbose=0, warm_start=False)"
      ]
     },
     "execution_count": 58,
     "metadata": {},
     "output_type": "execute_result"
    }
   ],
   "source": [
    "LogReg = LogisticRegression()\n",
    "LogReg.fit(X_train_, y_train_)"
   ]
  },
  {
   "cell_type": "code",
   "execution_count": 59,
   "metadata": {},
   "outputs": [],
   "source": [
    "y_pred_3 = LogReg.predict(X_test_)"
   ]
  },
  {
   "cell_type": "code",
   "execution_count": 60,
   "metadata": {},
   "outputs": [
    {
     "name": "stdout",
     "output_type": "stream",
     "text": [
      "             precision    recall  f1-score   support\n",
      "\n",
      "No abandono       0.77      0.94      0.85     22688\n",
      "Si abandono       0.71      0.36      0.48      9696\n",
      "\n",
      "avg / total       0.75      0.76      0.74     32384\n",
      "\n"
     ]
    }
   ],
   "source": [
    "print(classification_report(y_test_, y_pred_3, target_names=target_names))"
   ]
  },
  {
   "cell_type": "code",
   "execution_count": 61,
   "metadata": {
    "scrolled": true
   },
   "outputs": [
    {
     "data": {
      "text/plain": [
       "Text(0.5,1,'Confusion Matrix')"
      ]
     },
     "execution_count": 61,
     "metadata": {},
     "output_type": "execute_result"
    },
    {
     "data": {
      "image/png": "[encoded data removed]",
      "text/plain": [
       "<matplotlib.figure.Figure at 0x1f421cba630>"
      ]
     },
     "metadata": {},
     "output_type": "display_data"
    }
   ],
   "source": [
    "plt.figure(figsize=(24,16))\n",
    "plt.subplot(221)\n",
    "sb.heatmap(confusion_matrix(y_test_,y_pred_3),annot=True,fmt = \"d\",linecolor=\"k\",linewidths=2)\n",
    "plt.title(\"Confusion Matrix\",fontsize=24,fontweight=\"bold\")"
   ]
  },
  {
   "cell_type": "markdown",
   "metadata": {},
   "source": [
    "## Métricas calculadas a partir de una matriz de confusión"
   ]
  },
  {
   "cell_type": "code",
   "execution_count": 62,
   "metadata": {},
   "outputs": [
    {
     "name": "stdout",
     "output_type": "stream",
     "text": [
      "---------------------------------Métricas modelo 2 **Random Forest** ------------------------------------------------\n",
      "Accuracy               = 0.76\n",
      "Classification Error   = 0.24\n",
      "Sensitivity            = 0.36\n",
      "Specificity            = 0.94\n",
      "False Positive Rate    = 0.07\n",
      "Precision              = 0.707\n"
     ]
    }
   ],
   "source": [
    "# save confusion matrix and slice into four pieces\n",
    "confusion = metrics.confusion_matrix(y_test_, y_pred_3)\n",
    "TP = confusion[1, 1]\n",
    "TN = confusion[0, 0]\n",
    "FP = confusion[0, 1]\n",
    "FN = confusion[1, 0]\n",
    "\n",
    "### Cálculo de las métricas\n",
    "\n",
    "Accuracy= (\"Accuracy               = \"+str(round((TP + TN) / float(TP + TN + FP + FN),2)))\n",
    "\n",
    "Classification_Error = (\"Classification Error   = \"+str(round((FP + FN) / float(TP + TN + FP + FN),2)))\n",
    "\n",
    "Sensitivity = (\"Sensitivity            = \" +str(round(TP / float(TP + FN),2)))\n",
    "\n",
    "Specificity =(\"Specificity            = \" +str(round(TN / float(TN + FP),2)))\n",
    "\n",
    "Precision=(\"Precision              = \"+str  (round(TP / float(TP + FP),3)))\n",
    "\n",
    "print(\"---------------------------------Métricas modelo 2 **Random Forest** ------------------------------------------------\")\n",
    "print(Accuracy),print(Classification_Error), print(Sensitivity), print(Specificity), print(False_Positive_rate),\n",
    "print(Precision)"
   ]
  },
  {
   "cell_type": "code",
   "execution_count": 63,
   "metadata": {
    "scrolled": true
   },
   "outputs": [
    {
     "name": "stderr",
     "output_type": "stream",
     "text": [
      "C:\\Users\\camiloto\\AppData\\Local\\Continuum\\anaconda3\\lib\\site-packages\\sklearn\\linear_model\\base.py:340: RuntimeWarning: overflow encountered in exp\n",
      "  np.exp(prob, prob)\n"
     ]
    },
    {
     "data": {
      "image/png": "[encoded data removed]",
      "text/plain": [
       "<matplotlib.figure.Figure at 0x1f421cd20f0>"
      ]
     },
     "metadata": {},
     "output_type": "display_data"
    }
   ],
   "source": [
    "predicting_probabilites_2 = LogReg.predict_proba(X_test_)[:,1]\n",
    "fpr,tpr,thresholds = roc_curve(y_test, predicting_probabilites_2)\n",
    "#plot.subplot(222)\n",
    "plt.figure(figsize=(10,5))\n",
    "plt.plot(fpr,tpr,label = (\"Area_under the curve :\",round(auc(fpr,tpr),2)),color = \"r\")\n",
    "plt.plot([1,0],[1,0],linestyle = \"dashed\",color =\"b\")\n",
    "plt.legend(loc = \"best\")\n",
    "# show the plot\n",
    "plt.title('ROC curve for churn classifier - Logit con selección de variables')\n",
    "plt.xlabel('False Positive Rate (1 - Specificity)')\n",
    "plt.ylabel('True Positive Rate (Sensitivity)')\n",
    "plt.grid(True)\n",
    "pyplot.show()"
   ]
  },
  {
   "cell_type": "markdown",
   "metadata": {},
   "source": [
    "### Análisis de los resultados del modelo de regresión logística con las variables más importantes del RF\n",
    "\n",
    "De acuerdo con los resultados de este primer modelo de **Regresión Logística** con todas las variables, se observa que, en general el modelo clasifica correctamente el 76% de los casos, sin embargo, el error de la clasificación es del 24%, en cuanto a la sensibilidad, el valor de casos positivos clasificados correctamente  es del 36%, mientras que la especificidad, es decir, los casos negativos que el modelo clasifica correctamente es del 94% y los casos negativos que son clasificados de forma erronea es del 7%."
   ]
  },
  {
   "cell_type": "markdown",
   "metadata": {},
   "source": [
    "## **2.4.**   PCA"
   ]
  },
  {
   "cell_type": "markdown",
   "metadata": {},
   "source": [
    "A continuación, se implementa el modelo de análisis de componentes principales - **PCA**, acto seguido, se implementan los modelos de regresión logística y red neural con base en los componentes principales."
   ]
  },
  {
   "cell_type": "markdown",
   "metadata": {},
   "source": [
    "## Preparamos BD para PCA (Variables categoricas= 53)"
   ]
  },
  {
   "cell_type": "code",
   "execution_count": 64,
   "metadata": {},
   "outputs": [],
   "source": [
    "del datos['consecutivo']\n",
    "del datos['Target']\n",
    "del datos['banca_cliente']\n",
    "del datos['Depende_Tercero']\n",
    "del datos['Profesion']\n",
    "del datos['Estado_Civil']\n",
    "del datos['Nivel_Educativo']\n",
    "del datos['Genero']\n",
    "del datos['Victima']\n",
    "del datos['ZONAL']\n",
    "del datos['REGIONAL']\n",
    "del datos['Municipio_DANE']\n",
    "del datos['Departamento_DANE']\n",
    "del datos['Competencia']\n",
    "del datos['Ruralidad']\n",
    "del datos['Postconflicto']\n",
    "del datos['SEGURO']\n",
    "del datos['NOMBRE_OFICINA']\n",
    "del datos['FAG_1']\n",
    "del datos['FAG_2']\n",
    "del datos['FAG_3']\n",
    "del datos['FAG_4']\n",
    "del datos['FAG_5']\n",
    "del datos['FAG_6']\n",
    "del datos['FAG_7']\n",
    "del datos['FAG_8']\n",
    "del datos['FAG_9']\n",
    "del datos['FAG_10']\n",
    "del datos['FAG_11']\n",
    "del datos['FAG_12']\n",
    "del datos['hipoteca_1']\n",
    "del datos['hipoteca_2']\n",
    "del datos['hipoteca_3']\n",
    "del datos['hipoteca_4']\n",
    "del datos['hipoteca_5']\n",
    "del datos['hipoteca_6']\n",
    "del datos['hipoteca_7']\n",
    "del datos['hipoteca_8']\n",
    "del datos['hipoteca_9']\n",
    "del datos['hipoteca_10']\n",
    "del datos['hipoteca_11']\n",
    "del datos['hipoteca_12']\n",
    "del datos['CALIF_CART_CLIENTE_1']\n",
    "del datos['CALIF_CART_CLIENTE_2']\n",
    "del datos['CALIF_CART_CLIENTE_3']\n",
    "del datos['CALIF_CART_CLIENTE_4']\n",
    "del datos['CALIF_CART_CLIENTE_5']\n",
    "del datos['CALIF_CART_CLIENTE_6']\n",
    "del datos['CALIF_CART_CLIENTE_7']\n",
    "del datos['CALIF_CART_CLIENTE_8']\n",
    "del datos['CALIF_CART_CLIENTE_9']\n",
    "del datos['CALIF_CART_CLIENTE_10']\n",
    "del datos['CALIF_CART_CLIENTE_11']\n",
    "del datos['CALIF_CART_CLIENTE_12']\n"
   ]
  },
  {
   "cell_type": "code",
   "execution_count": 65,
   "metadata": {},
   "outputs": [
    {
     "data": {
      "text/plain": [
       "(107944, 632)"
      ]
     },
     "execution_count": 65,
     "metadata": {},
     "output_type": "execute_result"
    }
   ],
   "source": [
    "datos.shape"
   ]
  },
  {
   "cell_type": "markdown",
   "metadata": {},
   "source": [
    "### Se retiran variables con un unico valor, es decir, varianza igual a 0"
   ]
  },
  {
   "cell_type": "code",
   "execution_count": 66,
   "metadata": {
    "scrolled": true
   },
   "outputs": [
    {
     "data": {
      "text/plain": [
       "TP_grande_1              0.0\n",
       "TP_grande_3              0.0\n",
       "TP_grande_4              0.0\n",
       "TP_grande_5              0.0\n",
       "TP_grande_8              0.0\n",
       "TP_grande_9              0.0\n",
       "TP_grande_10             0.0\n",
       "TP_grande_11             0.0\n",
       "Beneficios_ICR_2         0.0\n",
       "Beneficios_ICR_6         0.0\n",
       "Beneficios_ICR_7         0.0\n",
       "Beneficios_ICR_10        0.0\n",
       "Beneficios_ICR_12        0.0\n",
       "reestructuraciones_1     0.0\n",
       "reestructuraciones_2     0.0\n",
       "reestructuraciones_3     0.0\n",
       "reestructuraciones_4     0.0\n",
       "reestructuraciones_5     0.0\n",
       "reestructuraciones_6     0.0\n",
       "reestructuraciones_7     0.0\n",
       "reestructuraciones_8     0.0\n",
       "reestructuraciones_9     0.0\n",
       "reestructuraciones_10    0.0\n",
       "reestructuraciones_11    0.0\n",
       "reestructuraciones_12    0.0\n",
       "dtype: float64"
      ]
     },
     "execution_count": 66,
     "metadata": {},
     "output_type": "execute_result"
    }
   ],
   "source": [
    "var=np.std(datos, 0)\n",
    "var2=var[var==0]\n",
    "(var2)\n",
    "#type(var2)"
   ]
  },
  {
   "cell_type": "code",
   "execution_count": 67,
   "metadata": {},
   "outputs": [],
   "source": [
    "del datos['TP_grande_1']\n",
    "del datos['TP_grande_3']\n",
    "del datos['TP_grande_4']\n",
    "del datos['TP_grande_5']\n",
    "del datos['TP_grande_8']\n",
    "del datos['TP_grande_9']\n",
    "del datos['TP_grande_10']\n",
    "del datos['TP_grande_11']\n",
    " \n",
    "del datos['Beneficios_ICR_2']\n",
    "del datos['Beneficios_ICR_6']\n",
    "del datos['Beneficios_ICR_7']\n",
    "del datos['Beneficios_ICR_10']\n",
    "del datos['Beneficios_ICR_12']\n",
    "\n",
    "del datos['reestructuraciones_1']\n",
    "del datos['reestructuraciones_2']\n",
    "del datos['reestructuraciones_3']\n",
    "del datos['reestructuraciones_4']\n",
    "del datos['reestructuraciones_5']\n",
    "del datos['reestructuraciones_6']\n",
    "del datos['reestructuraciones_7']\n",
    "del datos['reestructuraciones_8']\n",
    "del datos['reestructuraciones_9']\n",
    "del datos['reestructuraciones_10']\n",
    "del datos['reestructuraciones_11']\n",
    "del datos['reestructuraciones_12']\n"
   ]
  },
  {
   "cell_type": "code",
   "execution_count": 68,
   "metadata": {},
   "outputs": [
    {
     "data": {
      "text/plain": [
       "(107944, 607)"
      ]
     },
     "execution_count": 68,
     "metadata": {},
     "output_type": "execute_result"
    }
   ],
   "source": [
    "datos.shape"
   ]
  },
  {
   "cell_type": "code",
   "execution_count": 69,
   "metadata": {},
   "outputs": [
    {
     "data": {
      "text/plain": [
       "array([[ 0.24135153,  0.24239391,  0.24536378, ..., -0.05223137,\n",
       "        -0.00307863, -0.2911962 ],\n",
       "       [ 0.24135153,  0.24239391,  0.24536378, ..., -0.04471697,\n",
       "        -0.00308163, -0.29529554],\n",
       "       [-1.10356867, -1.10756834, -1.11140832, ..., -0.05833568,\n",
       "        -0.00312487, -0.29096364],\n",
       "       ...,\n",
       "       [ 0.24135153,  0.24239391,  0.24536378, ..., -0.05833568,\n",
       "        -0.00313344, -0.20066015],\n",
       "       [-1.10356867, -1.10756834, -1.11140832, ..., -0.05833568,\n",
       "        -0.00318571, -0.28377905],\n",
       "       [-1.10356867, -1.10756834, -1.11140832, ..., -0.05833568,\n",
       "        -0.00312487, -0.10225822]])"
      ]
     },
     "execution_count": 69,
     "metadata": {},
     "output_type": "execute_result"
    }
   ],
   "source": [
    "from sklearn.preprocessing import StandardScaler\n",
    "datos_std = StandardScaler().fit_transform(datos)\n",
    "datos_std"
   ]
  },
  {
   "cell_type": "code",
   "execution_count": 70,
   "metadata": {
    "scrolled": false
   },
   "outputs": [
    {
     "data": {
      "image/png": "[encoded data removed]",
      "text/plain": [
       "<matplotlib.figure.Figure at 0x1f421d47eb8>"
      ]
     },
     "metadata": {},
     "output_type": "display_data"
    }
   ],
   "source": [
    "#Explained variance\n",
    "from sklearn.decomposition import PCA\n",
    "pca = PCA().fit(datos_std)\n",
    "plt.figure(figsize=(12,5))\n",
    "plt.plot(np.cumsum(pca.explained_variance_ratio_))\n",
    "plt.title('PCA')\n",
    "plt.xlabel('Number of components',fontsize=10)\n",
    "plt.ylabel('Cumulative explained variance')\n",
    "plt.grid()\n",
    "plt.show()"
   ]
  },
  {
   "cell_type": "markdown",
   "metadata": {},
   "source": [
    "### Selección automática del número de factores que maximizan la sensibilidad"
   ]
  },
  {
   "cell_type": "code",
   "execution_count": 71,
   "metadata": {},
   "outputs": [],
   "source": [
    "a=datos.shape\n",
    "variables=a[1]\n",
    "var_Acum=np.cumsum(pca.explained_variance_ratio_)"
   ]
  },
  {
   "cell_type": "code",
   "execution_count": 72,
   "metadata": {},
   "outputs": [
    {
     "data": {
      "text/plain": [
       "[0.6, 0.65, 0.7, 0.75, 0.8, 0.85, 0.9, 0.95]"
      ]
     },
     "execution_count": 72,
     "metadata": {},
     "output_type": "execute_result"
    }
   ],
   "source": [
    "List = [0.6,0.65,0.7,0.75,0.8,0.85,0.9,0.95]\n",
    "#List = [0.1,0.6,0.95]\n",
    "List"
   ]
  },
  {
   "cell_type": "code",
   "execution_count": 73,
   "metadata": {},
   "outputs": [
    {
     "name": "stderr",
     "output_type": "stream",
     "text": [
      "C:\\Users\\camiloto\\AppData\\Local\\Continuum\\anaconda3\\lib\\site-packages\\sklearn\\utils\\validation.py:578: DataConversionWarning: A column-vector y was passed when a 1d array was expected. Please change the shape of y to (n_samples, ), for example using ravel().\n",
      "  y = column_or_1d(y, warn=True)\n"
     ]
    },
    {
     "name": "stdout",
     "output_type": "stream",
     "text": [
      "0\n",
      "['0.76']\n",
      "1\n",
      "['0.76', '0.8']\n",
      "2\n",
      "['0.76', '0.8', '0.81']\n",
      "3\n",
      "['0.76', '0.8', '0.81', '0.82']\n",
      "4\n",
      "['0.76', '0.8', '0.81', '0.82', '0.82']\n",
      "5\n",
      "['0.76', '0.8', '0.81', '0.82', '0.82', '0.82']\n",
      "6\n",
      "['0.76', '0.8', '0.81', '0.82', '0.82', '0.82', '0.82']\n",
      "7\n",
      "['0.76', '0.8', '0.81', '0.82', '0.82', '0.82', '0.82', '0.83']\n"
     ]
    }
   ],
   "source": [
    "yL=[]\n",
    "yL\n",
    "comp=[]\n",
    "comp\n",
    "vbles=[]\n",
    "vbles\n",
    "\n",
    "counter=0\n",
    "for i in range(0,len(List)):\n",
    "         \n",
    "    k=int(i)\n",
    "    var_Acum_2=var_Acum[var_Acum>List[k]]\n",
    "    b=var_Acum_2.shape\n",
    "    variables_2=b[0]\n",
    "    componentes=variables-variables_2\n",
    "      \n",
    "    \n",
    "    pca = PCA(n_components=componentes) \n",
    "    pca_comp = pca.fit_transform(datos_std) \n",
    "    \n",
    "    Factores=pd.DataFrame(pca_comp)\n",
    "    \n",
    "    xL=[]\n",
    "    xL\n",
    "    counter1=0  \n",
    "\n",
    "    for j in Factores[:]:\n",
    "        pre='Factor_'  \n",
    "        x= pre + str(j)\n",
    "        xL.append(x)\n",
    "        counter1=counter1+1\n",
    "        \n",
    "        \n",
    "    Factores.columns=xL  \n",
    "    \n",
    "# Se Crean Dummy\n",
    "    Var_Cat = pd.get_dummies(datos_)\n",
    "\n",
    "# Unión Tablas - 2.2\n",
    "    datos_PCA=pd.concat([Factores,Var_Cat,y],axis=1)\n",
    "    datos_PCA.drop(datos_PCA[datos_PCA.Factor_0.isnull()].index, inplace=True)\n",
    "    datos_PCA.drop(datos_PCA[datos_PCA.CALIF_CART_CLIENTE_12_N.isnull()].index, inplace=True)\n",
    "# MODELOS   \n",
    "    y=datos_PCA['Target']\n",
    "    y=pd.DataFrame(y)\n",
    "    del datos_PCA['Target']\n",
    "    \n",
    "    X_train, X_test, y_train, y_test = train_test_split(datos_PCA, y, test_size = .3, random_state=24)\n",
    "    \n",
    "# Regresión Logistica\n",
    "    LogReg = LogisticRegression()\n",
    "    LogReg.fit(X_train, y_train)\n",
    "    y_pred = LogReg.predict(X_test)\n",
    "    \n",
    "    confusion = metrics.confusion_matrix(y_test, y_pred)\n",
    "    TP = confusion[1, 1]\n",
    "    TN = confusion[0, 0]\n",
    "    FP = confusion[0, 1]\n",
    "    FN = confusion[1, 0]\n",
    "\n",
    "    Sensitivity = str(round(TP / float(TP + FN),2)) \n",
    "    \n",
    "    yL.append(Sensitivity)\n",
    "    vbles.append(variables)\n",
    "    comp.append(componentes)\n",
    "    print(k)\n",
    "    print(yL)\n",
    "    counter=counter+1"
   ]
  },
  {
   "cell_type": "code",
   "execution_count": 74,
   "metadata": {},
   "outputs": [
    {
     "data": {
      "text/plain": [
       "(         0\n",
       " 0.60  0.76\n",
       " 0.65   0.8\n",
       " 0.70  0.81\n",
       " 0.75  0.82\n",
       " 0.80  0.82\n",
       " 0.85  0.82\n",
       " 0.90  0.82\n",
       " 0.95  0.83,        0\n",
       " 607   48\n",
       " 607   65\n",
       " 607   88\n",
       " 607  115\n",
       " 607  145\n",
       " 607  177\n",
       " 607  212\n",
       " 607  260)"
      ]
     },
     "execution_count": 74,
     "metadata": {},
     "output_type": "execute_result"
    }
   ],
   "source": [
    "PCA_Recall_1=pd.DataFrame(yL,List)\n",
    "PCA_Recall_2=pd.DataFrame(comp,vbles)\n",
    "PCA_Recall_1,PCA_Recall_2"
   ]
  },
  {
   "cell_type": "markdown",
   "metadata": {},
   "source": [
    "De acuerdo con el procedimiento anterior, el parámetro óptimo para la selección del número de componentes principales es de **0.7**, sin embargo, a manera de experimento se realizaron las corridas con 0.75 y 0.80, de lo cual se observa que el rendimiento de los algotítmos mejora..... "
   ]
  },
  {
   "cell_type": "markdown",
   "metadata": {},
   "source": [
    "## Implementación de los modelos con base en el PCA"
   ]
  },
  {
   "cell_type": "code",
   "execution_count": 75,
   "metadata": {},
   "outputs": [],
   "source": [
    "a=datos.shape\n",
    "variables=a[1]\n",
    "var_Acum=np.cumsum(pca.explained_variance_ratio_)\n",
    "var_Acum_2=var_Acum[var_Acum>0.8]\n",
    "b=var_Acum_2.shape\n",
    "variables_2=b[0]\n",
    "componentes=variables-variables_2\n",
    "variables,componentes\n",
    "\n",
    "pca = PCA(n_components=componentes) \n",
    "pca_comp = pca.fit_transform(datos_std) \n",
    "    \n",
    "Factores=pd.DataFrame(pca_comp)\n",
    "    \n",
    "xL=[]\n",
    "xL\n",
    "\n",
    "for j in Factores[:]:\n",
    "        pre='Factor_'  \n",
    "        x= pre + str(j)\n",
    "        xL.append(x)\n",
    "        counter1=counter1+1\n",
    "        \n",
    "        \n",
    "Factores.columns=xL  \n",
    "    \n",
    "# Se Crean Dummy\n",
    "Var_Cat = pd.get_dummies(datos_)\n",
    "\n",
    "# Unión Tablas - 2.2\n",
    "datos_PCA=pd.concat([Factores,Var_Cat,y],axis=1)\n",
    "datos_PCA.drop(datos_PCA[datos_PCA.Factor_0.isnull()].index, inplace=True)\n",
    "datos_PCA.drop(datos_PCA[datos_PCA.CALIF_CART_CLIENTE_12_N.isnull()].index, inplace=True)\n",
    "\n",
    "# MODELOS   \n",
    "y=datos_PCA['Target']\n",
    "y=pd.DataFrame(y)\n",
    "del datos_PCA['Target']\n",
    "    \n",
    "X_train_, X_test_, y_train_, y_test_ = train_test_split(datos_PCA, y, test_size = .3, random_state=24)"
   ]
  },
  {
   "cell_type": "markdown",
   "metadata": {},
   "source": [
    "### 2.4.1. Regresión Logistica"
   ]
  },
  {
   "cell_type": "markdown",
   "metadata": {},
   "source": [
    "El siguiente paso en la metodología, es la implementación de los modelos de regresión logística y la red reuronal, teniendo como input los componentes principales - PCA"
   ]
  },
  {
   "cell_type": "code",
   "execution_count": 76,
   "metadata": {},
   "outputs": [
    {
     "name": "stderr",
     "output_type": "stream",
     "text": [
      "C:\\Users\\camiloto\\AppData\\Local\\Continuum\\anaconda3\\lib\\site-packages\\sklearn\\utils\\validation.py:578: DataConversionWarning: A column-vector y was passed when a 1d array was expected. Please change the shape of y to (n_samples, ), for example using ravel().\n",
      "  y = column_or_1d(y, warn=True)\n"
     ]
    },
    {
     "data": {
      "text/plain": [
       "LogisticRegression(C=1.0, class_weight=None, dual=False, fit_intercept=True,\n",
       "          intercept_scaling=1, max_iter=100, multi_class='ovr', n_jobs=1,\n",
       "          penalty='l2', random_state=None, solver='liblinear', tol=0.0001,\n",
       "          verbose=0, warm_start=False)"
      ]
     },
     "execution_count": 76,
     "metadata": {},
     "output_type": "execute_result"
    }
   ],
   "source": [
    "LogReg_2 = LogisticRegression()\n",
    "LogReg_2.fit(X_train_, y_train_)"
   ]
  },
  {
   "cell_type": "code",
   "execution_count": 77,
   "metadata": {},
   "outputs": [],
   "source": [
    "y_pred_RL2 = LogReg_2.predict(X_test_)"
   ]
  },
  {
   "cell_type": "code",
   "execution_count": 78,
   "metadata": {},
   "outputs": [
    {
     "name": "stdout",
     "output_type": "stream",
     "text": [
      "             precision    recall  f1-score   support\n",
      "\n",
      "No abandono       0.93      0.95      0.94     22632\n",
      "Si abandono       0.87      0.83      0.85      9750\n",
      "\n",
      "avg / total       0.91      0.91      0.91     32382\n",
      "\n"
     ]
    }
   ],
   "source": [
    "target_names = ['No abandono', 'Si abandono']\n",
    "print(classification_report(y_test_, y_pred_RL2, target_names=target_names))"
   ]
  },
  {
   "cell_type": "code",
   "execution_count": 79,
   "metadata": {},
   "outputs": [
    {
     "data": {
      "text/plain": [
       "Text(0.5,1,'Confusion Matrix')"
      ]
     },
     "execution_count": 79,
     "metadata": {},
     "output_type": "execute_result"
    },
    {
     "data": {
      "image/png": "[encoded data removed]",
      "text/plain": [
       "<matplotlib.figure.Figure at 0x1f4225acb70>"
      ]
     },
     "metadata": {},
     "output_type": "display_data"
    }
   ],
   "source": [
    "plt.figure(figsize=(24,16))\n",
    "plt.subplot(221)\n",
    "sb.heatmap(confusion_matrix(y_test_,y_pred_RL2),annot=True,fmt = \"d\",linecolor=\"k\",linewidths=2)\n",
    "plt.title(\"Confusion Matrix\",fontsize=24,fontweight=\"bold\")"
   ]
  },
  {
   "cell_type": "markdown",
   "metadata": {},
   "source": [
    "## Métricas calculadas a partir de una matriz de confusión"
   ]
  },
  {
   "cell_type": "code",
   "execution_count": 80,
   "metadata": {
    "scrolled": true
   },
   "outputs": [
    {
     "name": "stdout",
     "output_type": "stream",
     "text": [
      "---------------------Métricas modelo 2 **Regresión Logística con PCA** ------------------------------------------------\n",
      "Accuracy               = 0.91\n",
      "Classification Error   = 0.09\n",
      "Sensitivity            = 0.83\n",
      "Specificity            = 0.95\n",
      "False Positive Rate    = 0.07\n",
      "Precision              = 0.869\n"
     ]
    }
   ],
   "source": [
    "# save confusion matrix and slice into four pieces\n",
    "confusion = metrics.confusion_matrix(y_test_, y_pred_RL2)\n",
    "TP = confusion[1, 1]\n",
    "TN = confusion[0, 0]\n",
    "FP = confusion[0, 1]\n",
    "FN = confusion[1, 0]\n",
    "\n",
    "### Cálculo de las métricas\n",
    "\n",
    "Accuracy= (\"Accuracy               = \"+str(round((TP + TN) / float(TP + TN + FP + FN),2)))\n",
    "\n",
    "Classification_Error = (\"Classification Error   = \"+str(round((FP + FN) / float(TP + TN + FP + FN),2)))\n",
    "\n",
    "Sensitivity = (\"Sensitivity            = \" +str(round(TP / float(TP + FN),2)))\n",
    "\n",
    "Specificity =(\"Specificity            = \" +str(round(TN / float(TN + FP),2)))\n",
    "\n",
    "Precision=(\"Precision              = \"+str  (round(TP / float(TP + FP),3)))\n",
    "\n",
    "print(\"---------------------Métricas modelo 2 **Regresión Logística con PCA** ------------------------------------------------\")\n",
    "print(Accuracy),print(Classification_Error), print(Sensitivity), print(Specificity), print(False_Positive_rate),\n",
    "print(Precision)"
   ]
  },
  {
   "cell_type": "code",
   "execution_count": 81,
   "metadata": {
    "scrolled": true
   },
   "outputs": [
    {
     "data": {
      "image/png": "[encoded data removed]",
      "text/plain": [
       "<matplotlib.figure.Figure at 0x1f421b7ec50>"
      ]
     },
     "metadata": {},
     "output_type": "display_data"
    }
   ],
   "source": [
    "predicting_probabilites_3 = LogReg_2.predict_proba(X_test_)[:,1]\n",
    "fpr,tpr,thresholds = roc_curve(y_test, predicting_probabilites_3)\n",
    "#plot.subplot(222)\n",
    "plt.figure(figsize=(10,5))\n",
    "plt.plot(fpr,tpr,label = (\"Area_under the curve :\",round(auc(fpr,tpr),4)),color = \"r\")\n",
    "plt.plot([1,0],[1,0],linestyle = \"dashed\",color =\"b\")\n",
    "plt.legend(loc = \"best\")\n",
    "# show the plot\n",
    "plt.title('ROC curve for churn classifier - Logit Model - PCA')\n",
    "plt.xlabel('False Positive Rate (1 - Specificity)')\n",
    "plt.ylabel('True Positive Rate (Sensitivity)')\n",
    "plt.grid(True)\n",
    "pyplot.show()"
   ]
  },
  {
   "cell_type": "markdown",
   "metadata": {},
   "source": [
    "## 2.4.2. Neural network training in Keras"
   ]
  },
  {
   "cell_type": "markdown",
   "metadata": {},
   "source": [
    "El último modelo implementado es al red neuronal, el cual tiene como input los componentes principales, que mejoraron significativamente el modelo de regresión logística."
   ]
  },
  {
   "cell_type": "code",
   "execution_count": 82,
   "metadata": {},
   "outputs": [
    {
     "data": {
      "text/plain": [
       "(75558, 2325)"
      ]
     },
     "execution_count": 82,
     "metadata": {},
     "output_type": "execute_result"
    }
   ],
   "source": [
    "X_train_.shape[:]"
   ]
  },
  {
   "cell_type": "markdown",
   "metadata": {},
   "source": [
    "#### Modelo"
   ]
  },
  {
   "cell_type": "code",
   "execution_count": 83,
   "metadata": {},
   "outputs": [],
   "source": [
    "from keras.models import Sequential\n",
    "from keras.layers import Dense, Activation, Flatten, Dropout\n",
    "\n",
    "model = Sequential()\n",
    "model.add(Dense(64, input_shape= X_train_.shape[1:]))\n",
    "model.add(Activation('relu'))\n",
    "model.add(Dropout(0.5))\n",
    "\n",
    "\n",
    "model.add(Dense(units=1))\n",
    "model.add(Activation('sigmoid'))"
   ]
  },
  {
   "cell_type": "code",
   "execution_count": 84,
   "metadata": {
    "scrolled": true
   },
   "outputs": [
    {
     "name": "stdout",
     "output_type": "stream",
     "text": [
      "______________________________________________________________________\n",
      "Layer (type)                   Output Shape                Param #    \n",
      "======================================================================\n",
      "dense_1 (Dense)                (None, 64)                  148864     \n",
      "______________________________________________________________________\n",
      "activation_1 (Activation)      (None, 64)                  0          \n",
      "______________________________________________________________________\n",
      "dropout_1 (Dropout)            (None, 64)                  0          \n",
      "______________________________________________________________________\n",
      "dense_2 (Dense)                (None, 1)                   65         \n",
      "______________________________________________________________________\n",
      "activation_2 (Activation)      (None, 1)                   0          \n",
      "======================================================================\n",
      "Total params: 148,929\n",
      "Trainable params: 148,929\n",
      "Non-trainable params: 0\n",
      "______________________________________________________________________\n"
     ]
    }
   ],
   "source": [
    "model.summary(70)"
   ]
  },
  {
   "cell_type": "code",
   "execution_count": 85,
   "metadata": {},
   "outputs": [],
   "source": [
    "# Optimizers\n",
    "from keras.optimizers import Adam \n",
    "from keras.optimizers import RMSprop\n",
    "from keras.optimizers import Adamax\n",
    "from keras.optimizers import SGD\n",
    "from keras.optimizers import Nadam"
   ]
  },
  {
   "cell_type": "code",
   "execution_count": 86,
   "metadata": {},
   "outputs": [],
   "source": [
    "\n",
    "model.compile(loss = 'binary_crossentropy',\n",
    "              optimizer = RMSprop(lr=0.001), #decay=0.0),\n",
    "              metrics = ['accuracy'])"
   ]
  },
  {
   "cell_type": "code",
   "execution_count": 87,
   "metadata": {
    "scrolled": true
   },
   "outputs": [
    {
     "data": {
      "image/png": "[encoded data removed]",
      "text/plain": [
       "<matplotlib.figure.Figure at 0x1f42612a4a8>"
      ]
     },
     "metadata": {},
     "output_type": "display_data"
    },
    {
     "data": {
      "text/plain": [
       "<keras.callbacks.History at 0x1f421f1ca58>"
      ]
     },
     "execution_count": 87,
     "metadata": {},
     "output_type": "execute_result"
    }
   ],
   "source": [
    "\n",
    "model.fit(X_train_, y_train_, epochs=10, verbose=1,\n",
    "         validation_data = [X_train_, y_train_],callbacks=[PlotLossesKeras()])"
   ]
  },
  {
   "cell_type": "code",
   "execution_count": 88,
   "metadata": {
    "scrolled": true
   },
   "outputs": [],
   "source": [
    "y_pred_RN = model.predict(X_test_)\n",
    "y_pred_RN = (y_pred_RN> 0.5)\n",
    "#y_pred_RN"
   ]
  },
  {
   "cell_type": "code",
   "execution_count": 89,
   "metadata": {},
   "outputs": [
    {
     "name": "stdout",
     "output_type": "stream",
     "text": [
      "32382/32382 [==============================] - 2s 52us/step\n",
      "\n",
      "acc: 91.22%\n"
     ]
    }
   ],
   "source": [
    "# evaluamos y Predecimos\n",
    "scores = model.evaluate(X_test_, y_test_)\n",
    "print(\"\\n%s: %.2f%%\" % (model.metrics_names[1], scores[1]*100))"
   ]
  },
  {
   "cell_type": "code",
   "execution_count": 90,
   "metadata": {},
   "outputs": [
    {
     "name": "stdout",
     "output_type": "stream",
     "text": [
      "             precision    recall  f1-score   support\n",
      "\n",
      "No abandono       0.93      0.95      0.94     22632\n",
      "Si abandono       0.87      0.83      0.85      9750\n",
      "\n",
      "avg / total       0.91      0.91      0.91     32382\n",
      "\n"
     ]
    }
   ],
   "source": [
    "\n",
    "#cm = confusion_matrix(y_test, y_pred_2.round(), normalize=False)\n",
    "print(classification_report(y_test_, y_pred_RN, target_names=target_names))"
   ]
  },
  {
   "cell_type": "code",
   "execution_count": 91,
   "metadata": {},
   "outputs": [
    {
     "data": {
      "text/plain": [
       "Text(0.5,1,'Confusion Matrix')"
      ]
     },
     "execution_count": 91,
     "metadata": {},
     "output_type": "execute_result"
    },
    {
     "data": {
      "image/png": "[encoded data removed]",
      "text/plain": [
       "<matplotlib.figure.Figure at 0x1f42688c9b0>"
      ]
     },
     "metadata": {},
     "output_type": "display_data"
    }
   ],
   "source": [
    "plt.figure(figsize=(24,16))\n",
    "plt.subplot(221)\n",
    "sb.heatmap(confusion_matrix(y_test_,y_pred_RN),annot=True,fmt = \"d\",linecolor=\"k\",linewidths=2)\n",
    "plt.title(\"Confusion Matrix\",fontsize=24,fontweight=\"bold\")"
   ]
  },
  {
   "cell_type": "markdown",
   "metadata": {},
   "source": [
    "## Métricas calculadas a partir de una matriz de confusión"
   ]
  },
  {
   "cell_type": "code",
   "execution_count": 92,
   "metadata": {
    "scrolled": true
   },
   "outputs": [
    {
     "name": "stdout",
     "output_type": "stream",
     "text": [
      "---------------------Métricas modelo 3 **Neural Network con PCA** ------------------------------------------------\n",
      "Accuracy               = 0.91\n",
      "Classification Error   = 0.09\n",
      "Sensitivity            = 0.83\n",
      "Specificity            = 0.95\n",
      "False Positive Rate    = 0.07\n",
      "Precision              = 0.874\n"
     ]
    }
   ],
   "source": [
    "# save confusion matrix and slice into four pieces\n",
    "confusion = metrics.confusion_matrix(y_test_, y_pred_RN)\n",
    "TP = confusion[1, 1]\n",
    "TN = confusion[0, 0]\n",
    "FP = confusion[0, 1]\n",
    "FN = confusion[1, 0]\n",
    "\n",
    "### Cálculo de las métricas\n",
    "\n",
    "Accuracy= (\"Accuracy               = \"+str(round((TP + TN) / float(TP + TN + FP + FN),2)))\n",
    "\n",
    "Classification_Error = (\"Classification Error   = \"+str(round((FP + FN) / float(TP + TN + FP + FN),2)))\n",
    "\n",
    "Sensitivity = (\"Sensitivity            = \" +str(round(TP / float(TP + FN),2)))\n",
    "\n",
    "Specificity =(\"Specificity            = \" +str(round(TN / float(TN + FP),2)))\n",
    "\n",
    "Precision=(\"Precision              = \"+str  (round(TP / float(TP + FP),3)))\n",
    "\n",
    "print(\"---------------------Métricas modelo 3 **Neural Network con PCA** ------------------------------------------------\")\n",
    "print(Accuracy),print(Classification_Error), print(Sensitivity), print(Specificity), print(False_Positive_rate),\n",
    "print(Precision)"
   ]
  },
  {
   "cell_type": "code",
   "execution_count": 93,
   "metadata": {},
   "outputs": [
    {
     "data": {
      "image/png": "[encoded data removed]",
      "text/plain": [
       "<matplotlib.figure.Figure at 0x1f4269e4c50>"
      ]
     },
     "metadata": {},
     "output_type": "display_data"
    }
   ],
   "source": [
    "predicting_probabilites_ = model.predict_proba(X_test_)[:]\n",
    "fpr,tpr,thresholds = roc_curve(y_test_, predicting_probabilites_)\n",
    "#plot.subplot(222)\n",
    "plt.figure(figsize=(10,5))\n",
    "plt.plot(fpr,tpr,label = (\"Area_under the curve :\",round(auc(fpr,tpr),4)),color = \"r\")\n",
    "plt.plot([1,0],[1,0],linestyle = \"dashed\",color =\"b\")\n",
    "plt.legend(loc = \"best\")\n",
    "# show the plot\n",
    "plt.title('ROC curve for churn classifier - Neural Network wiht PCA')\n",
    "plt.xlabel('False Positive Rate (1 - Specificity)')\n",
    "plt.ylabel('True Positive Rate (Sensitivity)')\n",
    "plt.grid(True)\n",
    "pyplot.show()"
   ]
  },
  {
   "cell_type": "markdown",
   "metadata": {},
   "source": [
    "\n",
    "Se puede ver cómo le red neuronal mejora en un punto el porcentaje de sensibilidad, pasando de 0.83 a 0.84, las demás métricas se mantienen, con esto podemos concluir que aunque se implementó una red neuronal, sencilla, con una capa, 64 neuronas, activación relu y salida sigmoide, los resultados son muy similares a los obtenidos por la regresión logística, además, la red neuronal tiene un costo más alto en cuanto al procesamiento, ya que el procesamiento del modelo tarda más de 10 veces que el de regresión logística.\n"
   ]
  },
  {
   "cell_type": "code",
   "execution_count": null,
   "metadata": {},
   "outputs": [],
   "source": []
  }
 ],
 "metadata": {
  "kernelspec": {
   "display_name": "Python 3",
   "language": "python",
   "name": "python3"
  },
  "language_info": {
   "codemirror_mode": {
    "name": "ipython",
    "version": 3
   },
   "file_extension": ".py",
   "mimetype": "text/x-python",
   "name": "python",
   "nbconvert_exporter": "python",
   "pygments_lexer": "ipython3",
   "version": "3.6.4"
  },
  "varInspector": {
   "cols": {
    "lenName": 16,
    "lenType": 16,
    "lenVar": 40
   },
   "kernels_config": {
    "python": {
     "delete_cmd_postfix": "",
     "delete_cmd_prefix": "del ",
     "library": "var_list.py",
     "varRefreshCmd": "print(var_dic_list())"
    },
    "r": {
     "delete_cmd_postfix": ") ",
     "delete_cmd_prefix": "rm(",
     "library": "var_list.r",
     "varRefreshCmd": "cat(var_dic_list()) "
    }
   },
   "types_to_exclude": [
    "module",
    "function",
    "builtin_function_or_method",
    "instance",
    "_Feature"
   ],
   "window_display": false
  }
 },
 "nbformat": 4,
 "nbformat_minor": 2
}
