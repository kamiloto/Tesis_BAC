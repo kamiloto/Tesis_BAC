{
 "cells": [
  {
   "cell_type": "markdown",
   "metadata": {},
   "source": [
    "## <span style=\"color:orange\"> Universidad de los Andes </span>\n",
    "\n",
    "## Maestría en Inteligencia Analítica para la Toma de Desiciones\n",
    "\n"
   ]
  },
  {
   "cell_type": "markdown",
   "metadata": {},
   "source": [
    "En este notebook se implementan diferentes algorítmos y modelos para resolver el problema conocido como **Churn**, para identificar los clientes con problabilidad de deserción, es decir que cancelen los productos que actualmente tienen en una entidad financiera "
   ]
  },
  {
   "cell_type": "markdown",
   "metadata": {},
   "source": [
    "### Cargamos los diferentes algotígmos y modelos"
   ]
  },
  {
   "cell_type": "code",
   "execution_count": 1,
   "metadata": {
    "scrolled": true
   },
   "outputs": [
    {
     "name": "stderr",
     "output_type": "stream",
     "text": [
      "C:\\Users\\camiloto\\AppData\\Local\\Continuum\\anaconda3\\lib\\site-packages\\sklearn\\cross_validation.py:41: DeprecationWarning: This module was deprecated in version 0.18 in favor of the model_selection module into which all the refactored classes and functions are moved. Also note that the interface of the new CV iterators are different from that of this module. This module will be removed in 0.20.\n",
      "  \"This module will be removed in 0.20.\", DeprecationWarning)\n",
      "C:\\Users\\camiloto\\AppData\\Local\\Continuum\\anaconda3\\lib\\site-packages\\h5py\\__init__.py:36: FutureWarning: Conversion of the second argument of issubdtype from `float` to `np.floating` is deprecated. In future, it will be treated as `np.float64 == np.dtype(float).type`.\n",
      "  from ._conv import register_converters as _register_converters\n",
      "Using TensorFlow backend.\n"
     ]
    }
   ],
   "source": [
    "import numpy as np\n",
    "import pandas as pd\n",
    "import os\n",
    "from matplotlib import pyplot as plt\n",
    "%matplotlib inline\n",
    "from matplotlib import pyplot\n",
    "import seaborn as sb\n",
    "import sklearn\n",
    "from sklearn.model_selection import train_test_split\n",
    "from sklearn.cross_validation import train_test_split\n",
    "from sklearn.linear_model import LogisticRegression\n",
    "from sklearn.ensemble import RandomForestClassifier\n",
    "from pandas import Series, DataFrame\n",
    "from pylab import rcParams\n",
    "from sklearn import preprocessing\n",
    "from sklearn import svm\n",
    "from sklearn import metrics\n",
    "from sklearn.metrics import accuracy_score, roc_curve,roc_auc_score, auc, confusion_matrix, mean_squared_error, r2_score, classification_report\n",
    "from livelossplot import PlotLossesKeras\n",
    "from sklearn.decomposition import PCA\n",
    "from sklearn.model_selection import KFold\n"
   ]
  },
  {
   "cell_type": "markdown",
   "metadata": {},
   "source": [
    "## 1.  Tratamiento inicial de los datos"
   ]
  },
  {
   "cell_type": "markdown",
   "metadata": {},
   "source": [
    "Se carga la base de datos que tiene una partición de **80 - 20**"
   ]
  },
  {
   "cell_type": "code",
   "execution_count": 2,
   "metadata": {
    "scrolled": true
   },
   "outputs": [
    {
     "name": "stderr",
     "output_type": "stream",
     "text": [
      "C:\\Users\\camiloto\\AppData\\Local\\Continuum\\anaconda3\\lib\\site-packages\\IPython\\core\\interactiveshell.py:2728: DtypeWarning: Columns (667) have mixed types. Specify dtype option on import or set low_memory=False.\n",
      "  interactivity=interactivity, compiler=compiler, result=result)\n"
     ]
    }
   ],
   "source": [
    "path=  '../Codigo/'\n",
    "datos = pd.read_csv(os.path.join(path,'BD/BD_SEED','Muestra_Anual_Seed_12_T80_20.txt'), sep='|' , encoding='latin-1', decimal=\".\")"
   ]
  },
  {
   "cell_type": "code",
   "execution_count": 3,
   "metadata": {
    "scrolled": true
   },
   "outputs": [
    {
     "data": {
      "text/plain": [
       "Target\n",
       "0    129536\n",
       "1     32384\n",
       "Name: consecutivo, dtype: int64"
      ]
     },
     "execution_count": 3,
     "metadata": {},
     "output_type": "execute_result"
    }
   ],
   "source": [
    "datos.groupby('Target')['consecutivo'].count()"
   ]
  },
  {
   "cell_type": "code",
   "execution_count": 4,
   "metadata": {
    "scrolled": false
   },
   "outputs": [
    {
     "data": {
      "text/html": [
       "<div>\n",
       "<style scoped>\n",
       "    .dataframe tbody tr th:only-of-type {\n",
       "        vertical-align: middle;\n",
       "    }\n",
       "\n",
       "    .dataframe tbody tr th {\n",
       "        vertical-align: top;\n",
       "    }\n",
       "\n",
       "    .dataframe thead th {\n",
       "        text-align: right;\n",
       "    }\n",
       "</style>\n",
       "<table border=\"1\" class=\"dataframe\">\n",
       "  <thead>\n",
       "    <tr style=\"text-align: right;\">\n",
       "      <th></th>\n",
       "      <th>consecutivo</th>\n",
       "      <th>N_CART_CRED_1</th>\n",
       "      <th>N_CART_CRED_2</th>\n",
       "      <th>N_CART_CRED_3</th>\n",
       "      <th>N_CART_CRED_4</th>\n",
       "      <th>N_CART_CRED_5</th>\n",
       "      <th>N_CART_CRED_6</th>\n",
       "      <th>N_CART_CRED_7</th>\n",
       "      <th>N_CART_CRED_8</th>\n",
       "      <th>N_CART_CRED_9</th>\n",
       "      <th>...</th>\n",
       "      <th>REGIONAL</th>\n",
       "      <th>Municipio_DANE</th>\n",
       "      <th>Departamento_DANE</th>\n",
       "      <th>Competencia</th>\n",
       "      <th>Ruralidad</th>\n",
       "      <th>Poblacion_Mpio</th>\n",
       "      <th>Postconflicto</th>\n",
       "      <th>Victima</th>\n",
       "      <th>SEGURO</th>\n",
       "      <th>Target</th>\n",
       "    </tr>\n",
       "  </thead>\n",
       "  <tbody>\n",
       "    <tr>\n",
       "      <th>0</th>\n",
       "      <td>26662</td>\n",
       "      <td>1</td>\n",
       "      <td>1</td>\n",
       "      <td>1</td>\n",
       "      <td>1</td>\n",
       "      <td>1</td>\n",
       "      <td>1</td>\n",
       "      <td>1</td>\n",
       "      <td>1</td>\n",
       "      <td>1</td>\n",
       "      <td>...</td>\n",
       "      <td>BOGOTA</td>\n",
       "      <td>San Juan de Río Seco</td>\n",
       "      <td>Cundinamarca</td>\n",
       "      <td>Sin_Competencia</td>\n",
       "      <td>Rural</td>\n",
       "      <td>9670</td>\n",
       "      <td>N</td>\n",
       "      <td>N</td>\n",
       "      <td>N</td>\n",
       "      <td>1</td>\n",
       "    </tr>\n",
       "    <tr>\n",
       "      <th>1</th>\n",
       "      <td>33311</td>\n",
       "      <td>1</td>\n",
       "      <td>1</td>\n",
       "      <td>1</td>\n",
       "      <td>1</td>\n",
       "      <td>1</td>\n",
       "      <td>1</td>\n",
       "      <td>1</td>\n",
       "      <td>1</td>\n",
       "      <td>1</td>\n",
       "      <td>...</td>\n",
       "      <td>BOGOTA</td>\n",
       "      <td>Guayabal de Siquima</td>\n",
       "      <td>Cundinamarca</td>\n",
       "      <td>Sin_Competencia</td>\n",
       "      <td>Rural</td>\n",
       "      <td>3659</td>\n",
       "      <td>S</td>\n",
       "      <td>N</td>\n",
       "      <td>N</td>\n",
       "      <td>1</td>\n",
       "    </tr>\n",
       "    <tr>\n",
       "      <th>2</th>\n",
       "      <td>45533</td>\n",
       "      <td>0</td>\n",
       "      <td>0</td>\n",
       "      <td>0</td>\n",
       "      <td>0</td>\n",
       "      <td>0</td>\n",
       "      <td>0</td>\n",
       "      <td>0</td>\n",
       "      <td>0</td>\n",
       "      <td>0</td>\n",
       "      <td>...</td>\n",
       "      <td>BOGOTA</td>\n",
       "      <td>San Francisco</td>\n",
       "      <td>Cundinamarca</td>\n",
       "      <td>Sin_Competencia</td>\n",
       "      <td>Intermedio</td>\n",
       "      <td>10011</td>\n",
       "      <td>N</td>\n",
       "      <td>N</td>\n",
       "      <td>N</td>\n",
       "      <td>1</td>\n",
       "    </tr>\n",
       "    <tr>\n",
       "      <th>3</th>\n",
       "      <td>50364</td>\n",
       "      <td>1</td>\n",
       "      <td>1</td>\n",
       "      <td>1</td>\n",
       "      <td>1</td>\n",
       "      <td>1</td>\n",
       "      <td>1</td>\n",
       "      <td>1</td>\n",
       "      <td>1</td>\n",
       "      <td>1</td>\n",
       "      <td>...</td>\n",
       "      <td>BOGOTA</td>\n",
       "      <td>Villa de San Diego de Ubate</td>\n",
       "      <td>Cundinamarca</td>\n",
       "      <td>Media</td>\n",
       "      <td>Intermedio</td>\n",
       "      <td>39393</td>\n",
       "      <td>N</td>\n",
       "      <td>N</td>\n",
       "      <td>N</td>\n",
       "      <td>1</td>\n",
       "    </tr>\n",
       "    <tr>\n",
       "      <th>4</th>\n",
       "      <td>56561</td>\n",
       "      <td>1</td>\n",
       "      <td>1</td>\n",
       "      <td>1</td>\n",
       "      <td>1</td>\n",
       "      <td>1</td>\n",
       "      <td>1</td>\n",
       "      <td>1</td>\n",
       "      <td>1</td>\n",
       "      <td>1</td>\n",
       "      <td>...</td>\n",
       "      <td>BOGOTA</td>\n",
       "      <td>Viotá</td>\n",
       "      <td>Cundinamarca</td>\n",
       "      <td>Sin_Competencia</td>\n",
       "      <td>Intermedio</td>\n",
       "      <td>13328</td>\n",
       "      <td>S</td>\n",
       "      <td>S</td>\n",
       "      <td>N</td>\n",
       "      <td>1</td>\n",
       "    </tr>\n",
       "    <tr>\n",
       "      <th>5</th>\n",
       "      <td>60231</td>\n",
       "      <td>0</td>\n",
       "      <td>0</td>\n",
       "      <td>0</td>\n",
       "      <td>0</td>\n",
       "      <td>0</td>\n",
       "      <td>0</td>\n",
       "      <td>0</td>\n",
       "      <td>0</td>\n",
       "      <td>0</td>\n",
       "      <td>...</td>\n",
       "      <td>BOGOTA</td>\n",
       "      <td>Puerto Carreño</td>\n",
       "      <td>Vichada</td>\n",
       "      <td>Baja</td>\n",
       "      <td>Rural disperso</td>\n",
       "      <td>16504</td>\n",
       "      <td>N</td>\n",
       "      <td>N</td>\n",
       "      <td>N</td>\n",
       "      <td>1</td>\n",
       "    </tr>\n",
       "    <tr>\n",
       "      <th>6</th>\n",
       "      <td>67736</td>\n",
       "      <td>0</td>\n",
       "      <td>0</td>\n",
       "      <td>0</td>\n",
       "      <td>0</td>\n",
       "      <td>0</td>\n",
       "      <td>0</td>\n",
       "      <td>0</td>\n",
       "      <td>0</td>\n",
       "      <td>0</td>\n",
       "      <td>...</td>\n",
       "      <td>ANTIOQUIA</td>\n",
       "      <td>Armenia</td>\n",
       "      <td>Antioquia</td>\n",
       "      <td>Sin_Competencia</td>\n",
       "      <td>Rural</td>\n",
       "      <td>3945</td>\n",
       "      <td>N</td>\n",
       "      <td>N</td>\n",
       "      <td>N</td>\n",
       "      <td>1</td>\n",
       "    </tr>\n",
       "    <tr>\n",
       "      <th>7</th>\n",
       "      <td>93903</td>\n",
       "      <td>0</td>\n",
       "      <td>0</td>\n",
       "      <td>0</td>\n",
       "      <td>0</td>\n",
       "      <td>0</td>\n",
       "      <td>0</td>\n",
       "      <td>0</td>\n",
       "      <td>0</td>\n",
       "      <td>0</td>\n",
       "      <td>...</td>\n",
       "      <td>ANTIOQUIA</td>\n",
       "      <td>Puerto Boyacá</td>\n",
       "      <td>Boyacá</td>\n",
       "      <td>Media</td>\n",
       "      <td>Intermedio</td>\n",
       "      <td>56517</td>\n",
       "      <td>N</td>\n",
       "      <td>N</td>\n",
       "      <td>N</td>\n",
       "      <td>1</td>\n",
       "    </tr>\n",
       "    <tr>\n",
       "      <th>8</th>\n",
       "      <td>96626</td>\n",
       "      <td>0</td>\n",
       "      <td>0</td>\n",
       "      <td>0</td>\n",
       "      <td>0</td>\n",
       "      <td>0</td>\n",
       "      <td>0</td>\n",
       "      <td>0</td>\n",
       "      <td>0</td>\n",
       "      <td>0</td>\n",
       "      <td>...</td>\n",
       "      <td>SANTANDERES</td>\n",
       "      <td>Bucaramanga</td>\n",
       "      <td>Santander</td>\n",
       "      <td>Alta</td>\n",
       "      <td>Ciudades y aglomeraciones</td>\n",
       "      <td>528683</td>\n",
       "      <td>N</td>\n",
       "      <td>S</td>\n",
       "      <td>N</td>\n",
       "      <td>1</td>\n",
       "    </tr>\n",
       "    <tr>\n",
       "      <th>9</th>\n",
       "      <td>102445</td>\n",
       "      <td>0</td>\n",
       "      <td>0</td>\n",
       "      <td>0</td>\n",
       "      <td>0</td>\n",
       "      <td>0</td>\n",
       "      <td>0</td>\n",
       "      <td>0</td>\n",
       "      <td>0</td>\n",
       "      <td>0</td>\n",
       "      <td>...</td>\n",
       "      <td>ORIENTE</td>\n",
       "      <td>Belén</td>\n",
       "      <td>Boyacá</td>\n",
       "      <td>Sin_Competencia</td>\n",
       "      <td>Intermedio</td>\n",
       "      <td>6966</td>\n",
       "      <td>N</td>\n",
       "      <td>N</td>\n",
       "      <td>N</td>\n",
       "      <td>1</td>\n",
       "    </tr>\n",
       "  </tbody>\n",
       "</table>\n",
       "<p>10 rows × 688 columns</p>\n",
       "</div>"
      ],
      "text/plain": [
       "   consecutivo  N_CART_CRED_1  N_CART_CRED_2  N_CART_CRED_3  N_CART_CRED_4  \\\n",
       "0        26662              1              1              1              1   \n",
       "1        33311              1              1              1              1   \n",
       "2        45533              0              0              0              0   \n",
       "3        50364              1              1              1              1   \n",
       "4        56561              1              1              1              1   \n",
       "5        60231              0              0              0              0   \n",
       "6        67736              0              0              0              0   \n",
       "7        93903              0              0              0              0   \n",
       "8        96626              0              0              0              0   \n",
       "9       102445              0              0              0              0   \n",
       "\n",
       "   N_CART_CRED_5  N_CART_CRED_6  N_CART_CRED_7  N_CART_CRED_8  N_CART_CRED_9  \\\n",
       "0              1              1              1              1              1   \n",
       "1              1              1              1              1              1   \n",
       "2              0              0              0              0              0   \n",
       "3              1              1              1              1              1   \n",
       "4              1              1              1              1              1   \n",
       "5              0              0              0              0              0   \n",
       "6              0              0              0              0              0   \n",
       "7              0              0              0              0              0   \n",
       "8              0              0              0              0              0   \n",
       "9              0              0              0              0              0   \n",
       "\n",
       "    ...       REGIONAL               Municipio_DANE  Departamento_DANE  \\\n",
       "0   ...         BOGOTA         San Juan de Río Seco       Cundinamarca   \n",
       "1   ...         BOGOTA          Guayabal de Siquima       Cundinamarca   \n",
       "2   ...         BOGOTA                San Francisco       Cundinamarca   \n",
       "3   ...         BOGOTA  Villa de San Diego de Ubate       Cundinamarca   \n",
       "4   ...         BOGOTA                        Viotá       Cundinamarca   \n",
       "5   ...         BOGOTA               Puerto Carreño            Vichada   \n",
       "6   ...      ANTIOQUIA                      Armenia          Antioquia   \n",
       "7   ...      ANTIOQUIA                Puerto Boyacá             Boyacá   \n",
       "8   ...    SANTANDERES                  Bucaramanga          Santander   \n",
       "9   ...        ORIENTE                        Belén             Boyacá   \n",
       "\n",
       "       Competencia                  Ruralidad  Poblacion_Mpio  Postconflicto  \\\n",
       "0  Sin_Competencia                      Rural            9670              N   \n",
       "1  Sin_Competencia                      Rural            3659              S   \n",
       "2  Sin_Competencia                 Intermedio           10011              N   \n",
       "3            Media                 Intermedio           39393              N   \n",
       "4  Sin_Competencia                 Intermedio           13328              S   \n",
       "5             Baja             Rural disperso           16504              N   \n",
       "6  Sin_Competencia                      Rural            3945              N   \n",
       "7            Media                 Intermedio           56517              N   \n",
       "8             Alta  Ciudades y aglomeraciones          528683              N   \n",
       "9  Sin_Competencia                 Intermedio            6966              N   \n",
       "\n",
       "   Victima  SEGURO  Target  \n",
       "0        N       N       1  \n",
       "1        N       N       1  \n",
       "2        N       N       1  \n",
       "3        N       N       1  \n",
       "4        S       N       1  \n",
       "5        N       N       1  \n",
       "6        N       N       1  \n",
       "7        N       N       1  \n",
       "8        S       N       1  \n",
       "9        N       N       1  \n",
       "\n",
       "[10 rows x 688 columns]"
      ]
     },
     "execution_count": 4,
     "metadata": {},
     "output_type": "execute_result"
    }
   ],
   "source": [
    "datos.head(10)"
   ]
  },
  {
   "cell_type": "code",
   "execution_count": 5,
   "metadata": {
    "scrolled": true
   },
   "outputs": [
    {
     "data": {
      "text/plain": [
       "0                San Juan de Río Seco\n",
       "1                 Guayabal de Siquima\n",
       "2                       San Francisco\n",
       "3         Villa de San Diego de Ubate\n",
       "4                               Viotá\n",
       "5                      Puerto Carreño\n",
       "6                             Armenia\n",
       "7                       Puerto Boyacá\n",
       "8                         Bucaramanga\n",
       "9                               Belén\n",
       "10                          El Espino\n",
       "11                          San Mateo\n",
       "12                             Timbío\n",
       "13                             Quibdó\n",
       "14                           Medellín\n",
       "15                          Guadalupe\n",
       "16                              Tello\n",
       "17                             Teruel\n",
       "18                           Riohacha\n",
       "19                            Durania\n",
       "20                              Ocaña\n",
       "21                             Málaga\n",
       "22                              Girón\n",
       "23                            Matanza\n",
       "24                            Cerrito\n",
       "25                   Sabana de Torres\n",
       "26                        San Alberto\n",
       "27                            Barbosa\n",
       "28                             Rovira\n",
       "29                            Sevilla\n",
       "                     ...             \n",
       "161890                    Gómez Plata\n",
       "161891                          Neira\n",
       "161892                      Venadillo\n",
       "161893                    Pensilvania\n",
       "161894                         Cúcuta\n",
       "161895                          Pasto\n",
       "161896                      Venadillo\n",
       "161897                         Cúcuta\n",
       "161898                        Saldaña\n",
       "161899                     Valledupar\n",
       "161900                      Risaralda\n",
       "161901                        Quipile\n",
       "161902                   Roncesvalles\n",
       "161903                       La Celia\n",
       "161904                    Palocabildo\n",
       "161905                       La Unión\n",
       "161906                    Piedecuesta\n",
       "161907                       Frontino\n",
       "161908                         Balboa\n",
       "161909                      Contadero\n",
       "161910                       Cisneros\n",
       "161911                       Magangué\n",
       "161912                        Cajibío\n",
       "161913                       Icononzo\n",
       "161914                      Guadalupe\n",
       "161915              San Juan de Arama\n",
       "161916                      Manizales\n",
       "161917                       Valencia\n",
       "161918                    Cravo Norte\n",
       "161919             San Luis de Gaceno\n",
       "Name: Municipio_DANE, Length: 161920, dtype: object"
      ]
     },
     "execution_count": 5,
     "metadata": {},
     "output_type": "execute_result"
    }
   ],
   "source": [
    "datos.Municipio_DANE"
   ]
  },
  {
   "cell_type": "code",
   "execution_count": 6,
   "metadata": {},
   "outputs": [
    {
     "data": {
      "text/plain": [
       "(161920, 688)"
      ]
     },
     "execution_count": 6,
     "metadata": {},
     "output_type": "execute_result"
    }
   ],
   "source": [
    "datos.shape"
   ]
  },
  {
   "cell_type": "code",
   "execution_count": 7,
   "metadata": {},
   "outputs": [
    {
     "data": {
      "text/plain": [
       "161920"
      ]
     },
     "execution_count": 7,
     "metadata": {},
     "output_type": "execute_result"
    }
   ],
   "source": [
    "total = datos.shape[0]\n",
    "total"
   ]
  },
  {
   "cell_type": "code",
   "execution_count": 8,
   "metadata": {},
   "outputs": [
    {
     "data": {
      "text/plain": [
       "11822"
      ]
     },
     "execution_count": 8,
     "metadata": {},
     "output_type": "execute_result"
    }
   ],
   "source": [
    "# total de ceros en activos\n",
    "ceros_act =np.count_nonzero(datos.Activos==0)\n",
    "ceros_act"
   ]
  },
  {
   "cell_type": "code",
   "execution_count": 9,
   "metadata": {},
   "outputs": [
    {
     "data": {
      "text/plain": [
       "70310"
      ]
     },
     "execution_count": 9,
     "metadata": {},
     "output_type": "execute_result"
    }
   ],
   "source": [
    "# total de ceros en pasivos\n",
    "ceros_pas = np.count_nonzero(datos.Pasivos==0)\n",
    "ceros_pas"
   ]
  },
  {
   "cell_type": "code",
   "execution_count": 10,
   "metadata": {},
   "outputs": [
    {
     "data": {
      "text/plain": [
       "1486"
      ]
     },
     "execution_count": 10,
     "metadata": {},
     "output_type": "execute_result"
    }
   ],
   "source": [
    "# total de ceros en Ingresos\n",
    "ceros_ing=np.count_nonzero(datos.Ingresos==0)\n",
    "ceros_ing"
   ]
  },
  {
   "cell_type": "code",
   "execution_count": 11,
   "metadata": {},
   "outputs": [
    {
     "data": {
      "text/plain": [
       "3295"
      ]
     },
     "execution_count": 11,
     "metadata": {},
     "output_type": "execute_result"
    }
   ],
   "source": [
    "# total de ceros en egresos\n",
    "ceros_egr =np.count_nonzero(datos.Egresos==0)\n",
    "ceros_egr"
   ]
  },
  {
   "cell_type": "code",
   "execution_count": 12,
   "metadata": {},
   "outputs": [
    {
     "data": {
      "text/plain": [
       "11797"
      ]
     },
     "execution_count": 12,
     "metadata": {},
     "output_type": "execute_result"
    }
   ],
   "source": [
    "# total de ceros en patrimonio\n",
    "ceros_pat = np.count_nonzero(datos.Patrimonio==0)\n",
    "ceros_pat"
   ]
  },
  {
   "cell_type": "code",
   "execution_count": 13,
   "metadata": {},
   "outputs": [
    {
     "data": {
      "text/plain": [
       "(161920, 11822, 3295, 1486, 70310, 11797)"
      ]
     },
     "execution_count": 13,
     "metadata": {},
     "output_type": "execute_result"
    }
   ],
   "source": [
    "total, ceros_act, ceros_egr, ceros_ing, ceros_pas, ceros_pat"
   ]
  },
  {
   "cell_type": "markdown",
   "metadata": {},
   "source": [
    "### Verificación de Valores NULOS"
   ]
  },
  {
   "cell_type": "code",
   "execution_count": 14,
   "metadata": {
    "scrolled": false
   },
   "outputs": [
    {
     "data": {
      "text/plain": [
       "Tipo_Empleo                 145623\n",
       "Tiempo_BAC                       3\n",
       "Edad                             2\n",
       "SLD_VCDO_CART_CRED_9             0\n",
       "SLD_VCDO_SOBREGIROS_5            0\n",
       "SLD_VCDO_SOBREGIROS_4            0\n",
       "SLD_VCDO_SOBREGIROS_3            0\n",
       "SLD_VCDO_SOBREGIROS_2            0\n",
       "SLD_VCDO_SOBREGIROS_1            0\n",
       "SLD_VCDO_CART_CRED_12            0\n",
       "SLD_VCDO_CART_CRED_11            0\n",
       "SLD_VCDO_CART_CRED_10            0\n",
       "Target                           0\n",
       "SLD_VCDO_CART_CRED_7             0\n",
       "SLD_VCDO_CART_CRED_6             0\n",
       "SLD_VCDO_CART_CRED_5             0\n",
       "SLD_VCDO_CART_CRED_4             0\n",
       "SLD_VCDO_CART_CRED_3             0\n",
       "SLD_VCDO_CART_CRED_2             0\n",
       "SLD_VCDO_CART_CRED_1             0\n",
       "VALOR_CDAT_12                    0\n",
       "VALOR_CDAT_11                    0\n",
       "SLD_VCDO_CART_CRED_8             0\n",
       "SLD_VCDO_SOBREGIROS_6            0\n",
       "VALOR_CDAT_9                     0\n",
       "SLD_VCDO_TARJ_CREDITO_5          0\n",
       "TOTALCOLOCACIONES_1              0\n",
       "SLD_VCDO_TARJ_CREDITO_12         0\n",
       "SLD_VCDO_TARJ_CREDITO_11         0\n",
       "SLD_VCDO_TARJ_CREDITO_10         0\n",
       "                             ...  \n",
       "TI_inversion_5                   0\n",
       "TI_inversion_4                   0\n",
       "TI_inversion_3                   0\n",
       "TI_inversion_2                   0\n",
       "TI_inversion_1                   0\n",
       "TI_capital_12                    0\n",
       "TI_capital_11                    0\n",
       "TI_capital_10                    0\n",
       "TP_pequeno_3                     0\n",
       "TP_pequeno_5                     0\n",
       "TP_mediano_12                    0\n",
       "TP_pequeno_6                     0\n",
       "TP_mediano_11                    0\n",
       "TP_mediano_10                    0\n",
       "TP_mediano_9                     0\n",
       "TP_mediano_8                     0\n",
       "TP_mediano_7                     0\n",
       "TP_mediano_6                     0\n",
       "TP_mediano_5                     0\n",
       "TP_mediano_4                     0\n",
       "TP_mediano_3                     0\n",
       "TP_mediano_2                     0\n",
       "TP_mediano_1                     0\n",
       "TP_pequeno_12                    0\n",
       "TP_pequeno_11                    0\n",
       "TP_pequeno_10                    0\n",
       "TP_pequeno_9                     0\n",
       "TP_pequeno_8                     0\n",
       "TP_pequeno_7                     0\n",
       "consecutivo                      0\n",
       "Length: 688, dtype: int64"
      ]
     },
     "execution_count": 14,
     "metadata": {},
     "output_type": "execute_result"
    }
   ],
   "source": [
    "datos.isnull().sum().sort_values(ascending=False)"
   ]
  },
  {
   "cell_type": "markdown",
   "metadata": {},
   "source": [
    "### 1.1. Tratamiento variables con valores nulos"
   ]
  },
  {
   "cell_type": "markdown",
   "metadata": {},
   "source": [
    "#### Nulos: Tipo_Empleo"
   ]
  },
  {
   "cell_type": "markdown",
   "metadata": {},
   "source": [
    "Al analizar la variable de tipo de empleo se encuentra que **90%** de los registros tienen NA, por lo que se elimina de la base de datos, el mismo procedimiento se realiza para Codigo ciiu"
   ]
  },
  {
   "cell_type": "code",
   "execution_count": 15,
   "metadata": {},
   "outputs": [],
   "source": [
    "del datos['Tipo_Empleo']\n",
    "del datos['Codigo_ciiu']"
   ]
  },
  {
   "cell_type": "markdown",
   "metadata": {},
   "source": [
    "#### Nulos Tiempo en el Banco"
   ]
  },
  {
   "cell_type": "code",
   "execution_count": 16,
   "metadata": {},
   "outputs": [
    {
     "data": {
      "text/html": [
       "<div>\n",
       "<style scoped>\n",
       "    .dataframe tbody tr th:only-of-type {\n",
       "        vertical-align: middle;\n",
       "    }\n",
       "\n",
       "    .dataframe tbody tr th {\n",
       "        vertical-align: top;\n",
       "    }\n",
       "\n",
       "    .dataframe thead th {\n",
       "        text-align: right;\n",
       "    }\n",
       "</style>\n",
       "<table border=\"1\" class=\"dataframe\">\n",
       "  <thead>\n",
       "    <tr style=\"text-align: right;\">\n",
       "      <th></th>\n",
       "      <th>consecutivo</th>\n",
       "      <th>Tiempo_BAC</th>\n",
       "    </tr>\n",
       "  </thead>\n",
       "  <tbody>\n",
       "    <tr>\n",
       "      <th>17793</th>\n",
       "      <td>12970810</td>\n",
       "      <td>NaN</td>\n",
       "    </tr>\n",
       "    <tr>\n",
       "      <th>47305</th>\n",
       "      <td>12339537</td>\n",
       "      <td>NaN</td>\n",
       "    </tr>\n",
       "    <tr>\n",
       "      <th>161726</th>\n",
       "      <td>12875634</td>\n",
       "      <td>NaN</td>\n",
       "    </tr>\n",
       "  </tbody>\n",
       "</table>\n",
       "</div>"
      ],
      "text/plain": [
       "        consecutivo  Tiempo_BAC\n",
       "17793      12970810         NaN\n",
       "47305      12339537         NaN\n",
       "161726     12875634         NaN"
      ]
     },
     "execution_count": 16,
     "metadata": {},
     "output_type": "execute_result"
    }
   ],
   "source": [
    "datos[['consecutivo','Tiempo_BAC']][datos['Tiempo_BAC'] .isnull()]"
   ]
  },
  {
   "cell_type": "code",
   "execution_count": 17,
   "metadata": {},
   "outputs": [],
   "source": [
    "datos.drop(datos[datos.Tiempo_BAC.isnull()].index, inplace=True)"
   ]
  },
  {
   "cell_type": "code",
   "execution_count": 18,
   "metadata": {},
   "outputs": [
    {
     "data": {
      "text/html": [
       "<div>\n",
       "<style scoped>\n",
       "    .dataframe tbody tr th:only-of-type {\n",
       "        vertical-align: middle;\n",
       "    }\n",
       "\n",
       "    .dataframe tbody tr th {\n",
       "        vertical-align: top;\n",
       "    }\n",
       "\n",
       "    .dataframe thead th {\n",
       "        text-align: right;\n",
       "    }\n",
       "</style>\n",
       "<table border=\"1\" class=\"dataframe\">\n",
       "  <thead>\n",
       "    <tr style=\"text-align: right;\">\n",
       "      <th></th>\n",
       "      <th>consecutivo</th>\n",
       "      <th>Tiempo_BAC</th>\n",
       "    </tr>\n",
       "  </thead>\n",
       "  <tbody>\n",
       "  </tbody>\n",
       "</table>\n",
       "</div>"
      ],
      "text/plain": [
       "Empty DataFrame\n",
       "Columns: [consecutivo, Tiempo_BAC]\n",
       "Index: []"
      ]
     },
     "execution_count": 18,
     "metadata": {},
     "output_type": "execute_result"
    }
   ],
   "source": [
    "datos[['consecutivo','Tiempo_BAC']][datos['Tiempo_BAC'] .isnull()]"
   ]
  },
  {
   "cell_type": "markdown",
   "metadata": {},
   "source": [
    "## Nulos: Edad"
   ]
  },
  {
   "cell_type": "code",
   "execution_count": 19,
   "metadata": {},
   "outputs": [
    {
     "data": {
      "text/html": [
       "<div>\n",
       "<style scoped>\n",
       "    .dataframe tbody tr th:only-of-type {\n",
       "        vertical-align: middle;\n",
       "    }\n",
       "\n",
       "    .dataframe tbody tr th {\n",
       "        vertical-align: top;\n",
       "    }\n",
       "\n",
       "    .dataframe thead th {\n",
       "        text-align: right;\n",
       "    }\n",
       "</style>\n",
       "<table border=\"1\" class=\"dataframe\">\n",
       "  <thead>\n",
       "    <tr style=\"text-align: right;\">\n",
       "      <th></th>\n",
       "      <th>consecutivo</th>\n",
       "      <th>Edad</th>\n",
       "    </tr>\n",
       "  </thead>\n",
       "  <tbody>\n",
       "    <tr>\n",
       "      <th>26892</th>\n",
       "      <td>8611339</td>\n",
       "      <td>NaN</td>\n",
       "    </tr>\n",
       "    <tr>\n",
       "      <th>97396</th>\n",
       "      <td>6569472</td>\n",
       "      <td>NaN</td>\n",
       "    </tr>\n",
       "  </tbody>\n",
       "</table>\n",
       "</div>"
      ],
      "text/plain": [
       "       consecutivo  Edad\n",
       "26892      8611339   NaN\n",
       "97396      6569472   NaN"
      ]
     },
     "execution_count": 19,
     "metadata": {},
     "output_type": "execute_result"
    }
   ],
   "source": [
    "datos[['consecutivo','Edad']][datos['Edad'] .isnull()]\n"
   ]
  },
  {
   "cell_type": "code",
   "execution_count": 20,
   "metadata": {},
   "outputs": [],
   "source": [
    "datos.drop(datos[datos.Edad.isnull()].index, inplace=True)"
   ]
  },
  {
   "cell_type": "code",
   "execution_count": 21,
   "metadata": {
    "scrolled": true
   },
   "outputs": [
    {
     "data": {
      "text/html": [
       "<div>\n",
       "<style scoped>\n",
       "    .dataframe tbody tr th:only-of-type {\n",
       "        vertical-align: middle;\n",
       "    }\n",
       "\n",
       "    .dataframe tbody tr th {\n",
       "        vertical-align: top;\n",
       "    }\n",
       "\n",
       "    .dataframe thead th {\n",
       "        text-align: right;\n",
       "    }\n",
       "</style>\n",
       "<table border=\"1\" class=\"dataframe\">\n",
       "  <thead>\n",
       "    <tr style=\"text-align: right;\">\n",
       "      <th></th>\n",
       "      <th>consecutivo</th>\n",
       "      <th>Edad</th>\n",
       "    </tr>\n",
       "  </thead>\n",
       "  <tbody>\n",
       "  </tbody>\n",
       "</table>\n",
       "</div>"
      ],
      "text/plain": [
       "Empty DataFrame\n",
       "Columns: [consecutivo, Edad]\n",
       "Index: []"
      ]
     },
     "execution_count": 21,
     "metadata": {},
     "output_type": "execute_result"
    }
   ],
   "source": [
    "datos[['consecutivo','Edad']][datos['Edad'] .isnull()]\n"
   ]
  },
  {
   "cell_type": "markdown",
   "metadata": {},
   "source": [
    "### 1.2.  Tratamiento variables categóricas"
   ]
  },
  {
   "cell_type": "markdown",
   "metadata": {},
   "source": [
    "#### Creeamos un nuevo dataset con las variables categóricas"
   ]
  },
  {
   "cell_type": "code",
   "execution_count": 22,
   "metadata": {},
   "outputs": [],
   "source": [
    "datos_=datos.loc[:,('banca_cliente','Depende_Tercero','Profesion','Estado_Civil',\n",
    "        'Nivel_Educativo','Genero','Victima','ZONAL','REGIONAL','Municipio_DANE','Departamento_DANE',\n",
    "        'Competencia','Ruralidad','Postconflicto','SEGURO','NOMBRE_OFICINA','FAG_1','FAG_2','FAG_3',\n",
    "        'FAG_4','FAG_5','FAG_6','FAG_7','FAG_8','FAG_9','FAG_10','FAG_11','FAG_12','hipoteca_1',\n",
    "        'hipoteca_2','hipoteca_3','hipoteca_4','hipoteca_5','hipoteca_6','hipoteca_7','hipoteca_8',\n",
    "        'hipoteca_9','hipoteca_10','hipoteca_11','hipoteca_12','CALIF_CART_CLIENTE_1','CALIF_CART_CLIENTE_2',\n",
    "        'CALIF_CART_CLIENTE_3','CALIF_CART_CLIENTE_4','CALIF_CART_CLIENTE_5','CALIF_CART_CLIENTE_6',\n",
    "        'CALIF_CART_CLIENTE_7','CALIF_CART_CLIENTE_8','CALIF_CART_CLIENTE_9','CALIF_CART_CLIENTE_10',\n",
    "        'CALIF_CART_CLIENTE_11','CALIF_CART_CLIENTE_12')]"
   ]
  },
  {
   "cell_type": "markdown",
   "metadata": {},
   "source": [
    "### Transformación de variables categóricas"
   ]
  },
  {
   "cell_type": "code",
   "execution_count": 23,
   "metadata": {},
   "outputs": [
    {
     "data": {
      "text/plain": [
       "(161915, 686)"
      ]
     },
     "execution_count": 23,
     "metadata": {},
     "output_type": "execute_result"
    }
   ],
   "source": [
    "# Validamos el tamaño del dataset antes de convertir a dummies las variables categóricas\n",
    "datos.shape"
   ]
  },
  {
   "cell_type": "markdown",
   "metadata": {},
   "source": [
    "#### A continuación, se crean las variables dummies "
   ]
  },
  {
   "cell_type": "code",
   "execution_count": 24,
   "metadata": {},
   "outputs": [
    {
     "data": {
      "text/plain": [
       "(161915, 2470)"
      ]
     },
     "execution_count": 24,
     "metadata": {},
     "output_type": "execute_result"
    }
   ],
   "source": [
    "datos_dum = pd.get_dummies(datos)\n",
    "datos_dum.shape"
   ]
  },
  {
   "cell_type": "markdown",
   "metadata": {},
   "source": [
    "# 2. Implementación de modelos"
   ]
  },
  {
   "cell_type": "markdown",
   "metadata": {},
   "source": [
    "## 2.1. Regresión logística con la base original"
   ]
  },
  {
   "cell_type": "markdown",
   "metadata": {},
   "source": [
    "A continuación, se implementa el modelo de regresión logística con la base de datos original, a la cual, después del procesamiento inicial, sólo se realizó la transformación de las variables categóricas a dummies"
   ]
  },
  {
   "cell_type": "markdown",
   "metadata": {},
   "source": [
    "### Partición\n"
   ]
  },
  {
   "cell_type": "code",
   "execution_count": 25,
   "metadata": {},
   "outputs": [],
   "source": [
    "# Separación de la variable target\n",
    "y=datos['Target']\n",
    "y=pd.DataFrame(y)"
   ]
  },
  {
   "cell_type": "code",
   "execution_count": 26,
   "metadata": {},
   "outputs": [],
   "source": [
    "# Separación de las variables independientes\n",
    "X=datos_dum.iloc[:,:]\n",
    "del X['consecutivo']\n",
    "del X['Target']"
   ]
  },
  {
   "cell_type": "code",
   "execution_count": 27,
   "metadata": {},
   "outputs": [],
   "source": [
    "#Realizamos la partición\n",
    "X_train, X_test, y_train, y_test = train_test_split(X, y, test_size = .3, random_state=2)"
   ]
  },
  {
   "cell_type": "code",
   "execution_count": 28,
   "metadata": {},
   "outputs": [
    {
     "data": {
      "text/plain": [
       "((113340, 2468), (48575, 2468), (113340, 1), (48575, 1))"
      ]
     },
     "execution_count": 28,
     "metadata": {},
     "output_type": "execute_result"
    }
   ],
   "source": [
    "#Se exploran las dimensiones de cada partición\n",
    "X_train.shape, X_test.shape, y_train.shape, y_test.shape"
   ]
  },
  {
   "cell_type": "markdown",
   "metadata": {},
   "source": [
    "### Modelo Logit"
   ]
  },
  {
   "cell_type": "markdown",
   "metadata": {},
   "source": [
    "A continuación, se implementa el modelo de regresión logística con el set de datos original, al cual se le transforman las variables categoricas en variables dummies. "
   ]
  },
  {
   "cell_type": "code",
   "execution_count": 29,
   "metadata": {
    "scrolled": false
   },
   "outputs": [
    {
     "name": "stderr",
     "output_type": "stream",
     "text": [
      "C:\\Users\\camiloto\\AppData\\Local\\Continuum\\anaconda3\\lib\\site-packages\\sklearn\\utils\\validation.py:578: DataConversionWarning: A column-vector y was passed when a 1d array was expected. Please change the shape of y to (n_samples, ), for example using ravel().\n",
      "  y = column_or_1d(y, warn=True)\n"
     ]
    },
    {
     "data": {
      "text/plain": [
       "LogisticRegression(C=1.0, class_weight=None, dual=False, fit_intercept=True,\n",
       "          intercept_scaling=1, max_iter=100, multi_class='ovr', n_jobs=1,\n",
       "          penalty='l2', random_state=None, solver='liblinear', tol=0.0001,\n",
       "          verbose=0, warm_start=False)"
      ]
     },
     "execution_count": 29,
     "metadata": {},
     "output_type": "execute_result"
    }
   ],
   "source": [
    "LogReg_1 = LogisticRegression()\n",
    "LogReg_1.fit(X_train, y_train)"
   ]
  },
  {
   "cell_type": "code",
   "execution_count": 30,
   "metadata": {},
   "outputs": [
    {
     "data": {
      "text/plain": [
       "(113340, 2468)"
      ]
     },
     "execution_count": 30,
     "metadata": {},
     "output_type": "execute_result"
    }
   ],
   "source": [
    "X_train.shape"
   ]
  },
  {
   "cell_type": "code",
   "execution_count": 31,
   "metadata": {},
   "outputs": [],
   "source": [
    "y_pred_RL = LogReg_1.predict(X_test)"
   ]
  },
  {
   "cell_type": "code",
   "execution_count": 32,
   "metadata": {
    "scrolled": false
   },
   "outputs": [
    {
     "name": "stdout",
     "output_type": "stream",
     "text": [
      "             precision    recall  f1-score   support\n",
      "\n",
      "No abandono       0.83      0.98      0.90     39006\n",
      "Si abandono       0.72      0.17      0.28      9569\n",
      "\n",
      "avg / total       0.81      0.82      0.78     48575\n",
      "\n"
     ]
    }
   ],
   "source": [
    "target_names = ['No abandono', 'Si abandono']\n",
    "label = ['x','y']\n",
    "print(classification_report(y_test, y_pred_RL, target_names=target_names) )\n"
   ]
  },
  {
   "cell_type": "code",
   "execution_count": 33,
   "metadata": {},
   "outputs": [
    {
     "data": {
      "text/plain": [
       "Text(0.5,1,'Confusion Matrix')"
      ]
     },
     "execution_count": 33,
     "metadata": {},
     "output_type": "execute_result"
    },
    {
     "data": {
      "image/png": "[encoded data removed]",
      "text/plain": [
       "<matplotlib.figure.Figure at 0x20b9c374a90>"
      ]
     },
     "metadata": {},
     "output_type": "display_data"
    }
   ],
   "source": [
    "plt.figure(figsize=(24,16))\n",
    "plt.subplot(221)\n",
    "cm_1=sb.heatmap(confusion_matrix(y_test,y_pred_RL),annot=True,fmt = \"d\",linecolor=\"k\",linewidths=2)\n",
    "plt.title(\"Confusion Matrix\",fontsize=24,fontweight=\"bold\")"
   ]
  },
  {
   "cell_type": "markdown",
   "metadata": {},
   "source": [
    "## Métricas calculadas a partir de una matriz de confusión"
   ]
  },
  {
   "cell_type": "code",
   "execution_count": 34,
   "metadata": {},
   "outputs": [],
   "source": [
    "# save confusion matrix and slice into four pieces\n",
    "confusion = metrics.confusion_matrix(y_test, y_pred_RL)\n",
    "TP = confusion[1, 1]\n",
    "TN = confusion[0, 0]\n",
    "FP = confusion[0, 1]\n",
    "FN = confusion[1, 0]"
   ]
  },
  {
   "cell_type": "markdown",
   "metadata": {},
   "source": [
    "**Terminología básica\n",
    "\n",
    "- **Verdaderos positivos (TP)**: El modelo predice correctamente que tienen diabetes\n",
    "- **Negativos verdaderos (TN)**: predijimos correctamente que no tienen diabetes\n",
    "- **Falsos positivos (PF)**: predijimos incorrectamente que tienen diabetes (un \"error de tipo I\")\n",
    "- **Falsos negativos (FN)**: predijimos incorrectamente que no tienen diabetes (un \"error de Tipo II\")"
   ]
  },
  {
   "cell_type": "markdown",
   "metadata": {},
   "source": [
    "### Cálculo de las métricas"
   ]
  },
  {
   "cell_type": "markdown",
   "metadata": {},
   "source": [
    "**Precisión de la clasificación**: en general, ¿Con qué frecuencia es correcto el clasificador?"
   ]
  },
  {
   "cell_type": "code",
   "execution_count": 35,
   "metadata": {},
   "outputs": [
    {
     "name": "stdout",
     "output_type": "stream",
     "text": [
      "Accuracy               = 0.82\n"
     ]
    }
   ],
   "source": [
    "Accuracy= (\"Accuracy               = \"+str(round((TP + TN) / float(TP + TN + FP + FN),2)))\n",
    "print(Accuracy)\n",
    "#print(metrics.accuracy_score(y_test, y_pred_1))"
   ]
  },
  {
   "cell_type": "markdown",
   "metadata": {},
   "source": [
    "**Classification Error:** en general, ¿con qué frecuencia el clasificador es incorrecto?\n",
    "\n",
    "- También conocido como \"tasa de clasificación errónea\"\""
   ]
  },
  {
   "cell_type": "code",
   "execution_count": 36,
   "metadata": {
    "scrolled": true
   },
   "outputs": [
    {
     "name": "stdout",
     "output_type": "stream",
     "text": [
      "Classification Error   = 0.18\n"
     ]
    }
   ],
   "source": [
    "Classification_Error = (\"Classification Error   = \"+str(round((FP + FN) / float(TP + TN + FP + FN),2)))\n",
    "print(Classification_Error)\n",
    "#print(1 - metrics.accuracy_score(y_test, y_pred_1))"
   ]
  },
  {
   "cell_type": "markdown",
   "metadata": {},
   "source": [
    "**Sensitivity:** cuando el valor real es **positivo**, ¿con qué frecuencia es correcta la predicción?\n",
    "\n",
    "- ¿Qué tan \"sensible\" es el clasificador para detectar casos positivos?\n",
    "- También conocido como \"True Positive Rate\" o \"Recall\"\n",
    "\n",
    " \n",
    "\n",
    "\n"
   ]
  },
  {
   "cell_type": "code",
   "execution_count": 37,
   "metadata": {},
   "outputs": [
    {
     "name": "stdout",
     "output_type": "stream",
     "text": [
      "Sensitivity            = 0.17\n"
     ]
    }
   ],
   "source": [
    "Sensitivity = (\"Sensitivity            = \" +str(round(TP / float(TP + FN),2)))\n",
    "print(Sensitivity)\n",
    "#print(metrics.recall_score(y_test, y_pred_1))"
   ]
  },
  {
   "cell_type": "markdown",
   "metadata": {},
   "source": [
    "**Specificity:** Cuando el valor real es **negativo**, ¿con qué frecuencia es correcta la predicción?\n",
    "\n",
    "- ¿En qué medida \"específico\" (o \"selectivo\") es el clasificador para predecir casos positivos?\n",
    "\n"
   ]
  },
  {
   "cell_type": "code",
   "execution_count": 38,
   "metadata": {},
   "outputs": [
    {
     "name": "stdout",
     "output_type": "stream",
     "text": [
      "Specificity            = 0.98\n"
     ]
    }
   ],
   "source": [
    "Specificity =(\"Specificity            = \" +str(round(TN / float(TN + FP),2)))\n",
    "print(Specificity)"
   ]
  },
  {
   "cell_type": "markdown",
   "metadata": {},
   "source": [
    "**False Positive Rate:** cuando el valor real es negativo, ¿con qué frecuencia es **incorrecta** la predicción?"
   ]
  },
  {
   "cell_type": "code",
   "execution_count": 39,
   "metadata": {},
   "outputs": [
    {
     "name": "stdout",
     "output_type": "stream",
     "text": [
      "False Positive Rate    = 0.02\n"
     ]
    }
   ],
   "source": [
    "False_Positive_rate=(\"False Positive Rate    = \"+str(round(FP / float(TN + FP),2)))\n",
    "print(False_Positive_rate)"
   ]
  },
  {
   "cell_type": "markdown",
   "metadata": {},
   "source": [
    "**Precision:** Cuando se predice un valor positivo, ¿con qué frecuencia es correcta la predicción?\n",
    "\n",
    "- ¿Qué tan preciso es el clasificador al predecir instancias positivas?"
   ]
  },
  {
   "cell_type": "code",
   "execution_count": 40,
   "metadata": {},
   "outputs": [
    {
     "name": "stdout",
     "output_type": "stream",
     "text": [
      "Precision              = 0.716\n"
     ]
    }
   ],
   "source": [
    "Precision=(\"Precision              = \"+str  (round(TP / float(TP + FP),3)))\n",
    "print(Precision)\n",
    "#print(metrics.precision_score(y_test, y_pred_1))"
   ]
  },
  {
   "cell_type": "code",
   "execution_count": 41,
   "metadata": {
    "scrolled": false
   },
   "outputs": [
    {
     "name": "stdout",
     "output_type": "stream",
     "text": [
      "---------------------------------Métricas modelo 1 **Regresión Logística** ------------------------------------------------\n",
      "Accuracy               = 0.82\n",
      "Classification Error   = 0.18\n",
      "Sensitivity            = 0.17\n",
      "Specificity            = 0.98\n",
      "False Positive Rate    = 0.02\n",
      "Precision              = 0.716\n"
     ]
    }
   ],
   "source": [
    "print(\"---------------------------------Métricas modelo 1 **Regresión Logística** ------------------------------------------------\")\n",
    "print(Accuracy),print(Classification_Error), print(Sensitivity), print(Specificity), print(False_Positive_rate),\n",
    "print(Precision)"
   ]
  },
  {
   "cell_type": "code",
   "execution_count": 42,
   "metadata": {
    "scrolled": false
   },
   "outputs": [
    {
     "name": "stderr",
     "output_type": "stream",
     "text": [
      "C:\\Users\\camiloto\\AppData\\Local\\Continuum\\anaconda3\\lib\\site-packages\\sklearn\\linear_model\\base.py:340: RuntimeWarning: overflow encountered in exp\n",
      "  np.exp(prob, prob)\n"
     ]
    },
    {
     "data": {
      "image/png": "[encoded data removed]",
      "text/plain": [
       "<matplotlib.figure.Figure at 0x20b9c57c4e0>"
      ]
     },
     "metadata": {},
     "output_type": "display_data"
    }
   ],
   "source": [
    "predicting_probabilites = LogReg_1.predict_proba(X_test)[:,1]\n",
    "fpr,tpr,thresholds = roc_curve(y_test, predicting_probabilites)\n",
    "#plt.subplot(222)\n",
    "plt.figure(figsize=(10,5))\n",
    "plt.plot(fpr,tpr,label = (\"Area_under the curve :\",round(auc(fpr,tpr),4)),color = \"r\")\n",
    "plt.plot([1,0],[1,0],linestyle = \"dashed\",color =\"b\")\n",
    "plt.legend(loc = \"best\")\n",
    "# show the plot\n",
    "plt.title('ROC curve for churn classifier - Logit Model')\n",
    "plt.xlabel('False Positive Rate (1 - Specificity)')\n",
    "plt.ylabel('True Positive Rate (Sensitivity)')\n",
    "plt.grid(True)\n",
    "pyplot.show()"
   ]
  },
  {
   "cell_type": "markdown",
   "metadata": {},
   "source": [
    "### Análisis de los resultados del modelo de regresión logística\n",
    "\n",
    "De acuerdo con los resultados de este primer modelo de **Regresión Logística** con todas las variables, se observa que, en general el modelo clasifica correctamente el 77% de los casos, sin embargo, el error de la clasificación es del 23%, en cuanto a la sensibilidad, el valor de casos positivos clasificados correctamente  es del 37%, mientras que la especificidad, es decir, los casos negativos que el modelo clasifica correctamente es del 93% y los casos negativos que son clasificados de forma erronea es del 7%.\n",
    "\n"
   ]
  },
  {
   "cell_type": "markdown",
   "metadata": {},
   "source": [
    "## Random forest"
   ]
  },
  {
   "cell_type": "code",
   "execution_count": 43,
   "metadata": {},
   "outputs": [],
   "source": [
    "cfl = RandomForestClassifier()"
   ]
  },
  {
   "cell_type": "code",
   "execution_count": 44,
   "metadata": {},
   "outputs": [
    {
     "name": "stderr",
     "output_type": "stream",
     "text": [
      "C:\\Users\\camiloto\\AppData\\Local\\Continuum\\anaconda3\\lib\\site-packages\\ipykernel_launcher.py:1: DataConversionWarning: A column-vector y was passed when a 1d array was expected. Please change the shape of y to (n_samples,), for example using ravel().\n",
      "  \"\"\"Entry point for launching an IPython kernel.\n"
     ]
    },
    {
     "data": {
      "text/plain": [
       "RandomForestClassifier(bootstrap=True, class_weight=None, criterion='gini',\n",
       "            max_depth=None, max_features='auto', max_leaf_nodes=None,\n",
       "            min_impurity_decrease=0.0, min_impurity_split=None,\n",
       "            min_samples_leaf=1, min_samples_split=2,\n",
       "            min_weight_fraction_leaf=0.0, n_estimators=10, n_jobs=1,\n",
       "            oob_score=False, random_state=None, verbose=0,\n",
       "            warm_start=False)"
      ]
     },
     "execution_count": 44,
     "metadata": {},
     "output_type": "execute_result"
    }
   ],
   "source": [
    "cfl.fit(X_train, y_train)"
   ]
  },
  {
   "cell_type": "code",
   "execution_count": 45,
   "metadata": {},
   "outputs": [],
   "source": [
    "y_pred_cfl = cfl.predict(X_test)"
   ]
  },
  {
   "cell_type": "code",
   "execution_count": 46,
   "metadata": {},
   "outputs": [
    {
     "name": "stdout",
     "output_type": "stream",
     "text": [
      "Mean squared error - Random Forest: 0.0774\n"
     ]
    }
   ],
   "source": [
    "# Se calcula el MSE(mean squared error)\n",
    "mse_cfl=(\"Mean squared error - Random Forest: %.4f\"\n",
    "      % mean_squared_error(y_test, y_pred_cfl))\n",
    "print(mse_cfl)"
   ]
  },
  {
   "cell_type": "code",
   "execution_count": 47,
   "metadata": {
    "scrolled": true
   },
   "outputs": [
    {
     "name": "stdout",
     "output_type": "stream",
     "text": [
      "             precision    recall  f1-score   support\n",
      "\n",
      "No abandono       0.93      0.97      0.95     39006\n",
      "Si abandono       0.86      0.72      0.79      9569\n",
      "\n",
      "avg / total       0.92      0.92      0.92     48575\n",
      "\n"
     ]
    }
   ],
   "source": [
    "target_names = ['No abandono', 'Si abandono']\n",
    "print(classification_report(y_test, y_pred_cfl, target_names=target_names) )\n"
   ]
  },
  {
   "cell_type": "code",
   "execution_count": 48,
   "metadata": {},
   "outputs": [
    {
     "data": {
      "text/plain": [
       "Text(0.5,1,'Confusion Matrix')"
      ]
     },
     "execution_count": 48,
     "metadata": {},
     "output_type": "execute_result"
    },
    {
     "data": {
      "image/png": "[encoded data removed]",
      "text/plain": [
       "<matplotlib.figure.Figure at 0x20b9cc356a0>"
      ]
     },
     "metadata": {},
     "output_type": "display_data"
    }
   ],
   "source": [
    "plt.figure(figsize=(24,16))\n",
    "plt.subplot(221)\n",
    "cm_1=sb.heatmap(confusion_matrix(y_test,y_pred_cfl),annot=True,fmt = \"d\",linecolor=\"k\",linewidths=2)\n",
    "plt.title(\"Confusion Matrix\",fontsize=24,fontweight=\"bold\")"
   ]
  },
  {
   "cell_type": "markdown",
   "metadata": {},
   "source": [
    "## Métricas calculadas a partir de una matriz de confusión"
   ]
  },
  {
   "cell_type": "code",
   "execution_count": 49,
   "metadata": {
    "scrolled": true
   },
   "outputs": [
    {
     "name": "stdout",
     "output_type": "stream",
     "text": [
      "---------------------------------Métricas modelo 2 **Random Forest** ------------------------------------------------\n",
      "Accuracy               = 0.92\n",
      "Classification Error   = 0.08\n",
      "Sensitivity            = 0.72\n",
      "Specificity            = 0.97\n",
      "False Positive Rate    = 0.02\n",
      "Precision              = 0.86\n"
     ]
    }
   ],
   "source": [
    "# save confusion matrix and slice into four pieces\n",
    "confusion = metrics.confusion_matrix(y_test, y_pred_cfl)\n",
    "TP = confusion[1, 1]\n",
    "TN = confusion[0, 0]\n",
    "FP = confusion[0, 1]\n",
    "FN = confusion[1, 0]\n",
    "\n",
    "### Cálculo de las métricas\n",
    "\n",
    "Accuracy= (\"Accuracy               = \"+str(round((TP + TN) / float(TP + TN + FP + FN),2)))\n",
    "\n",
    "Classification_Error = (\"Classification Error   = \"+str(round((FP + FN) / float(TP + TN + FP + FN),2)))\n",
    "\n",
    "Sensitivity = (\"Sensitivity            = \" +str(round(TP / float(TP + FN),2)))\n",
    "\n",
    "Specificity =(\"Specificity            = \" +str(round(TN / float(TN + FP),2)))\n",
    "\n",
    "Precision=(\"Precision              = \"+str  (round(TP / float(TP + FP),3)))\n",
    "\n",
    "print(\"---------------------------------Métricas modelo 2 **Random Forest** ------------------------------------------------\")\n",
    "print(Accuracy),print(Classification_Error), print(Sensitivity), print(Specificity), print(False_Positive_rate),\n",
    "print(Precision)"
   ]
  },
  {
   "cell_type": "code",
   "execution_count": 50,
   "metadata": {
    "scrolled": true
   },
   "outputs": [
    {
     "data": {
      "image/png": "[encoded data removed]",
      "text/plain": [
       "<matplotlib.figure.Figure at 0x20b9ccffbe0>"
      ]
     },
     "metadata": {},
     "output_type": "display_data"
    }
   ],
   "source": [
    "predicting_probabilites_1 = cfl.predict_proba(X_test)[:,1]\n",
    "fpr,tpr,thresholds = roc_curve(y_test, predicting_probabilites_1)\n",
    "#plot.subplot(222)\n",
    "plt.figure(figsize=(10,5))\n",
    "plt.plot(fpr,tpr,label = (\"Area_under the curve :\",round(auc(fpr,tpr),4)),color = \"r\")\n",
    "plt.plot([1,0],[1,0],linestyle = \"dashed\",color =\"b\")\n",
    "plt.legend(loc = \"best\")\n",
    "# show the plot\n",
    "plt.title('ROC curve for churn classifier - Random forest')\n",
    "plt.xlabel('False Positive Rate (1 - Specificity)')\n",
    "plt.ylabel('True Positive Rate (Sensitivity)')\n",
    "plt.grid(True)\n",
    "pyplot.show()"
   ]
  },
  {
   "cell_type": "markdown",
   "metadata": {},
   "source": [
    "### Análisis de los resultados del modelo de Random Forest \n",
    "\n",
    "De acuerdo con los resultados del modelo de **Random Forest** con todas las variables, se observa que, en general el modelo clasifica correctamente el 90% de los casos, en cuanto a la sensibilidad, el valor de casos positivos clasificados correctamente  es del 77%, mientras que la especificidad, es decir, los casos negativos que el modelo clasifica correctamente es del 95% y los casos negativos que son clasificados de forma erronea es del 7%."
   ]
  },
  {
   "cell_type": "markdown",
   "metadata": {},
   "source": [
    "## 2.2. El siguiente paso en la metodología es realizar el proceso de selección de variables para realizar la reducción de dimensionalidad"
   ]
  },
  {
   "cell_type": "markdown",
   "metadata": {},
   "source": [
    "A continuación, se implementan dos estrategias: **1.** el algorítmo de **Random Forest** para selección de variables y **2.** el modelo  **PCA** de reducción de dimensionalidad, finalmente, los output de estos modelos se utilizan como input para el modelo de regresión logística y para la red neuronal."
   ]
  },
  {
   "cell_type": "markdown",
   "metadata": {},
   "source": [
    "#### 2.2.1. Random Forest"
   ]
  },
  {
   "cell_type": "markdown",
   "metadata": {},
   "source": [
    "### Con el siguiente código se obtienen los Feature importances"
   ]
  },
  {
   "cell_type": "code",
   "execution_count": 51,
   "metadata": {
    "scrolled": true
   },
   "outputs": [
    {
     "data": {
      "text/html": [
       "<div>\n",
       "<style scoped>\n",
       "    .dataframe tbody tr th:only-of-type {\n",
       "        vertical-align: middle;\n",
       "    }\n",
       "\n",
       "    .dataframe tbody tr th {\n",
       "        vertical-align: top;\n",
       "    }\n",
       "\n",
       "    .dataframe thead th {\n",
       "        text-align: right;\n",
       "    }\n",
       "</style>\n",
       "<table border=\"1\" class=\"dataframe\">\n",
       "  <thead>\n",
       "    <tr style=\"text-align: right;\">\n",
       "      <th></th>\n",
       "      <th>importance</th>\n",
       "    </tr>\n",
       "  </thead>\n",
       "  <tbody>\n",
       "    <tr>\n",
       "      <th>TOTALCAPTACIONES_9</th>\n",
       "      <td>0.055672</td>\n",
       "    </tr>\n",
       "    <tr>\n",
       "      <th>TOTALCAPTACIONES_3</th>\n",
       "      <td>0.047258</td>\n",
       "    </tr>\n",
       "    <tr>\n",
       "      <th>TOTALCAPTACIONES_11</th>\n",
       "      <td>0.032450</td>\n",
       "    </tr>\n",
       "    <tr>\n",
       "      <th>TOTALCAPTACIONES_7</th>\n",
       "      <td>0.031496</td>\n",
       "    </tr>\n",
       "    <tr>\n",
       "      <th>SALDO_AHORROS_2</th>\n",
       "      <td>0.024858</td>\n",
       "    </tr>\n",
       "    <tr>\n",
       "      <th>N_AHORROS_A_1</th>\n",
       "      <td>0.021967</td>\n",
       "    </tr>\n",
       "    <tr>\n",
       "      <th>N_AHORROS_I_2</th>\n",
       "      <td>0.020368</td>\n",
       "    </tr>\n",
       "    <tr>\n",
       "      <th>TOTALCAPTACIONES_12</th>\n",
       "      <td>0.018611</td>\n",
       "    </tr>\n",
       "    <tr>\n",
       "      <th>N_AHORROS_A_6</th>\n",
       "      <td>0.014584</td>\n",
       "    </tr>\n",
       "    <tr>\n",
       "      <th>N_AHORROS_I_1</th>\n",
       "      <td>0.014118</td>\n",
       "    </tr>\n",
       "    <tr>\n",
       "      <th>N_AHORROS_I_12</th>\n",
       "      <td>0.014117</td>\n",
       "    </tr>\n",
       "    <tr>\n",
       "      <th>SALDO_AHORROS_A_12</th>\n",
       "      <td>0.013811</td>\n",
       "    </tr>\n",
       "    <tr>\n",
       "      <th>N_AHORROS_A_12</th>\n",
       "      <td>0.013302</td>\n",
       "    </tr>\n",
       "    <tr>\n",
       "      <th>N_AHORROS_A_9</th>\n",
       "      <td>0.012294</td>\n",
       "    </tr>\n",
       "    <tr>\n",
       "      <th>Tiempo_BAC</th>\n",
       "      <td>0.011802</td>\n",
       "    </tr>\n",
       "    <tr>\n",
       "      <th>SALDO_AHORROS_A_7</th>\n",
       "      <td>0.011670</td>\n",
       "    </tr>\n",
       "    <tr>\n",
       "      <th>Activos</th>\n",
       "      <td>0.011488</td>\n",
       "    </tr>\n",
       "    <tr>\n",
       "      <th>Egresos</th>\n",
       "      <td>0.011358</td>\n",
       "    </tr>\n",
       "    <tr>\n",
       "      <th>Edad</th>\n",
       "      <td>0.011047</td>\n",
       "    </tr>\n",
       "    <tr>\n",
       "      <th>SALDO_CART_CRED_9</th>\n",
       "      <td>0.010953</td>\n",
       "    </tr>\n",
       "    <tr>\n",
       "      <th>TOTALCOLOCACIONES_9</th>\n",
       "      <td>0.010869</td>\n",
       "    </tr>\n",
       "    <tr>\n",
       "      <th>N_AHORROS_A_8</th>\n",
       "      <td>0.010429</td>\n",
       "    </tr>\n",
       "    <tr>\n",
       "      <th>TOTALCAPTACIONES_4</th>\n",
       "      <td>0.009902</td>\n",
       "    </tr>\n",
       "    <tr>\n",
       "      <th>SALDO_CART_CRED_4</th>\n",
       "      <td>0.009900</td>\n",
       "    </tr>\n",
       "    <tr>\n",
       "      <th>Poblacion_Mpio</th>\n",
       "      <td>0.009765</td>\n",
       "    </tr>\n",
       "    <tr>\n",
       "      <th>TOTALCOLOCACIONES_2</th>\n",
       "      <td>0.009266</td>\n",
       "    </tr>\n",
       "    <tr>\n",
       "      <th>SALDO_CART_CRED_6</th>\n",
       "      <td>0.008987</td>\n",
       "    </tr>\n",
       "    <tr>\n",
       "      <th>SALDO_AHORROS_7</th>\n",
       "      <td>0.008761</td>\n",
       "    </tr>\n",
       "    <tr>\n",
       "      <th>SALDO_CART_CRED_2</th>\n",
       "      <td>0.008330</td>\n",
       "    </tr>\n",
       "    <tr>\n",
       "      <th>TOTALCAPTACIONES_5</th>\n",
       "      <td>0.008109</td>\n",
       "    </tr>\n",
       "    <tr>\n",
       "      <th>...</th>\n",
       "      <td>...</td>\n",
       "    </tr>\n",
       "    <tr>\n",
       "      <th>reestructuraciones_6</th>\n",
       "      <td>0.000000</td>\n",
       "    </tr>\n",
       "    <tr>\n",
       "      <th>reestructuraciones_4</th>\n",
       "      <td>0.000000</td>\n",
       "    </tr>\n",
       "    <tr>\n",
       "      <th>beneficios_LEC_4</th>\n",
       "      <td>0.000000</td>\n",
       "    </tr>\n",
       "    <tr>\n",
       "      <th>reestructuraciones_3</th>\n",
       "      <td>0.000000</td>\n",
       "    </tr>\n",
       "    <tr>\n",
       "      <th>beneficios_LEC_5</th>\n",
       "      <td>0.000000</td>\n",
       "    </tr>\n",
       "    <tr>\n",
       "      <th>beneficios_LEC_6</th>\n",
       "      <td>0.000000</td>\n",
       "    </tr>\n",
       "    <tr>\n",
       "      <th>Municipio_DANE_Olaya Herrera</th>\n",
       "      <td>0.000000</td>\n",
       "    </tr>\n",
       "    <tr>\n",
       "      <th>beneficios_LEC_7</th>\n",
       "      <td>0.000000</td>\n",
       "    </tr>\n",
       "    <tr>\n",
       "      <th>beneficios_LEC_8</th>\n",
       "      <td>0.000000</td>\n",
       "    </tr>\n",
       "    <tr>\n",
       "      <th>beneficios_LEC_9</th>\n",
       "      <td>0.000000</td>\n",
       "    </tr>\n",
       "    <tr>\n",
       "      <th>beneficios_LEC_10</th>\n",
       "      <td>0.000000</td>\n",
       "    </tr>\n",
       "    <tr>\n",
       "      <th>Profesion_INGENIERO COMERCIAL</th>\n",
       "      <td>0.000000</td>\n",
       "    </tr>\n",
       "    <tr>\n",
       "      <th>REC_propios_4</th>\n",
       "      <td>0.000000</td>\n",
       "    </tr>\n",
       "    <tr>\n",
       "      <th>NOMBRE_OFICINA_DIRECCION NACIONAL PROPIO</th>\n",
       "      <td>0.000000</td>\n",
       "    </tr>\n",
       "    <tr>\n",
       "      <th>NOMBRE_OFICINA_CURILLO</th>\n",
       "      <td>0.000000</td>\n",
       "    </tr>\n",
       "    <tr>\n",
       "      <th>REC_propios_6</th>\n",
       "      <td>0.000000</td>\n",
       "    </tr>\n",
       "    <tr>\n",
       "      <th>REC_propios_7</th>\n",
       "      <td>0.000000</td>\n",
       "    </tr>\n",
       "    <tr>\n",
       "      <th>REC_propios_8</th>\n",
       "      <td>0.000000</td>\n",
       "    </tr>\n",
       "    <tr>\n",
       "      <th>Municipio_DANE_Milán</th>\n",
       "      <td>0.000000</td>\n",
       "    </tr>\n",
       "    <tr>\n",
       "      <th>Municipio_DANE_Marulanda</th>\n",
       "      <td>0.000000</td>\n",
       "    </tr>\n",
       "    <tr>\n",
       "      <th>Municipio_DANE_Mariquita</th>\n",
       "      <td>0.000000</td>\n",
       "    </tr>\n",
       "    <tr>\n",
       "      <th>Municipio_DANE_Manatí</th>\n",
       "      <td>0.000000</td>\n",
       "    </tr>\n",
       "    <tr>\n",
       "      <th>REC_redescuento_8</th>\n",
       "      <td>0.000000</td>\n",
       "    </tr>\n",
       "    <tr>\n",
       "      <th>Municipio_DANE_López</th>\n",
       "      <td>0.000000</td>\n",
       "    </tr>\n",
       "    <tr>\n",
       "      <th>Municipio_DANE_Lérida</th>\n",
       "      <td>0.000000</td>\n",
       "    </tr>\n",
       "    <tr>\n",
       "      <th>Municipio_DANE_Los Córdobas</th>\n",
       "      <td>0.000000</td>\n",
       "    </tr>\n",
       "    <tr>\n",
       "      <th>REC_redescuento_9</th>\n",
       "      <td>0.000000</td>\n",
       "    </tr>\n",
       "    <tr>\n",
       "      <th>reestructuraciones_1</th>\n",
       "      <td>0.000000</td>\n",
       "    </tr>\n",
       "    <tr>\n",
       "      <th>reestructuraciones_2</th>\n",
       "      <td>0.000000</td>\n",
       "    </tr>\n",
       "    <tr>\n",
       "      <th>NOMBRE_OFICINA_SANTA BARBARA DE ISCUANDE</th>\n",
       "      <td>0.000000</td>\n",
       "    </tr>\n",
       "  </tbody>\n",
       "</table>\n",
       "<p>2468 rows × 1 columns</p>\n",
       "</div>"
      ],
      "text/plain": [
       "                                          importance\n",
       "TOTALCAPTACIONES_9                          0.055672\n",
       "TOTALCAPTACIONES_3                          0.047258\n",
       "TOTALCAPTACIONES_11                         0.032450\n",
       "TOTALCAPTACIONES_7                          0.031496\n",
       "SALDO_AHORROS_2                             0.024858\n",
       "N_AHORROS_A_1                               0.021967\n",
       "N_AHORROS_I_2                               0.020368\n",
       "TOTALCAPTACIONES_12                         0.018611\n",
       "N_AHORROS_A_6                               0.014584\n",
       "N_AHORROS_I_1                               0.014118\n",
       "N_AHORROS_I_12                              0.014117\n",
       "SALDO_AHORROS_A_12                          0.013811\n",
       "N_AHORROS_A_12                              0.013302\n",
       "N_AHORROS_A_9                               0.012294\n",
       "Tiempo_BAC                                  0.011802\n",
       "SALDO_AHORROS_A_7                           0.011670\n",
       "Activos                                     0.011488\n",
       "Egresos                                     0.011358\n",
       "Edad                                        0.011047\n",
       "SALDO_CART_CRED_9                           0.010953\n",
       "TOTALCOLOCACIONES_9                         0.010869\n",
       "N_AHORROS_A_8                               0.010429\n",
       "TOTALCAPTACIONES_4                          0.009902\n",
       "SALDO_CART_CRED_4                           0.009900\n",
       "Poblacion_Mpio                              0.009765\n",
       "TOTALCOLOCACIONES_2                         0.009266\n",
       "SALDO_CART_CRED_6                           0.008987\n",
       "SALDO_AHORROS_7                             0.008761\n",
       "SALDO_CART_CRED_2                           0.008330\n",
       "TOTALCAPTACIONES_5                          0.008109\n",
       "...                                              ...\n",
       "reestructuraciones_6                        0.000000\n",
       "reestructuraciones_4                        0.000000\n",
       "beneficios_LEC_4                            0.000000\n",
       "reestructuraciones_3                        0.000000\n",
       "beneficios_LEC_5                            0.000000\n",
       "beneficios_LEC_6                            0.000000\n",
       "Municipio_DANE_Olaya Herrera                0.000000\n",
       "beneficios_LEC_7                            0.000000\n",
       "beneficios_LEC_8                            0.000000\n",
       "beneficios_LEC_9                            0.000000\n",
       "beneficios_LEC_10                           0.000000\n",
       "Profesion_INGENIERO COMERCIAL               0.000000\n",
       "REC_propios_4                               0.000000\n",
       "NOMBRE_OFICINA_DIRECCION NACIONAL PROPIO    0.000000\n",
       "NOMBRE_OFICINA_CURILLO                      0.000000\n",
       "REC_propios_6                               0.000000\n",
       "REC_propios_7                               0.000000\n",
       "REC_propios_8                               0.000000\n",
       "Municipio_DANE_Milán                        0.000000\n",
       "Municipio_DANE_Marulanda                    0.000000\n",
       "Municipio_DANE_Mariquita                    0.000000\n",
       "Municipio_DANE_Manatí                       0.000000\n",
       "REC_redescuento_8                           0.000000\n",
       "Municipio_DANE_López                        0.000000\n",
       "Municipio_DANE_Lérida                       0.000000\n",
       "Municipio_DANE_Los Córdobas                 0.000000\n",
       "REC_redescuento_9                           0.000000\n",
       "reestructuraciones_1                        0.000000\n",
       "reestructuraciones_2                        0.000000\n",
       "NOMBRE_OFICINA_SANTA BARBARA DE ISCUANDE    0.000000\n",
       "\n",
       "[2468 rows x 1 columns]"
      ]
     },
     "execution_count": 51,
     "metadata": {},
     "output_type": "execute_result"
    }
   ],
   "source": [
    "feature_importances = pd.DataFrame(cfl.feature_importances_,\n",
    "                                   index = X_train.columns,\n",
    "                                    columns=['importance']).sort_values('importance', ascending=False)\n",
    "\n",
    "feature_importances"
   ]
  },
  {
   "cell_type": "code",
   "execution_count": 52,
   "metadata": {},
   "outputs": [],
   "source": [
    "#Exportamos a Excel las variables principales para analizarlas\n",
    "#writer = feature_importances.to_excel('feature_importances_80_20.xls')"
   ]
  },
  {
   "cell_type": "code",
   "execution_count": 53,
   "metadata": {},
   "outputs": [
    {
     "data": {
      "text/html": [
       "<div>\n",
       "<style scoped>\n",
       "    .dataframe tbody tr th:only-of-type {\n",
       "        vertical-align: middle;\n",
       "    }\n",
       "\n",
       "    .dataframe tbody tr th {\n",
       "        vertical-align: top;\n",
       "    }\n",
       "\n",
       "    .dataframe thead th {\n",
       "        text-align: right;\n",
       "    }\n",
       "</style>\n",
       "<table border=\"1\" class=\"dataframe\">\n",
       "  <thead>\n",
       "    <tr style=\"text-align: right;\">\n",
       "      <th></th>\n",
       "      <th>importance</th>\n",
       "    </tr>\n",
       "  </thead>\n",
       "  <tbody>\n",
       "    <tr>\n",
       "      <th>TOTALCAPTACIONES_9</th>\n",
       "      <td>0.055672</td>\n",
       "    </tr>\n",
       "    <tr>\n",
       "      <th>TOTALCAPTACIONES_3</th>\n",
       "      <td>0.047258</td>\n",
       "    </tr>\n",
       "    <tr>\n",
       "      <th>TOTALCAPTACIONES_11</th>\n",
       "      <td>0.032450</td>\n",
       "    </tr>\n",
       "    <tr>\n",
       "      <th>TOTALCAPTACIONES_7</th>\n",
       "      <td>0.031496</td>\n",
       "    </tr>\n",
       "    <tr>\n",
       "      <th>SALDO_AHORROS_2</th>\n",
       "      <td>0.024858</td>\n",
       "    </tr>\n",
       "    <tr>\n",
       "      <th>N_AHORROS_A_1</th>\n",
       "      <td>0.021967</td>\n",
       "    </tr>\n",
       "    <tr>\n",
       "      <th>N_AHORROS_I_2</th>\n",
       "      <td>0.020368</td>\n",
       "    </tr>\n",
       "    <tr>\n",
       "      <th>TOTALCAPTACIONES_12</th>\n",
       "      <td>0.018611</td>\n",
       "    </tr>\n",
       "    <tr>\n",
       "      <th>N_AHORROS_A_6</th>\n",
       "      <td>0.014584</td>\n",
       "    </tr>\n",
       "    <tr>\n",
       "      <th>N_AHORROS_I_1</th>\n",
       "      <td>0.014118</td>\n",
       "    </tr>\n",
       "    <tr>\n",
       "      <th>N_AHORROS_I_12</th>\n",
       "      <td>0.014117</td>\n",
       "    </tr>\n",
       "    <tr>\n",
       "      <th>SALDO_AHORROS_A_12</th>\n",
       "      <td>0.013811</td>\n",
       "    </tr>\n",
       "    <tr>\n",
       "      <th>N_AHORROS_A_12</th>\n",
       "      <td>0.013302</td>\n",
       "    </tr>\n",
       "    <tr>\n",
       "      <th>N_AHORROS_A_9</th>\n",
       "      <td>0.012294</td>\n",
       "    </tr>\n",
       "    <tr>\n",
       "      <th>Tiempo_BAC</th>\n",
       "      <td>0.011802</td>\n",
       "    </tr>\n",
       "    <tr>\n",
       "      <th>SALDO_AHORROS_A_7</th>\n",
       "      <td>0.011670</td>\n",
       "    </tr>\n",
       "    <tr>\n",
       "      <th>Activos</th>\n",
       "      <td>0.011488</td>\n",
       "    </tr>\n",
       "    <tr>\n",
       "      <th>Egresos</th>\n",
       "      <td>0.011358</td>\n",
       "    </tr>\n",
       "    <tr>\n",
       "      <th>Edad</th>\n",
       "      <td>0.011047</td>\n",
       "    </tr>\n",
       "    <tr>\n",
       "      <th>SALDO_CART_CRED_9</th>\n",
       "      <td>0.010953</td>\n",
       "    </tr>\n",
       "    <tr>\n",
       "      <th>TOTALCOLOCACIONES_9</th>\n",
       "      <td>0.010869</td>\n",
       "    </tr>\n",
       "    <tr>\n",
       "      <th>N_AHORROS_A_8</th>\n",
       "      <td>0.010429</td>\n",
       "    </tr>\n",
       "    <tr>\n",
       "      <th>TOTALCAPTACIONES_4</th>\n",
       "      <td>0.009902</td>\n",
       "    </tr>\n",
       "    <tr>\n",
       "      <th>SALDO_CART_CRED_4</th>\n",
       "      <td>0.009900</td>\n",
       "    </tr>\n",
       "    <tr>\n",
       "      <th>Poblacion_Mpio</th>\n",
       "      <td>0.009765</td>\n",
       "    </tr>\n",
       "    <tr>\n",
       "      <th>TOTALCOLOCACIONES_2</th>\n",
       "      <td>0.009266</td>\n",
       "    </tr>\n",
       "    <tr>\n",
       "      <th>SALDO_CART_CRED_6</th>\n",
       "      <td>0.008987</td>\n",
       "    </tr>\n",
       "    <tr>\n",
       "      <th>SALDO_AHORROS_7</th>\n",
       "      <td>0.008761</td>\n",
       "    </tr>\n",
       "    <tr>\n",
       "      <th>SALDO_CART_CRED_2</th>\n",
       "      <td>0.008330</td>\n",
       "    </tr>\n",
       "    <tr>\n",
       "      <th>TOTALCAPTACIONES_5</th>\n",
       "      <td>0.008109</td>\n",
       "    </tr>\n",
       "    <tr>\n",
       "      <th>...</th>\n",
       "      <td>...</td>\n",
       "    </tr>\n",
       "    <tr>\n",
       "      <th>DESEMBOLSO_TARJ_CRED_1</th>\n",
       "      <td>0.000611</td>\n",
       "    </tr>\n",
       "    <tr>\n",
       "      <th>Departamento_DANE_Nariño</th>\n",
       "      <td>0.000597</td>\n",
       "    </tr>\n",
       "    <tr>\n",
       "      <th>REGIONAL_COSTA</th>\n",
       "      <td>0.000587</td>\n",
       "    </tr>\n",
       "    <tr>\n",
       "      <th>SALDO_CTE_A_6</th>\n",
       "      <td>0.000585</td>\n",
       "    </tr>\n",
       "    <tr>\n",
       "      <th>SLD_VCDO_CART_CRED_5</th>\n",
       "      <td>0.000575</td>\n",
       "    </tr>\n",
       "    <tr>\n",
       "      <th>N_CART_CRED_11</th>\n",
       "      <td>0.000568</td>\n",
       "    </tr>\n",
       "    <tr>\n",
       "      <th>SALDO_TARJ_CRED_4</th>\n",
       "      <td>0.000564</td>\n",
       "    </tr>\n",
       "    <tr>\n",
       "      <th>SALDO_TARJ_CRED_12</th>\n",
       "      <td>0.000559</td>\n",
       "    </tr>\n",
       "    <tr>\n",
       "      <th>VALOR_CDT_6</th>\n",
       "      <td>0.000552</td>\n",
       "    </tr>\n",
       "    <tr>\n",
       "      <th>N_AHORROS_I_11</th>\n",
       "      <td>0.000547</td>\n",
       "    </tr>\n",
       "    <tr>\n",
       "      <th>Departamento_DANE_Cauca</th>\n",
       "      <td>0.000541</td>\n",
       "    </tr>\n",
       "    <tr>\n",
       "      <th>VALOR_CDT_2</th>\n",
       "      <td>0.000531</td>\n",
       "    </tr>\n",
       "    <tr>\n",
       "      <th>Departamento_DANE_Bogotá, D.C.</th>\n",
       "      <td>0.000531</td>\n",
       "    </tr>\n",
       "    <tr>\n",
       "      <th>Departamento_DANE_Cundinamarca</th>\n",
       "      <td>0.000524</td>\n",
       "    </tr>\n",
       "    <tr>\n",
       "      <th>VALOR_CDT_7</th>\n",
       "      <td>0.000524</td>\n",
       "    </tr>\n",
       "    <tr>\n",
       "      <th>N_AHORROS_A_10</th>\n",
       "      <td>0.000523</td>\n",
       "    </tr>\n",
       "    <tr>\n",
       "      <th>VALOR_CDT_9</th>\n",
       "      <td>0.000519</td>\n",
       "    </tr>\n",
       "    <tr>\n",
       "      <th>N_TARJ_CRED_3</th>\n",
       "      <td>0.000507</td>\n",
       "    </tr>\n",
       "    <tr>\n",
       "      <th>DESEMBOLSO_TARJ_CRED_3</th>\n",
       "      <td>0.000497</td>\n",
       "    </tr>\n",
       "    <tr>\n",
       "      <th>SALDO_TARJ_CRED_11</th>\n",
       "      <td>0.000495</td>\n",
       "    </tr>\n",
       "    <tr>\n",
       "      <th>Depende_Tercero_S</th>\n",
       "      <td>0.000489</td>\n",
       "    </tr>\n",
       "    <tr>\n",
       "      <th>N_TARJ_CRED_9</th>\n",
       "      <td>0.000487</td>\n",
       "    </tr>\n",
       "    <tr>\n",
       "      <th>N_AHORROS_I_7</th>\n",
       "      <td>0.000474</td>\n",
       "    </tr>\n",
       "    <tr>\n",
       "      <th>SALDO_TARJ_CRED_5</th>\n",
       "      <td>0.000466</td>\n",
       "    </tr>\n",
       "    <tr>\n",
       "      <th>ZONAL_BOGOTA</th>\n",
       "      <td>0.000460</td>\n",
       "    </tr>\n",
       "    <tr>\n",
       "      <th>DESEMBOLSO_TARJ_CRED_12</th>\n",
       "      <td>0.000456</td>\n",
       "    </tr>\n",
       "    <tr>\n",
       "      <th>SLD_VCDO_TARJ_CREDITO_2</th>\n",
       "      <td>0.000453</td>\n",
       "    </tr>\n",
       "    <tr>\n",
       "      <th>ZONAL_TUNJA</th>\n",
       "      <td>0.000452</td>\n",
       "    </tr>\n",
       "    <tr>\n",
       "      <th>ZONAL_BOYACA  DUITAMA</th>\n",
       "      <td>0.000448</td>\n",
       "    </tr>\n",
       "    <tr>\n",
       "      <th>N_CART_CRED_5</th>\n",
       "      <td>0.000442</td>\n",
       "    </tr>\n",
       "  </tbody>\n",
       "</table>\n",
       "<p>220 rows × 1 columns</p>\n",
       "</div>"
      ],
      "text/plain": [
       "                                importance\n",
       "TOTALCAPTACIONES_9                0.055672\n",
       "TOTALCAPTACIONES_3                0.047258\n",
       "TOTALCAPTACIONES_11               0.032450\n",
       "TOTALCAPTACIONES_7                0.031496\n",
       "SALDO_AHORROS_2                   0.024858\n",
       "N_AHORROS_A_1                     0.021967\n",
       "N_AHORROS_I_2                     0.020368\n",
       "TOTALCAPTACIONES_12               0.018611\n",
       "N_AHORROS_A_6                     0.014584\n",
       "N_AHORROS_I_1                     0.014118\n",
       "N_AHORROS_I_12                    0.014117\n",
       "SALDO_AHORROS_A_12                0.013811\n",
       "N_AHORROS_A_12                    0.013302\n",
       "N_AHORROS_A_9                     0.012294\n",
       "Tiempo_BAC                        0.011802\n",
       "SALDO_AHORROS_A_7                 0.011670\n",
       "Activos                           0.011488\n",
       "Egresos                           0.011358\n",
       "Edad                              0.011047\n",
       "SALDO_CART_CRED_9                 0.010953\n",
       "TOTALCOLOCACIONES_9               0.010869\n",
       "N_AHORROS_A_8                     0.010429\n",
       "TOTALCAPTACIONES_4                0.009902\n",
       "SALDO_CART_CRED_4                 0.009900\n",
       "Poblacion_Mpio                    0.009765\n",
       "TOTALCOLOCACIONES_2               0.009266\n",
       "SALDO_CART_CRED_6                 0.008987\n",
       "SALDO_AHORROS_7                   0.008761\n",
       "SALDO_CART_CRED_2                 0.008330\n",
       "TOTALCAPTACIONES_5                0.008109\n",
       "...                                    ...\n",
       "DESEMBOLSO_TARJ_CRED_1            0.000611\n",
       "Departamento_DANE_Nariño          0.000597\n",
       "REGIONAL_COSTA                    0.000587\n",
       "SALDO_CTE_A_6                     0.000585\n",
       "SLD_VCDO_CART_CRED_5              0.000575\n",
       "N_CART_CRED_11                    0.000568\n",
       "SALDO_TARJ_CRED_4                 0.000564\n",
       "SALDO_TARJ_CRED_12                0.000559\n",
       "VALOR_CDT_6                       0.000552\n",
       "N_AHORROS_I_11                    0.000547\n",
       "Departamento_DANE_Cauca           0.000541\n",
       "VALOR_CDT_2                       0.000531\n",
       "Departamento_DANE_Bogotá, D.C.    0.000531\n",
       "Departamento_DANE_Cundinamarca    0.000524\n",
       "VALOR_CDT_7                       0.000524\n",
       "N_AHORROS_A_10                    0.000523\n",
       "VALOR_CDT_9                       0.000519\n",
       "N_TARJ_CRED_3                     0.000507\n",
       "DESEMBOLSO_TARJ_CRED_3            0.000497\n",
       "SALDO_TARJ_CRED_11                0.000495\n",
       "Depende_Tercero_S                 0.000489\n",
       "N_TARJ_CRED_9                     0.000487\n",
       "N_AHORROS_I_7                     0.000474\n",
       "SALDO_TARJ_CRED_5                 0.000466\n",
       "ZONAL_BOGOTA                      0.000460\n",
       "DESEMBOLSO_TARJ_CRED_12           0.000456\n",
       "SLD_VCDO_TARJ_CREDITO_2           0.000453\n",
       "ZONAL_TUNJA                       0.000452\n",
       "ZONAL_BOYACA  DUITAMA             0.000448\n",
       "N_CART_CRED_5                     0.000442\n",
       "\n",
       "[220 rows x 1 columns]"
      ]
     },
     "execution_count": 53,
     "metadata": {},
     "output_type": "execute_result"
    }
   ],
   "source": [
    "# Con el factor 0.0007, separamos las variables más importantes\n",
    "df_new = feature_importances[feature_importances.importance>0.00044]\n",
    "df_new"
   ]
  },
  {
   "cell_type": "code",
   "execution_count": 54,
   "metadata": {},
   "outputs": [
    {
     "data": {
      "text/plain": [
       "(220, 1)"
      ]
     },
     "execution_count": 54,
     "metadata": {},
     "output_type": "execute_result"
    }
   ],
   "source": [
    "df_new.shape"
   ]
  },
  {
   "cell_type": "markdown",
   "metadata": {},
   "source": [
    "### 2.3. Implementación de modelos con base en las variables selecionadas "
   ]
  },
  {
   "cell_type": "markdown",
   "metadata": {},
   "source": [
    "Una vez se obtienen las variables de los modelos implementados para hacer reducción de dimensionalidad, se procede a implementar los algorítmos de los modelos de clasificación, en este caso se trabaja con las variables más importantes obtenidas del modelo de **Random Forest**. En un segundo paso se implementan los mismos modelos con el input del **PCA** y finalmente se evaluan."
   ]
  },
  {
   "cell_type": "markdown",
   "metadata": {},
   "source": [
    "**2.3.1.** Implementación de modelos con base en las variables más importantes obtenidas en el random forest"
   ]
  },
  {
   "cell_type": "code",
   "execution_count": 55,
   "metadata": {},
   "outputs": [],
   "source": [
    "# Separación de las variables independientes\n",
    "X_=datos_dum.loc[:,\n",
    "(\"TOTALCAPTACIONES_1\",\n",
    "\"TOTALCAPTACIONES_2\",\n",
    "\"TOTALCAPTACIONES_6\",\n",
    "\"TOTALCAPTACIONES_10\",\n",
    "\"Patrimonio\",\n",
    "\"TOTALCOLOCACIONES_4\",\n",
    "\"N_AHORROS_I_2\",\n",
    "\"SALDO_AHORROS_A_12\",\n",
    "\"TOTALCAPTACIONES_11\",\n",
    "\"TOTALCAPTACIONES_7\",\n",
    "\"SALDO_AHORROS_4\",\n",
    "\"SALDO_CART_CRED_2\",\n",
    "\"TOTALCOLOCACIONES_9\",\n",
    "\"SALDO_AHORROS_A_1\",\n",
    "\"SALDO_AHORROS_1\",\n",
    "\"SALDO_AHORROS_A_8\",\n",
    "\"SALDO_AHORROS_A_3\",\n",
    "\"Ingresos\",\n",
    "\"N_AHORROS_I_4\",\n",
    "\"Tiempo_BAC\",\n",
    "\"SALDO_AHORROS_A_5\",\n",
    "\"TOTALCOLOCACIONES_11\",\n",
    "\"TOTALCAPTACIONES_12\",\n",
    "\"N_AHORROS_I_1\",\n",
    "\"SALDO_AHORROS_A_2\",\n",
    "\"SALDO_CART_CRED_4\",\n",
    "\"Edad\",\n",
    "\"SALDO_CART_CRED_6\",\n",
    "\"Activos\",\n",
    "\"SALDO_AHORROS11\",\n",
    "\"N_AHORROS_I_9\",\n",
    "\"TOTALCOLOCACIONES_5\",\n",
    "\"SALDO_CART_CRED_3\",\n",
    "\"N_cred_Ahor_7\",\n",
    "\"N_AHORROS_I_7\",\n",
    "\"TOTALCOLOCACIONES_1\",\n",
    "\"SALDO_CART_CRED_1\",\n",
    "\"Egresos\",\n",
    "\"SEGURO_S\",\n",
    "\"TOTALCAPTACIONES_4\",\n",
    "\"TOTALCAPTACIONES_3\",\n",
    "\"SALDO_AHORROS_A_10\",\n",
    "\"TOTALCOLOCACIONES_7\",\n",
    "\"TOTALCAPTACIONES_9\",\n",
    "\"Poblacion_Mpio\",\n",
    "\"TOTALCOLOCACIONES_6\",\n",
    "\"TOTALCAPTACIONES_5\",\n",
    "\"SALDO_CART_CRED_12\",\n",
    "\"TOTALCOLOCACIONES_2\",\n",
    "\"SALDO_CART_CRED_10\",\n",
    "\"TOTALCOLOCACIONES_3\",\n",
    "\"SALDO_CART_CRED_7\",\n",
    "\"Competencia_Sin_Competencia\",\n",
    "\"TOTALCOLOCACIONES_8\",\n",
    "\"SALDO_CART_CRED_9\",\n",
    "\"TOTALCAPTACIONES_8\",\n",
    "\"Pasivos\",\n",
    "\"N_AHORROS_I_8\",\n",
    "\"TOTALCOLOCACIONES_12\",\n",
    "\"SALDO_CART_CRED_5\",\n",
    "\"N_CART_CRED_7\",\n",
    "\"SALDO_AHORROS_A_7\",\n",
    "\"TOTALCOLOCACIONES_10\",\n",
    "\"SALDO_CART_CRED_8\",\n",
    "\"N_AHORROS_A_5\",\n",
    "\"N_AHORROS_A_12\",\n",
    "\"N_AHORROS_A_1\",\n",
    "\"SALDO_CART_CRED_11\",\n",
    "\"N_AHORROS_I_3\",\n",
    "\"SEGURO_N\",\n",
    "\"VALOR_CDT_7\",\n",
    "\"SALDO_AHORROS_A_9\",\n",
    "\"SALDO_AHORROS_A_11\",\n",
    "\"N_AHORROS_A_4\",\n",
    "\"SALDO_AHORROS_A_6\",\n",
    "\"SLD_VCDO_CART_CRED_11\",\n",
    "\"SALDO_AHORROS_A_4\",\n",
    "\"N_Deb_Ahor_2\",\n",
    "\"banca_cliente_AGROPECUARIO\",\n",
    "\"N_CDT_12\",\n",
    "\"banca_cliente_PERSONAL\",\n",
    "\"N_Deb_Ahor_4\",\n",
    "\"SALDO_AHORROS_5\",\n",
    "\"VALOR_CDT_4\",\n",
    "\"N_AHORROS_A_11\",\n",
    "\"N_cred_Ahor_1\",\n",
    "\"SALDO_AHORROS_12\",\n",
    "\"N_Ahorro_Out_6\",\n",
    "\"VALOR_CDT_3\",\n",
    "\"N_AHORROS_A_3\",\n",
    "\"SLD_VCDO_CART_CRED_10\",\n",
    "\"N_Deb_Ahor_6\",\n",
    "\"SALDO_AHORROS_2\",\n",
    "\"N_Ahorro_Out_2\",\n",
    "\"SLD_VCDO_CART_CRED_12\",\n",
    "\"SALDO_AHORROS_9\",\n",
    "\"N_Deb_Ahor_12\",\n",
    "\"N_Deb_Ahor_1\",\n",
    "\"N_Deb_Ahor_5\",\n",
    "\"SLD_VCDO_CART_CRED_7\",\n",
    "\"N_Deb_Ahor_11\",\n",
    "\"N_Deb_Ahor_10\",\n",
    "\"N_Deb_Ahor_7\",\n",
    "\"SALDO_AHORROS_3\",\n",
    "\"Nivel_Educativo_BACHILLERATO\",\n",
    "\"N_Deb_Ahor_3\",\n",
    "\"SLD_VCDO_CART_CRED_2\",\n",
    "\"Competencia_Alta\",\n",
    "\"N_Deb_Ahor_9\",\n",
    "\"SLD_VCDO_CART_CRED_5\",\n",
    "\"SALDO_TARJ_CRED_3\",\n",
    "\"Ruralidad_Ciudades y aglomeraciones\",\n",
    "\"Nivel_Educativo_PRIMARIA\",\n",
    "\"Genero_F\",\n",
    "\"Estado_Civil_SOLTERO\",\n",
    "\"Genero_M\",\n",
    "\"N_CART_CRED_5\",\n",
    "\"N_cred_Ahor_9\",\n",
    "\"N_cred_Ahor_8\",\n",
    "\"N_AHORROS_A_2\",\n",
    "\"N_cred_Ahor_2\",\n",
    "\"SALDO_AHORROS_6\",\n",
    "\"N_Deb_Ahor_8\",\n",
    "\"N_cred_Ahor_3\",\n",
    "\"N_CART_CRED_6\",\n",
    "\"VALOR_CDT_12\",\n",
    "\"Estado_Civil_CASADO\",\n",
    "\"N_cred_Ahor_12\",\n",
    "\"Postconflicto_N\",\n",
    "\"N_cred_Ahor_11\",\n",
    "\"SLD_VCDO_CART_CRED_4\",\n",
    "\"N_cred_Ahor_4\",\n",
    "\"N_AHORROS_A_6\",\n",
    "\"N_CART_CRED_10\",\n",
    "\"SALDO_TARJ_CRED_1\",\n",
    "\"SALDO_AHORROS_8\",\n",
    "\"N_cred_Ahor_6\",\n",
    "\"N_cred_Ahor_5\",\n",
    "\"SALDO_AHORROS_7\",\n",
    "\"SLD_VCDO_CART_CRED_9\",\n",
    "\"VALOR_CDT_11\",\n",
    "\"N_cred_Ahor_10\",\n",
    "\"SLD_VCDO_CART_CRED_1\",\n",
    "\"Profesion_SIN PROFESION\",\n",
    "\"SLD_VCDO_CART_CRED_3\",\n",
    "\"N_TARJ_CRED_6\",\n",
    "\"N_TARJ_CRED_7\",\n",
    "\"Victima_N\",\n",
    "\"REGIONAL_BOGOTA\",\n",
    "\"N_TARJ_CRED_10\",\n",
    "\"N_AHORROS_I_12\",\n",
    "\"Ruralidad_Intermedio\",\n",
    "\"REGIONAL_ORIENTE\",\n",
    "\"Estado_Civil_UNION LIBRE\",\n",
    "\"SLD_VCDO_CART_CRED_8\",\n",
    "\"N_AHORROS_A_8\",\n",
    "\"N_CART_CRED_3\",\n",
    "\"Postconflicto_S\",\n",
    "\"N_CART_CRED_1\",\n",
    "\"Victima_S\",\n",
    "\"Profesion_AGRICULTOR\",\n",
    "\"Ruralidad_Rural\",\n",
    "\"Competencia_Baja\",\n",
    "\"SALDO_AHORROS_10\",\n",
    "\"SLD_VCDO_CART_CRED_6\",\n",
    "\"N_AHORROS_I_11\",\n",
    "\"Ruralidad_Rural disperso\",\n",
    "\"Nivel_Educativo_NINGUNO\",\n",
    "\"Nivel_Educativo_UNIVERSITARIO\",\n",
    "\"N_TARJ_CRED_9\",\n",
    "\"SALDO_TARJ_CRED_2\",\n",
    "\"REGIONAL_OCCIDENTE\",\n",
    "\"REGIONAL_SUR\",\n",
    "\"Departamento_DANE_Antioquia\",\n",
    "\"VALOR_CDT_10\",\n",
    "\"REGIONAL_ANTIOQUIA\",\n",
    "\"REGIONAL_CAFETERA\",\n",
    "\"VALOR_CDT_2\",\n",
    "\"Estado_Civil_VIUDO\",\n",
    "\"Estado_Civil_SEPARADO\",\n",
    "\"N_Ahorro_Out_1\",\n",
    "\"Competencia_Media\",\n",
    "\"N_CDT_1\",\n",
    "\"SALDO_TARJ_CRED_10\",\n",
    "\"Departamento_DANE_Valle del Cauca\",\n",
    "\"REGIONAL_SANTANDERES\",\n",
    "\"Depende_Tercero_N\",\n",
    "\"Nivel_Educativo_OTROS ESTUDIOS\",\n",
    "\"Departamento_DANE_Santander\",\n",
    "\"SALDO_CTE_A_10\",\n",
    "\"Departamento_DANE_Boyacá\",\n",
    "\"N_AHORROS_A_7\",\n",
    "\"VALOR_CDT_1\",\n",
    "\"ZONAL_VALLE\",\n",
    "\"VALOR_CDT_8\",\n",
    "\"Departamento_DANE_Cundinamarca\",\n",
    "\"N_AHORROS_I_6\",\n",
    "\"Departamento_DANE_Cauca\",\n",
    "\"N_AHORROS_A_9\",\n",
    "\"N_CART_CRED_9\",\n",
    "\"VALOR_CDT_5\",\n",
    "\"Departamento_DANE_Bogotá, D.C.\",\n",
    "\"SALDO_TARJ_CRED_12\",\n",
    "\"ZONAL_BUCARAMANGA  SANTANDERES\",\n",
    "\"Departamento_DANE_Huila\",\n",
    "\"VALOR_CDT_6\",\n",
    "\"SLD_VCDO_TARJ_CREDITO_1\",\n",
    "\"Depende_Tercero_S\",\n",
    "\"ZONAL_RISARALDA\",\n",
    "\"REGIONAL_COSTA\",\n",
    "\"N_AHORROS_I_5\",\n",
    "\"Departamento_DANE_Tolima\",\n",
    "\"ZONAL_BOGOTA\",\n",
    "\"ZONAL_TUNJA\",\n",
    "\"SALDO_TARJ_CRED_4\",\n",
    "\"DESEMBOLSO_TARJ_CRED_2\",\n",
    "\"VALOR_CDT_9\",\n",
    "\"Departamento_DANE_Caldas\",\n",
    "\"N_CART_CRED_2\")]"
   ]
  },
  {
   "cell_type": "markdown",
   "metadata": {},
   "source": [
    "### 2.3.2. Regresión Logística"
   ]
  },
  {
   "cell_type": "markdown",
   "metadata": {},
   "source": [
    "Una vez se obtienen las variables más importantes del modelo Random Forest, se utilizan como input para correr de nuevo el modelo de regresión logística."
   ]
  },
  {
   "cell_type": "code",
   "execution_count": 56,
   "metadata": {},
   "outputs": [],
   "source": [
    "# partición con las variables selecccionadas random forest\n",
    "X_train_, X_test_, y_train_, y_test_ = train_test_split(X_, y, test_size = .3, random_state=2)"
   ]
  },
  {
   "cell_type": "code",
   "execution_count": 57,
   "metadata": {},
   "outputs": [
    {
     "data": {
      "text/plain": [
       "((113340, 219), (48575, 219), (113340, 1), (48575, 1))"
      ]
     },
     "execution_count": 57,
     "metadata": {},
     "output_type": "execute_result"
    }
   ],
   "source": [
    "X_train_.shape, X_test_.shape, y_train_.shape, y_test_.shape"
   ]
  },
  {
   "cell_type": "code",
   "execution_count": 58,
   "metadata": {},
   "outputs": [
    {
     "name": "stderr",
     "output_type": "stream",
     "text": [
      "C:\\Users\\camiloto\\AppData\\Local\\Continuum\\anaconda3\\lib\\site-packages\\sklearn\\utils\\validation.py:578: DataConversionWarning: A column-vector y was passed when a 1d array was expected. Please change the shape of y to (n_samples, ), for example using ravel().\n",
      "  y = column_or_1d(y, warn=True)\n"
     ]
    },
    {
     "data": {
      "text/plain": [
       "LogisticRegression(C=1.0, class_weight=None, dual=False, fit_intercept=True,\n",
       "          intercept_scaling=1, max_iter=100, multi_class='ovr', n_jobs=1,\n",
       "          penalty='l2', random_state=None, solver='liblinear', tol=0.0001,\n",
       "          verbose=0, warm_start=False)"
      ]
     },
     "execution_count": 58,
     "metadata": {},
     "output_type": "execute_result"
    }
   ],
   "source": [
    "LogReg = LogisticRegression()\n",
    "LogReg.fit(X_train_, y_train_)"
   ]
  },
  {
   "cell_type": "code",
   "execution_count": 59,
   "metadata": {},
   "outputs": [],
   "source": [
    "y_pred_3 = LogReg.predict(X_test_)"
   ]
  },
  {
   "cell_type": "code",
   "execution_count": 60,
   "metadata": {},
   "outputs": [
    {
     "name": "stdout",
     "output_type": "stream",
     "text": [
      "             precision    recall  f1-score   support\n",
      "\n",
      "No abandono       0.81      1.00      0.89     39006\n",
      "Si abandono       0.60      0.02      0.04      9569\n",
      "\n",
      "avg / total       0.76      0.80      0.72     48575\n",
      "\n"
     ]
    }
   ],
   "source": [
    "print(classification_report(y_test_, y_pred_3, target_names=target_names))"
   ]
  },
  {
   "cell_type": "code",
   "execution_count": 61,
   "metadata": {
    "scrolled": true
   },
   "outputs": [
    {
     "data": {
      "text/plain": [
       "Text(0.5,1,'Confusion Matrix')"
      ]
     },
     "execution_count": 61,
     "metadata": {},
     "output_type": "execute_result"
    },
    {
     "data": {
      "image/png": "[encoded data removed]",
      "text/plain": [
       "<matplotlib.figure.Figure at 0x20b9cf6bd30>"
      ]
     },
     "metadata": {},
     "output_type": "display_data"
    }
   ],
   "source": [
    "plt.figure(figsize=(24,16))\n",
    "plt.subplot(221)\n",
    "sb.heatmap(confusion_matrix(y_test_,y_pred_3),annot=True,fmt = \"d\",linecolor=\"k\",linewidths=2)\n",
    "plt.title(\"Confusion Matrix\",fontsize=24,fontweight=\"bold\")"
   ]
  },
  {
   "cell_type": "markdown",
   "metadata": {},
   "source": [
    "## Métricas calculadas a partir de una matriz de confusión"
   ]
  },
  {
   "cell_type": "code",
   "execution_count": 62,
   "metadata": {},
   "outputs": [
    {
     "name": "stdout",
     "output_type": "stream",
     "text": [
      "---------------------------------Métricas modelo 2 **Random Forest** ------------------------------------------------\n",
      "Accuracy               = 0.8\n",
      "Classification Error   = 0.2\n",
      "Sensitivity            = 0.02\n",
      "Specificity            = 1.0\n",
      "False Positive Rate    = 0.02\n",
      "Precision              = 0.598\n"
     ]
    }
   ],
   "source": [
    "# save confusion matrix and slice into four pieces\n",
    "confusion = metrics.confusion_matrix(y_test, y_pred_3)\n",
    "TP = confusion[1, 1]\n",
    "TN = confusion[0, 0]\n",
    "FP = confusion[0, 1]\n",
    "FN = confusion[1, 0]\n",
    "\n",
    "### Cálculo de las métricas\n",
    "\n",
    "Accuracy= (\"Accuracy               = \"+str(round((TP + TN) / float(TP + TN + FP + FN),2)))\n",
    "\n",
    "Classification_Error = (\"Classification Error   = \"+str(round((FP + FN) / float(TP + TN + FP + FN),2)))\n",
    "\n",
    "Sensitivity = (\"Sensitivity            = \" +str(round(TP / float(TP + FN),2)))\n",
    "\n",
    "Specificity =(\"Specificity            = \" +str(round(TN / float(TN + FP),2)))\n",
    "\n",
    "Precision=(\"Precision              = \"+str  (round(TP / float(TP + FP),3)))\n",
    "\n",
    "print(\"---------------------------------Métricas modelo 2 **Random Forest** ------------------------------------------------\")\n",
    "print(Accuracy),print(Classification_Error), print(Sensitivity), print(Specificity), print(False_Positive_rate),\n",
    "print(Precision)"
   ]
  },
  {
   "cell_type": "markdown",
   "metadata": {},
   "source": [
    "### Análisis de los resultados del modelo de regresión logística con las variables más importantes del RF\n",
    "\n",
    "De acuerdo con los resultados de este primer modelo de **Regresión Logística** con todas las variables, se observa que, en general el modelo clasifica correctamente el 76% de los casos, sin embargo, el error de la clasificación es del 24%, en cuanto a la sensibilidad, el valor de casos positivos clasificados correctamente  es del 36%, mientras que la especificidad, es decir, los casos negativos que el modelo clasifica correctamente es del 94% y los casos negativos que son clasificados de forma erronea es del 7%."
   ]
  },
  {
   "cell_type": "code",
   "execution_count": 63,
   "metadata": {
    "scrolled": true
   },
   "outputs": [
    {
     "name": "stderr",
     "output_type": "stream",
     "text": [
      "C:\\Users\\camiloto\\AppData\\Local\\Continuum\\anaconda3\\lib\\site-packages\\sklearn\\linear_model\\base.py:340: RuntimeWarning: overflow encountered in exp\n",
      "  np.exp(prob, prob)\n"
     ]
    },
    {
     "data": {
      "image/png": "[encoded data removed]",
      "text/plain": [
       "<matplotlib.figure.Figure at 0x20b9ceb7ac8>"
      ]
     },
     "metadata": {},
     "output_type": "display_data"
    }
   ],
   "source": [
    "predicting_probabilites_2 = LogReg.predict_proba(X_test_)[:,1]\n",
    "fpr,tpr,thresholds = roc_curve(y_test, predicting_probabilites_2)\n",
    "#plot.subplot(222)\n",
    "plt.figure(figsize=(10,5))\n",
    "plt.plot(fpr,tpr,label = (\"Area_under the curve :\",round(auc(fpr,tpr),4)),color = \"r\")\n",
    "plt.plot([1,0],[1,0],linestyle = \"dashed\",color =\"b\")\n",
    "plt.legend(loc = \"best\")\n",
    "# show the plot\n",
    "plt.title('ROC curve for churn classifier - Logit con selección de variables')\n",
    "plt.xlabel('False Positive Rate (1 - Specificity)')\n",
    "plt.ylabel('True Positive Rate (Sensitivity)')\n",
    "plt.grid(True)\n",
    "pyplot.show()"
   ]
  },
  {
   "cell_type": "markdown",
   "metadata": {},
   "source": [
    "## **2.4.**   PCA"
   ]
  },
  {
   "cell_type": "markdown",
   "metadata": {},
   "source": [
    "A continuación, se implementa el modelo de análisis de componentes principales - **PCA**, acto seguido, se implementan los modelos de regresión logística y red neural con base en los componentes principales."
   ]
  },
  {
   "cell_type": "markdown",
   "metadata": {},
   "source": [
    "## Preparamos BD para PCA (Variables categoricas= 53)"
   ]
  },
  {
   "cell_type": "code",
   "execution_count": 64,
   "metadata": {},
   "outputs": [],
   "source": [
    "del datos['consecutivo']\n",
    "del datos['Target']\n",
    "del datos['banca_cliente']\n",
    "del datos['Depende_Tercero']\n",
    "del datos['Profesion']\n",
    "del datos['Estado_Civil']\n",
    "del datos['Nivel_Educativo']\n",
    "del datos['Genero']\n",
    "del datos['Victima']\n",
    "del datos['ZONAL']\n",
    "del datos['REGIONAL']\n",
    "del datos['Municipio_DANE']\n",
    "del datos['Departamento_DANE']\n",
    "del datos['Competencia']\n",
    "del datos['Ruralidad']\n",
    "del datos['Postconflicto']\n",
    "del datos['SEGURO']\n",
    "del datos['NOMBRE_OFICINA']\n",
    "del datos['FAG_1']\n",
    "del datos['FAG_2']\n",
    "del datos['FAG_3']\n",
    "del datos['FAG_4']\n",
    "del datos['FAG_5']\n",
    "del datos['FAG_6']\n",
    "del datos['FAG_7']\n",
    "del datos['FAG_8']\n",
    "del datos['FAG_9']\n",
    "del datos['FAG_10']\n",
    "del datos['FAG_11']\n",
    "del datos['FAG_12']\n",
    "del datos['hipoteca_1']\n",
    "del datos['hipoteca_2']\n",
    "del datos['hipoteca_3']\n",
    "del datos['hipoteca_4']\n",
    "del datos['hipoteca_5']\n",
    "del datos['hipoteca_6']\n",
    "del datos['hipoteca_7']\n",
    "del datos['hipoteca_8']\n",
    "del datos['hipoteca_9']\n",
    "del datos['hipoteca_10']\n",
    "del datos['hipoteca_11']\n",
    "del datos['hipoteca_12']\n",
    "del datos['CALIF_CART_CLIENTE_1']\n",
    "del datos['CALIF_CART_CLIENTE_2']\n",
    "del datos['CALIF_CART_CLIENTE_3']\n",
    "del datos['CALIF_CART_CLIENTE_4']\n",
    "del datos['CALIF_CART_CLIENTE_5']\n",
    "del datos['CALIF_CART_CLIENTE_6']\n",
    "del datos['CALIF_CART_CLIENTE_7']\n",
    "del datos['CALIF_CART_CLIENTE_8']\n",
    "del datos['CALIF_CART_CLIENTE_9']\n",
    "del datos['CALIF_CART_CLIENTE_10']\n",
    "del datos['CALIF_CART_CLIENTE_11']\n",
    "del datos['CALIF_CART_CLIENTE_12']\n"
   ]
  },
  {
   "cell_type": "code",
   "execution_count": 65,
   "metadata": {},
   "outputs": [
    {
     "data": {
      "text/plain": [
       "(161915, 632)"
      ]
     },
     "execution_count": 65,
     "metadata": {},
     "output_type": "execute_result"
    }
   ],
   "source": [
    "datos.shape"
   ]
  },
  {
   "cell_type": "markdown",
   "metadata": {},
   "source": [
    "### Se retiran variables con un unico valor, es decir, varianza igual a 0"
   ]
  },
  {
   "cell_type": "code",
   "execution_count": 66,
   "metadata": {
    "scrolled": true
   },
   "outputs": [
    {
     "data": {
      "text/plain": [
       "Beneficios_ICR_4         0.0\n",
       "Beneficios_ICR_5         0.0\n",
       "Beneficios_ICR_6         0.0\n",
       "Beneficios_ICR_7         0.0\n",
       "Beneficios_ICR_9         0.0\n",
       "reestructuraciones_1     0.0\n",
       "reestructuraciones_2     0.0\n",
       "reestructuraciones_3     0.0\n",
       "reestructuraciones_4     0.0\n",
       "reestructuraciones_5     0.0\n",
       "reestructuraciones_6     0.0\n",
       "reestructuraciones_7     0.0\n",
       "reestructuraciones_8     0.0\n",
       "reestructuraciones_9     0.0\n",
       "reestructuraciones_10    0.0\n",
       "reestructuraciones_11    0.0\n",
       "reestructuraciones_12    0.0\n",
       "dtype: float64"
      ]
     },
     "execution_count": 66,
     "metadata": {},
     "output_type": "execute_result"
    }
   ],
   "source": [
    "var=np.std(datos, 0)\n",
    "var2=var[var==0]\n",
    "(var2)\n",
    "#type(var2)"
   ]
  },
  {
   "cell_type": "code",
   "execution_count": 67,
   "metadata": {},
   "outputs": [],
   "source": [
    "del datos['TP_grande_1']\n",
    "del datos['TP_grande_3']\n",
    "del datos['TP_grande_4']\n",
    "del datos['TP_grande_5']\n",
    "del datos['TP_grande_8']\n",
    "del datos['TP_grande_9']\n",
    "del datos['TP_grande_10']\n",
    "del datos['TP_grande_11']\n",
    "\n",
    "del datos['Beneficios_ICR_2']\n",
    "del datos['Beneficios_ICR_6']\n",
    "del datos['Beneficios_ICR_7']\n",
    "del datos['Beneficios_ICR_10']\n",
    "del datos['Beneficios_ICR_12']\n",
    "\n",
    "del datos['reestructuraciones_1']\n",
    "del datos['reestructuraciones_2']\n",
    "del datos['reestructuraciones_3']\n",
    "del datos['reestructuraciones_4']\n",
    "del datos['reestructuraciones_5']\n",
    "del datos['reestructuraciones_6']\n",
    "del datos['reestructuraciones_7']\n",
    "del datos['reestructuraciones_8']\n",
    "del datos['reestructuraciones_9']\n",
    "del datos['reestructuraciones_10']\n",
    "del datos['reestructuraciones_11']\n",
    "del datos['reestructuraciones_12']\n"
   ]
  },
  {
   "cell_type": "code",
   "execution_count": 68,
   "metadata": {},
   "outputs": [
    {
     "data": {
      "text/plain": [
       "(161915, 607)"
      ]
     },
     "execution_count": 68,
     "metadata": {},
     "output_type": "execute_result"
    }
   ],
   "source": [
    "datos.shape"
   ]
  },
  {
   "cell_type": "code",
   "execution_count": 69,
   "metadata": {},
   "outputs": [
    {
     "data": {
      "text/plain": [
       "array([[ 2.09602035e-01,  2.12311915e-01,  2.15150861e-01, ...,\n",
       "        -3.30093286e-02, -2.13391670e-02, -2.61214104e-01],\n",
       "       [ 2.09602035e-01,  2.12311915e-01,  2.15150861e-01, ...,\n",
       "        -2.84744707e-02, -2.40306009e-02, -2.65804975e-01],\n",
       "       [-1.08622513e+00, -1.09032104e+00, -1.09423278e+00, ...,\n",
       "        -3.66932098e-02, -6.28803885e-02, -2.60953667e-01],\n",
       "       ...,\n",
       "       [ 2.09602035e-01,  2.12311915e-01,  2.15150861e-01, ...,\n",
       "        -3.66932098e-02, -8.05026119e-02, -2.33523766e-01],\n",
       "       [-1.08622513e+00, -1.09032104e+00, -1.09423278e+00, ...,\n",
       "        -3.66932098e-02, -1.28471791e-01, -2.66135677e-01],\n",
       "       [ 2.09602035e-01,  2.12311915e-01,  2.15150861e-01, ...,\n",
       "         1.45603011e-04, -2.57119272e-02, -2.64953400e-01]])"
      ]
     },
     "execution_count": 69,
     "metadata": {},
     "output_type": "execute_result"
    }
   ],
   "source": [
    "from sklearn.preprocessing import StandardScaler\n",
    "datos_std = StandardScaler().fit_transform(datos)\n",
    "datos_std"
   ]
  },
  {
   "cell_type": "code",
   "execution_count": 70,
   "metadata": {
    "scrolled": false
   },
   "outputs": [
    {
     "data": {
      "image/png": "[encoded data removed]",
      "text/plain": [
       "<matplotlib.figure.Figure at 0x20b9e40aa20>"
      ]
     },
     "metadata": {},
     "output_type": "display_data"
    }
   ],
   "source": [
    "#Explained variance\n",
    "from sklearn.decomposition import PCA\n",
    "pca = PCA().fit(datos_std)\n",
    "plt.figure(figsize=(12,5))\n",
    "plt.plot(np.cumsum(pca.explained_variance_ratio_))\n",
    "plt.title('PCA')\n",
    "plt.xlabel('Number of components',fontsize=10)\n",
    "plt.ylabel('Cumulative explained variance')\n",
    "plt.grid()\n",
    "plt.show()"
   ]
  },
  {
   "cell_type": "markdown",
   "metadata": {},
   "source": [
    "### Selección automática del número de factores que maximizan la sensibilidad"
   ]
  },
  {
   "cell_type": "code",
   "execution_count": 71,
   "metadata": {},
   "outputs": [],
   "source": [
    "a=datos.shape\n",
    "variables=a[1]\n",
    "var_Acum=np.cumsum(pca.explained_variance_ratio_)"
   ]
  },
  {
   "cell_type": "code",
   "execution_count": 72,
   "metadata": {},
   "outputs": [
    {
     "data": {
      "text/plain": [
       "[0.6, 0.65, 0.7, 0.75, 0.8, 0.85, 0.9, 0.95]"
      ]
     },
     "execution_count": 72,
     "metadata": {},
     "output_type": "execute_result"
    }
   ],
   "source": [
    "List = [0.6,0.65,0.7,0.75,0.8,0.85,0.9,0.95]\n",
    "#List = [0.1,0.6,0.95]\n",
    "List"
   ]
  },
  {
   "cell_type": "code",
   "execution_count": 73,
   "metadata": {},
   "outputs": [
    {
     "name": "stderr",
     "output_type": "stream",
     "text": [
      "C:\\Users\\camiloto\\AppData\\Local\\Continuum\\anaconda3\\lib\\site-packages\\sklearn\\utils\\validation.py:578: DataConversionWarning: A column-vector y was passed when a 1d array was expected. Please change the shape of y to (n_samples, ), for example using ravel().\n",
      "  y = column_or_1d(y, warn=True)\n"
     ]
    },
    {
     "name": "stdout",
     "output_type": "stream",
     "text": [
      "0\n",
      "['0.7']\n",
      "1\n",
      "['0.7', '0.76']\n",
      "2\n",
      "['0.7', '0.76', '0.77']\n",
      "3\n",
      "['0.7', '0.76', '0.77', '0.79']\n",
      "4\n",
      "['0.7', '0.76', '0.77', '0.79', '0.79']\n",
      "5\n",
      "['0.7', '0.76', '0.77', '0.79', '0.79', '0.79']\n",
      "6\n",
      "['0.7', '0.76', '0.77', '0.79', '0.79', '0.79', '0.79']\n",
      "7\n",
      "['0.7', '0.76', '0.77', '0.79', '0.79', '0.79', '0.79', '0.79']\n"
     ]
    }
   ],
   "source": [
    "yL=[]\n",
    "yL\n",
    "comp=[]\n",
    "comp\n",
    "vbles=[]\n",
    "vbles\n",
    "\n",
    "counter=0\n",
    "for i in range(0,len(List)):\n",
    "         \n",
    "    k=int(i)\n",
    "    var_Acum_2=var_Acum[var_Acum>List[k]]\n",
    "    b=var_Acum_2.shape\n",
    "    variables_2=b[0]\n",
    "    componentes=variables-variables_2\n",
    "      \n",
    "    \n",
    "    pca = PCA(n_components=componentes) \n",
    "    pca_comp = pca.fit_transform(datos_std) \n",
    "    \n",
    "    Factores=pd.DataFrame(pca_comp)\n",
    "    \n",
    "    xL=[]\n",
    "    xL\n",
    "    counter1=0  \n",
    "\n",
    "    for j in Factores[:]:\n",
    "        pre='Factor_'  \n",
    "        x= pre + str(j)\n",
    "        xL.append(x)\n",
    "        counter1=counter1+1\n",
    "        \n",
    "        \n",
    "    Factores.columns=xL  \n",
    "    \n",
    "# Se Crean Dummy\n",
    "    Var_Cat = pd.get_dummies(datos_)\n",
    "\n",
    "# Unión Tablas - 2.2\n",
    "    datos_PCA=pd.concat([Factores,Var_Cat,y],axis=1)\n",
    "    datos_PCA.drop(datos_PCA[datos_PCA.Factor_0.isnull()].index, inplace=True)\n",
    "    datos_PCA.drop(datos_PCA[datos_PCA.CALIF_CART_CLIENTE_12_N.isnull()].index, inplace=True)\n",
    "# MODELOS   \n",
    "    y=datos_PCA['Target']\n",
    "    y=pd.DataFrame(y)\n",
    "    del datos_PCA['Target']\n",
    "    \n",
    "    X_train, X_test, y_train, y_test = train_test_split(datos_PCA, y, test_size = .3, random_state=24)\n",
    "    \n",
    "# Regresión Logistica\n",
    "    LogReg = LogisticRegression()\n",
    "    LogReg.fit(X_train, y_train)\n",
    "    y_pred = LogReg.predict(X_test)\n",
    "    \n",
    "    confusion = metrics.confusion_matrix(y_test, y_pred)\n",
    "    TP = confusion[1, 1]\n",
    "    TN = confusion[0, 0]\n",
    "    FP = confusion[0, 1]\n",
    "    FN = confusion[1, 0]\n",
    "\n",
    "    Sensitivity = str(round(TP / float(TP + FN),2)) \n",
    "    \n",
    "    yL.append(Sensitivity)\n",
    "    vbles.append(variables)\n",
    "    comp.append(componentes)\n",
    "    print(k)\n",
    "    print(yL)\n",
    "    counter=counter+1"
   ]
  },
  {
   "cell_type": "code",
   "execution_count": 74,
   "metadata": {},
   "outputs": [
    {
     "data": {
      "text/plain": [
       "(         0\n",
       " 0.60   0.7\n",
       " 0.65  0.76\n",
       " 0.70  0.77\n",
       " 0.75  0.79\n",
       " 0.80  0.79\n",
       " 0.85  0.79\n",
       " 0.90  0.79\n",
       " 0.95  0.79,        0\n",
       " 607   50\n",
       " 607   69\n",
       " 607   92\n",
       " 607  120\n",
       " 607  149\n",
       " 607  181\n",
       " 607  216\n",
       " 607  267)"
      ]
     },
     "execution_count": 74,
     "metadata": {},
     "output_type": "execute_result"
    }
   ],
   "source": [
    "PCA_Recall_1=pd.DataFrame(yL,List)\n",
    "PCA_Recall_2=pd.DataFrame(comp,vbles)\n",
    "PCA_Recall_1,PCA_Recall_2"
   ]
  },
  {
   "cell_type": "markdown",
   "metadata": {},
   "source": [
    "De acuerdo con el procedimiento anterior, el parámetro óptimo para la selección del número de componentes principales es de **0.7**, sin embargo, a manera de experimento se realizaron las corridas con 0.75 y 0.80, de lo cual se observa que el rendimiento de los algotítmos mejora..... "
   ]
  },
  {
   "cell_type": "markdown",
   "metadata": {},
   "source": [
    "## Implementación de los modelos con base en el PCA"
   ]
  },
  {
   "cell_type": "code",
   "execution_count": 75,
   "metadata": {},
   "outputs": [],
   "source": [
    "a=datos.shape\n",
    "variables=a[1]\n",
    "var_Acum=np.cumsum(pca.explained_variance_ratio_)\n",
    "var_Acum_2=var_Acum[var_Acum>0.8]\n",
    "b=var_Acum_2.shape\n",
    "variables_2=b[0]\n",
    "componentes=variables-variables_2\n",
    "variables,componentes\n",
    "\n",
    "pca = PCA(n_components=componentes) \n",
    "pca_comp = pca.fit_transform(datos_std) \n",
    "    \n",
    "Factores=pd.DataFrame(pca_comp)\n",
    "    \n",
    "xL=[]\n",
    "xL\n",
    "\n",
    "for j in Factores[:]:\n",
    "        pre='Factor_'  \n",
    "        x= pre + str(j)\n",
    "        xL.append(x)\n",
    "        counter1=counter1+1\n",
    "        \n",
    "        \n",
    "Factores.columns=xL  \n",
    "    \n",
    "# Se Crean Dummy\n",
    "Var_Cat = pd.get_dummies(datos_)\n",
    "\n",
    "# Unión Tablas - 2.2\n",
    "datos_PCA=pd.concat([Factores,Var_Cat,y],axis=1)\n",
    "datos_PCA.drop(datos_PCA[datos_PCA.Factor_0.isnull()].index, inplace=True)\n",
    "datos_PCA.drop(datos_PCA[datos_PCA.CALIF_CART_CLIENTE_12_N.isnull()].index, inplace=True)\n",
    "\n",
    "# MODELOS   \n",
    "y=datos_PCA['Target']\n",
    "y=pd.DataFrame(y)\n",
    "del datos_PCA['Target']\n",
    "    \n",
    "X_train_, X_test_, y_train_, y_test_ = train_test_split(datos_PCA, y, test_size = .3, random_state=24)"
   ]
  },
  {
   "cell_type": "markdown",
   "metadata": {},
   "source": [
    "### 2.4.1. Regresión Logistica"
   ]
  },
  {
   "cell_type": "markdown",
   "metadata": {},
   "source": [
    "El siguiente paso en la metodología, es la implementación de los modelos de regresión logística y la red reuronal, teniendo como input los componentes principales - PCA"
   ]
  },
  {
   "cell_type": "code",
   "execution_count": 76,
   "metadata": {},
   "outputs": [
    {
     "name": "stderr",
     "output_type": "stream",
     "text": [
      "C:\\Users\\camiloto\\AppData\\Local\\Continuum\\anaconda3\\lib\\site-packages\\sklearn\\utils\\validation.py:578: DataConversionWarning: A column-vector y was passed when a 1d array was expected. Please change the shape of y to (n_samples, ), for example using ravel().\n",
      "  y = column_or_1d(y, warn=True)\n"
     ]
    },
    {
     "data": {
      "text/plain": [
       "LogisticRegression(C=1.0, class_weight=None, dual=False, fit_intercept=True,\n",
       "          intercept_scaling=1, max_iter=100, multi_class='ovr', n_jobs=1,\n",
       "          penalty='l2', random_state=None, solver='liblinear', tol=0.0001,\n",
       "          verbose=0, warm_start=False)"
      ]
     },
     "execution_count": 76,
     "metadata": {},
     "output_type": "execute_result"
    }
   ],
   "source": [
    "LogReg_2 = LogisticRegression()\n",
    "LogReg_2.fit(X_train_, y_train_)"
   ]
  },
  {
   "cell_type": "code",
   "execution_count": 77,
   "metadata": {},
   "outputs": [],
   "source": [
    "y_pred_RL2 = LogReg_2.predict(X_test_)"
   ]
  },
  {
   "cell_type": "code",
   "execution_count": 78,
   "metadata": {},
   "outputs": [
    {
     "name": "stdout",
     "output_type": "stream",
     "text": [
      "             precision    recall  f1-score   support\n",
      "\n",
      "No abandono       0.95      0.96      0.95     38914\n",
      "Si abandono       0.82      0.79      0.81      9659\n",
      "\n",
      "avg / total       0.92      0.92      0.92     48573\n",
      "\n"
     ]
    }
   ],
   "source": [
    "target_names = ['No abandono', 'Si abandono']\n",
    "print(classification_report(y_test_, y_pred_RL2, target_names=target_names))"
   ]
  },
  {
   "cell_type": "code",
   "execution_count": 79,
   "metadata": {},
   "outputs": [
    {
     "data": {
      "text/plain": [
       "Text(0.5,1,'Confusion Matrix')"
      ]
     },
     "execution_count": 79,
     "metadata": {},
     "output_type": "execute_result"
    },
    {
     "data": {
      "image/png": "[encoded data removed]",
      "text/plain": [
       "<matplotlib.figure.Figure at 0x20ba044e908>"
      ]
     },
     "metadata": {},
     "output_type": "display_data"
    }
   ],
   "source": [
    "plt.figure(figsize=(24,16))\n",
    "plt.subplot(221)\n",
    "sb.heatmap(confusion_matrix(y_test_,y_pred_RL2),annot=True,fmt = \"d\",linecolor=\"k\",linewidths=2)\n",
    "plt.title(\"Confusion Matrix\",fontsize=24,fontweight=\"bold\")"
   ]
  },
  {
   "cell_type": "markdown",
   "metadata": {},
   "source": [
    "## Métricas calculadas a partir de una matriz de confusión"
   ]
  },
  {
   "cell_type": "code",
   "execution_count": 80,
   "metadata": {
    "scrolled": true
   },
   "outputs": [
    {
     "name": "stdout",
     "output_type": "stream",
     "text": [
      "---------------------Métricas modelo 2 **Regresión Logística con PCA** ------------------------------------------------\n",
      "Accuracy               = 0.92\n",
      "Classification Error   = 0.08\n",
      "Sensitivity            = 0.79\n",
      "Specificity            = 0.96\n",
      "False Positive Rate    = 0.02\n",
      "Precision              = 0.822\n"
     ]
    }
   ],
   "source": [
    "# save confusion matrix and slice into four pieces\n",
    "confusion = metrics.confusion_matrix(y_test_, y_pred_RL2)\n",
    "TP = confusion[1, 1]\n",
    "TN = confusion[0, 0]\n",
    "FP = confusion[0, 1]\n",
    "FN = confusion[1, 0]\n",
    "\n",
    "### Cálculo de las métricas\n",
    "\n",
    "Accuracy= (\"Accuracy               = \"+str(round((TP + TN) / float(TP + TN + FP + FN),2)))\n",
    "\n",
    "Classification_Error = (\"Classification Error   = \"+str(round((FP + FN) / float(TP + TN + FP + FN),2)))\n",
    "\n",
    "Sensitivity = (\"Sensitivity            = \" +str(round(TP / float(TP + FN),2)))\n",
    "\n",
    "Specificity =(\"Specificity            = \" +str(round(TN / float(TN + FP),2)))\n",
    "\n",
    "Precision=(\"Precision              = \"+str  (round(TP / float(TP + FP),3)))\n",
    "\n",
    "print(\"---------------------Métricas modelo 2 **Regresión Logística con PCA** ------------------------------------------------\")\n",
    "print(Accuracy),print(Classification_Error), print(Sensitivity), print(Specificity), print(False_Positive_rate),\n",
    "print(Precision)"
   ]
  },
  {
   "cell_type": "code",
   "execution_count": 81,
   "metadata": {
    "scrolled": true
   },
   "outputs": [
    {
     "data": {
      "image/png": "[encoded data removed]",
      "text/plain": [
       "<matplotlib.figure.Figure at 0x20b9df1a668>"
      ]
     },
     "metadata": {},
     "output_type": "display_data"
    }
   ],
   "source": [
    "predicting_probabilites_3 = LogReg_2.predict_proba(X_test_)[:,1]\n",
    "fpr,tpr,thresholds = roc_curve(y_test, predicting_probabilites_3)\n",
    "#plot.subplot(222)\n",
    "plt.figure(figsize=(10,5))\n",
    "plt.plot(fpr,tpr,label = (\"Area_under the curve :\",round(auc(fpr,tpr),4)),color = \"r\")\n",
    "plt.plot([1,0],[1,0],linestyle = \"dashed\",color =\"b\")\n",
    "plt.legend(loc = \"best\")\n",
    "# show the plot\n",
    "plt.title('ROC curve for churn classifier - Logit Model - PCA')\n",
    "plt.xlabel('False Positive Rate (1 - Specificity)')\n",
    "plt.ylabel('True Positive Rate (Sensitivity)')\n",
    "plt.grid(True)\n",
    "pyplot.show()"
   ]
  },
  {
   "cell_type": "markdown",
   "metadata": {},
   "source": [
    "## 2.4.2. Neural network training in Keras"
   ]
  },
  {
   "cell_type": "markdown",
   "metadata": {},
   "source": [
    "El último modelo implementado es al red neuronal, el cual tiene como input los componentes principales, que mejoraron significativamente el modelo de regresión logística."
   ]
  },
  {
   "cell_type": "code",
   "execution_count": 82,
   "metadata": {},
   "outputs": [
    {
     "data": {
      "text/plain": [
       "(113337, 2325)"
      ]
     },
     "execution_count": 82,
     "metadata": {},
     "output_type": "execute_result"
    }
   ],
   "source": [
    "X_train_.shape[:]"
   ]
  },
  {
   "cell_type": "markdown",
   "metadata": {},
   "source": [
    "#### Modelo"
   ]
  },
  {
   "cell_type": "code",
   "execution_count": 83,
   "metadata": {},
   "outputs": [],
   "source": [
    "from keras.models import Sequential\n",
    "from keras.layers import Dense, Activation, Flatten, Dropout\n",
    "\n",
    "model = Sequential()\n",
    "model.add(Dense(64, input_shape= X_train_.shape[1:]))\n",
    "model.add(Activation('relu'))\n",
    "model.add(Dropout(0.5))\n",
    "\n",
    "#model.add(Dense(24))\n",
    "#model.add(Activation('relu'))\n",
    "#model.add(Dropout(0.5))\n",
    "\n",
    "model.add(Dense(units=1))\n",
    "model.add(Activation('sigmoid'))"
   ]
  },
  {
   "cell_type": "code",
   "execution_count": 84,
   "metadata": {
    "scrolled": true
   },
   "outputs": [
    {
     "name": "stdout",
     "output_type": "stream",
     "text": [
      "______________________________________________________________________\n",
      "Layer (type)                   Output Shape                Param #    \n",
      "======================================================================\n",
      "dense_1 (Dense)                (None, 64)                  148864     \n",
      "______________________________________________________________________\n",
      "activation_1 (Activation)      (None, 64)                  0          \n",
      "______________________________________________________________________\n",
      "dropout_1 (Dropout)            (None, 64)                  0          \n",
      "______________________________________________________________________\n",
      "dense_2 (Dense)                (None, 1)                   65         \n",
      "______________________________________________________________________\n",
      "activation_2 (Activation)      (None, 1)                   0          \n",
      "======================================================================\n",
      "Total params: 148,929\n",
      "Trainable params: 148,929\n",
      "Non-trainable params: 0\n",
      "______________________________________________________________________\n"
     ]
    }
   ],
   "source": [
    "model.summary(70)"
   ]
  },
  {
   "cell_type": "code",
   "execution_count": 85,
   "metadata": {},
   "outputs": [],
   "source": [
    "# Optimizers\n",
    "from keras.optimizers import Adam \n",
    "from keras.optimizers import RMSprop\n",
    "from keras.optimizers import Adamax\n",
    "from keras.optimizers import SGD\n",
    "from keras.optimizers import Nadam"
   ]
  },
  {
   "cell_type": "code",
   "execution_count": 86,
   "metadata": {},
   "outputs": [],
   "source": [
    "\n",
    "model.compile(loss = 'binary_crossentropy',\n",
    "              optimizer = RMSprop(lr=0.001), #decay=0.0),\n",
    "              metrics = ['accuracy'])"
   ]
  },
  {
   "cell_type": "code",
   "execution_count": 87,
   "metadata": {
    "scrolled": true
   },
   "outputs": [
    {
     "data": {
      "image/png": "[encoded data removed]",
      "text/plain": [
       "<matplotlib.figure.Figure at 0x20ba406f588>"
      ]
     },
     "metadata": {},
     "output_type": "display_data"
    },
    {
     "data": {
      "text/plain": [
       "<keras.callbacks.History at 0x20b9cce82e8>"
      ]
     },
     "execution_count": 87,
     "metadata": {},
     "output_type": "execute_result"
    }
   ],
   "source": [
    "\n",
    "model.fit(X_train_, y_train_, epochs=10, verbose=1,\n",
    "         validation_data = [X_train_, y_train_],callbacks=[PlotLossesKeras()])"
   ]
  },
  {
   "cell_type": "code",
   "execution_count": 88,
   "metadata": {
    "scrolled": true
   },
   "outputs": [],
   "source": [
    "y_pred_RN = model.predict(X_test_)\n",
    "y_pred_RN = (y_pred_RN> 0.5)\n",
    "#y_pred_RN"
   ]
  },
  {
   "cell_type": "code",
   "execution_count": 89,
   "metadata": {},
   "outputs": [
    {
     "name": "stdout",
     "output_type": "stream",
     "text": [
      "48573/48573 [==============================] - 3s 61us/step\n",
      "\n",
      "acc: 92.83%\n"
     ]
    }
   ],
   "source": [
    "# evaluamos y Predecimos\n",
    "scores = model.evaluate(X_test_, y_test_)\n",
    "print(\"\\n%s: %.2f%%\" % (model.metrics_names[1], scores[1]*100))"
   ]
  },
  {
   "cell_type": "code",
   "execution_count": 90,
   "metadata": {},
   "outputs": [
    {
     "name": "stdout",
     "output_type": "stream",
     "text": [
      "             precision    recall  f1-score   support\n",
      "\n",
      "No abandono       0.95      0.96      0.96     38914\n",
      "Si abandono       0.83      0.80      0.82      9659\n",
      "\n",
      "avg / total       0.93      0.93      0.93     48573\n",
      "\n"
     ]
    }
   ],
   "source": [
    "\n",
    "#cm = confusion_matrix(y_test, y_pred_2.round(), normalize=False)\n",
    "print(classification_report(y_test_, y_pred_RN, target_names=target_names))"
   ]
  },
  {
   "cell_type": "code",
   "execution_count": 91,
   "metadata": {},
   "outputs": [
    {
     "data": {
      "text/plain": [
       "Text(0.5,1,'Confusion Matrix')"
      ]
     },
     "execution_count": 91,
     "metadata": {},
     "output_type": "execute_result"
    },
    {
     "data": {
      "image/png": "[encoded data removed]",
      "text/plain": [
       "<matplotlib.figure.Figure at 0x20ba389ae80>"
      ]
     },
     "metadata": {},
     "output_type": "display_data"
    }
   ],
   "source": [
    "plt.figure(figsize=(24,16))\n",
    "plt.subplot(221)\n",
    "sb.heatmap(confusion_matrix(y_test_,y_pred_RN),annot=True,fmt = \"d\",linecolor=\"k\",linewidths=2)\n",
    "plt.title(\"Confusion Matrix\",fontsize=24,fontweight=\"bold\")"
   ]
  },
  {
   "cell_type": "markdown",
   "metadata": {},
   "source": [
    "## Métricas calculadas a partir de una matriz de confusión"
   ]
  },
  {
   "cell_type": "code",
   "execution_count": 92,
   "metadata": {
    "scrolled": true
   },
   "outputs": [
    {
     "name": "stdout",
     "output_type": "stream",
     "text": [
      "---------------------Métricas modelo 3 **Neural Network con PCA** ------------------------------------------------\n",
      "Accuracy               = 0.93\n",
      "Classification Error   = 0.07\n",
      "Sensitivity            = 0.8\n",
      "Specificity            = 0.96\n",
      "False Positive Rate    = 0.02\n",
      "Precision              = 0.834\n"
     ]
    }
   ],
   "source": [
    "# save confusion matrix and slice into four pieces\n",
    "confusion = metrics.confusion_matrix(y_test_, y_pred_RN)\n",
    "TP = confusion[1, 1]\n",
    "TN = confusion[0, 0]\n",
    "FP = confusion[0, 1]\n",
    "FN = confusion[1, 0]\n",
    "\n",
    "### Cálculo de las métricas\n",
    "\n",
    "Accuracy= (\"Accuracy               = \"+str(round((TP + TN) / float(TP + TN + FP + FN),2)))\n",
    "\n",
    "Classification_Error = (\"Classification Error   = \"+str(round((FP + FN) / float(TP + TN + FP + FN),2)))\n",
    "\n",
    "Sensitivity = (\"Sensitivity            = \" +str(round(TP / float(TP + FN),2)))\n",
    "\n",
    "Specificity =(\"Specificity            = \" +str(round(TN / float(TN + FP),2)))\n",
    "\n",
    "Precision=(\"Precision              = \"+str  (round(TP / float(TP + FP),3)))\n",
    "\n",
    "print(\"---------------------Métricas modelo 3 **Neural Network con PCA** ------------------------------------------------\")\n",
    "print(Accuracy),print(Classification_Error), print(Sensitivity), print(Specificity), print(False_Positive_rate),\n",
    "print(Precision)"
   ]
  },
  {
   "cell_type": "code",
   "execution_count": 93,
   "metadata": {},
   "outputs": [
    {
     "data": {
      "image/png": "[encoded data removed]",
      "text/plain": [
       "<matplotlib.figure.Figure at 0x20ba3e2db70>"
      ]
     },
     "metadata": {},
     "output_type": "display_data"
    }
   ],
   "source": [
    "predicting_probabilites_ = model.predict_proba(X_test_)[:]\n",
    "fpr,tpr,thresholds = roc_curve(y_test_, predicting_probabilites_)\n",
    "#plot.subplot(222)\n",
    "plt.figure(figsize=(10,5))\n",
    "plt.plot(fpr,tpr,label = (\"Area_under the curve :\",round(auc(fpr,tpr),4)),color = \"r\")\n",
    "plt.plot([1,0],[1,0],linestyle = \"dashed\",color =\"b\")\n",
    "plt.legend(loc = \"best\")\n",
    "# show the plot\n",
    "plt.title('ROC curve for churn classifier - Neural Network wiht PCA')\n",
    "plt.xlabel('False Positive Rate (1 - Specificity)')\n",
    "plt.ylabel('True Positive Rate (Sensitivity)')\n",
    "plt.grid(True)\n",
    "pyplot.show()"
   ]
  },
  {
   "cell_type": "markdown",
   "metadata": {},
   "source": [
    "\n",
    "Se puede ver cómo le red neuronal mejora en un punto el porcentaje de sensibilidad, pasando de 0.83 a 0.84, las demás métricas se mantienen, con esto podemos concluir que aunque se implementó una red neuronal, sencilla, con una capa, 64 neuronas, activación relu y salida sigmoide, los resultados son muy similares a los obtenidos por la regresión logística, además, la red neuronal tiene un costo más alto en cuanto al procesamiento, ya que el procesamiento del modelo tarda más de 10 veces que el de regresión logística.\n"
   ]
  },
  {
   "cell_type": "code",
   "execution_count": null,
   "metadata": {},
   "outputs": [],
   "source": []
  }
 ],
 "metadata": {
  "kernelspec": {
   "display_name": "Python 3",
   "language": "python",
   "name": "python3"
  },
  "language_info": {
   "codemirror_mode": {
    "name": "ipython",
    "version": 3
   },
   "file_extension": ".py",
   "mimetype": "text/x-python",
   "name": "python",
   "nbconvert_exporter": "python",
   "pygments_lexer": "ipython3",
   "version": "3.6.4"
  },
  "varInspector": {
   "cols": {
    "lenName": 16,
    "lenType": 16,
    "lenVar": 40
   },
   "kernels_config": {
    "python": {
     "delete_cmd_postfix": "",
     "delete_cmd_prefix": "del ",
     "library": "var_list.py",
     "varRefreshCmd": "print(var_dic_list())"
    },
    "r": {
     "delete_cmd_postfix": ") ",
     "delete_cmd_prefix": "rm(",
     "library": "var_list.r",
     "varRefreshCmd": "cat(var_dic_list()) "
    }
   },
   "types_to_exclude": [
    "module",
    "function",
    "builtin_function_or_method",
    "instance",
    "_Feature"
   ],
   "window_display": false
  }
 },
 "nbformat": 4,
 "nbformat_minor": 2
}
